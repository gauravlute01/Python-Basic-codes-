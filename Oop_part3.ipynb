{
 "cells": [
  {
   "cell_type": "markdown",
   "id": "431fee66-cff4-40bf-bada-515966d73a7f",
   "metadata": {},
   "source": [
    "Class Relationships\n",
    "- Aggregation\n",
    "- Inheritance\n"
   ]
  },
  {
   "cell_type": "markdown",
   "id": "930ee6f8-3daa-43b0-8923-fd514383b7fa",
   "metadata": {},
   "source": [
    "Aggregation(Has-A-ralationship)"
   ]
  },
  {
   "cell_type": "markdown",
   "id": "7713db02-239d-42af-b670-28418edc1230",
   "metadata": {},
   "source": [
    "Aggregation(Has-A-ralationship)"
   ]
  },
  {
   "cell_type": "code",
   "execution_count": 5,
   "id": "ea138dc7-f677-43c4-8ee7-347d1cae8121",
   "metadata": {},
   "outputs": [
    {
     "name": "stdout",
     "output_type": "stream",
     "text": [
      "gurgaon 122011 haryana\n",
      "mumbai 1111 maha\n"
     ]
    }
   ],
   "source": [
    "# Example\n",
    "class Customers:\n",
    "    def __init__(self, name, gender, address):\n",
    "        self.name = name\n",
    "        self.gender = gender\n",
    "        self.address = address\n",
    "    def print_address(self):\n",
    "        print(self.address._Address__city, self.address.pin, self.address.state)\n",
    "    def edit_profile(self, new_name, new_city, new_pin, new_state):\n",
    "        self.name = new_name\n",
    "        self.address.edit_address(new_city, new_pin, new_state)\n",
    "class Address:\n",
    "    def __init__(self,city, pin, state):\n",
    "        self.__city=city\n",
    "        self.pin = pin\n",
    "        self.state = state\n",
    "    def get_city(self):\n",
    "        return self.__city\n",
    "    def edit_address(self,new_city,new_pin,new_state):\n",
    "        self.__city=new_city\n",
    "        self.pin=new_pin\n",
    "        self.state=new_state\n",
    "    def get_city(self):\n",
    "        return self.__city\n",
    "    def edit_address(self, new_city, new_pin, new_state):\n",
    "        self.__city = new_city\n",
    "        self.pin = new_pin\n",
    "        self.state =  new_state\n",
    "add1 = Address('gurgaon', 122011, 'haryana')\n",
    "cust = Customers('nitish', \"male\", add1)\n",
    "\n",
    "cust.print_address()\n",
    "\n",
    "cust.edit_profile('ankit', \"mumbai\", 1111, 'maha')\n",
    "cust.print_address()\n",
    "        "
   ]
  },
  {
   "cell_type": "markdown",
   "id": "92734c51-1530-4bf0-add6-8cde9e299bea",
   "metadata": {},
   "source": [
    "Aggregation class diagram"
   ]
  },
  {
   "cell_type": "markdown",
   "id": "dd868edb-5530-4ff0-9421-89a8f7c5ad9d",
   "metadata": {},
   "source": [
    "Inheritance\n",
    "- What is inheritance\n",
    "- Example\n",
    "- What gets inherited?\n"
   ]
  },
  {
   "cell_type": "code",
   "execution_count": 7,
   "id": "31cdac97-e8cc-4b02-876f-03aa3472edd9",
   "metadata": {},
   "outputs": [
    {
     "name": "stdout",
     "output_type": "stream",
     "text": [
      "gaurav\n",
      "login\n",
      "Enroll into the course\n"
     ]
    }
   ],
   "source": [
    "# Inheritance and its benefits \n",
    "# parent\n",
    "class User:\n",
    "    def __init__(self):\n",
    "        self.name = 'gaurav'\n",
    "        self.gender = 'male'\n",
    "    def login(self):\n",
    "        print('login')\n",
    "# child\n",
    "class Student(User):\n",
    "    \n",
    "    def enroll(self):\n",
    "        print('Enroll into the course')\n",
    "u = User()\n",
    "s = Student()\n",
    "print(s.name)\n",
    "s.login()\n",
    "s.enroll()\n",
    "        "
   ]
  },
  {
   "cell_type": "code",
   "execution_count": 8,
   "id": "1c70ce11-e9fe-45e5-a110-858a65169bfb",
   "metadata": {},
   "outputs": [],
   "source": [
    "# class diagram"
   ]
  },
  {
   "cell_type": "markdown",
   "id": "9e698fce-55b6-4e68-bb3e-4a58530e1b53",
   "metadata": {},
   "source": [
    "What gets inherited?\n",
    "- Constructor\n",
    "- Non Private Attributes\n",
    "- Non Private Methods"
   ]
  },
  {
   "cell_type": "code",
   "execution_count": 9,
   "id": "12ed4cd6-74a0-44ea-96ff-e9ae0e05292c",
   "metadata": {},
   "outputs": [
    {
     "name": "stdout",
     "output_type": "stream",
     "text": [
      "Inside phone cunstructor\n",
      "Buying a phone\n"
     ]
    }
   ],
   "source": [
    "# constructor example\n",
    "class Phone:\n",
    "    def __init__(self, price, brand, camera):\n",
    "        print('Inside phone cunstructor')\n",
    "        self.price = price\n",
    "        self.brand = brand\n",
    "        self.camera = camera\n",
    "    def buy(self):\n",
    "        print('Buying a phone')\n",
    "class SmartPhone(Phone):\n",
    "    pass\n",
    "s = SmartPhone(20000, 'Apple', 13)\n",
    "s.buy()\n",
    "        "
   ]
  },
  {
   "cell_type": "code",
   "execution_count": 10,
   "id": "7e87c66c-68e4-49a2-8fbd-e2f92ce72747",
   "metadata": {},
   "outputs": [],
   "source": [
    "# Constructor example 2"
   ]
  },
  {
   "cell_type": "code",
   "execution_count": 11,
   "id": "fe6b1d64-4e6f-465a-bdbe-cf11d786e21b",
   "metadata": {},
   "outputs": [
    {
     "name": "stdout",
     "output_type": "stream",
     "text": [
      "Inside SmartPhone Constructor\n"
     ]
    },
    {
     "ename": "AttributeError",
     "evalue": "'SmartPhone' object has no attribute 'brand'",
     "output_type": "error",
     "traceback": [
      "\u001b[0;31m---------------------------------------------------------------------------\u001b[0m",
      "\u001b[0;31mAttributeError\u001b[0m                            Traceback (most recent call last)",
      "Cell \u001b[0;32mIn[11], line 13\u001b[0m\n\u001b[1;32m     11\u001b[0m         \u001b[38;5;28mprint\u001b[39m(\u001b[38;5;124m'\u001b[39m\u001b[38;5;124mInside SmartPhone Constructor\u001b[39m\u001b[38;5;124m'\u001b[39m)\n\u001b[1;32m     12\u001b[0m s\u001b[38;5;241m=\u001b[39m SmartPhone(\u001b[38;5;124m'\u001b[39m\u001b[38;5;124mAndroid\u001b[39m\u001b[38;5;124m'\u001b[39m, \u001b[38;5;241m2\u001b[39m)\n\u001b[0;32m---> 13\u001b[0m \u001b[43ms\u001b[49m\u001b[38;5;241;43m.\u001b[39;49m\u001b[43mbrand\u001b[49m\n",
      "\u001b[0;31mAttributeError\u001b[0m: 'SmartPhone' object has no attribute 'brand'"
     ]
    }
   ],
   "source": [
    "class Phone:\n",
    "    def __init__(self, price, brand, camera):\n",
    "        print('Inside phone constructor')\n",
    "        self.__price = price\n",
    "        self.brand = brand\n",
    "        self.camera = camera\n",
    "class SmartPhone(Phone):\n",
    "    def __init__(self, os, ram):\n",
    "        self.os = os\n",
    "        self.ram = ram\n",
    "        print('Inside SmartPhone Constructor')\n",
    "s= SmartPhone('Android', 2)\n",
    "s.brand"
   ]
  },
  {
   "cell_type": "code",
   "execution_count": 13,
   "id": "13340267-2e20-4e81-ba29-79351a009f5e",
   "metadata": {},
   "outputs": [
    {
     "name": "stdout",
     "output_type": "stream",
     "text": [
      "Inside phone constructor\n",
      "2000\n"
     ]
    }
   ],
   "source": [
    "# child can't access private members of the class\n",
    "class Phone:\n",
    "    def __init__(self, price, brand, camera):\n",
    "        print('Inside phone constructor')\n",
    "        self.__price = price\n",
    "        self.brand = brand\n",
    "        self.camera = camera\n",
    "    # getter \n",
    "    def show(self):\n",
    "        print(self.__price)\n",
    "class SmartPhone(Phone):\n",
    "    def check(self):\n",
    "        print(self.__price)\n",
    "s = SmartPhone(2000, \"Apple\", 13)\n",
    "s.show()"
   ]
  },
  {
   "cell_type": "code",
   "execution_count": 16,
   "id": "32a8aa06-7ead-4d74-b9c9-7ac56b74aeca",
   "metadata": {},
   "outputs": [
    {
     "name": "stdout",
     "output_type": "stream",
     "text": [
      "100\n",
      "This is a child class\n"
     ]
    }
   ],
   "source": [
    "class Parent:\n",
    "    def __init__(self, num):\n",
    "        self.__num = num\n",
    "    def get_num(self):\n",
    "        return self.__num\n",
    "class Child(Parent):\n",
    "    def show(self):\n",
    "        print('This is a child class')\n",
    "son = Child(100)\n",
    "print(son.get_num())\n",
    "son.show()"
   ]
  },
  {
   "cell_type": "code",
   "execution_count": 21,
   "id": "27d31fde-a2d1-4b43-84e9-6b40208ce0ea",
   "metadata": {},
   "outputs": [
    {
     "ename": "AttributeError",
     "evalue": "'Child' object has no attribute '_Parent__num'",
     "output_type": "error",
     "traceback": [
      "\u001b[0;31m---------------------------------------------------------------------------\u001b[0m",
      "\u001b[0;31mAttributeError\u001b[0m                            Traceback (most recent call last)",
      "Cell \u001b[0;32mIn[21], line 12\u001b[0m\n\u001b[1;32m     10\u001b[0m         \u001b[38;5;28;01mreturn\u001b[39;00m \u001b[38;5;28mself\u001b[39m\u001b[38;5;241m.\u001b[39m__val\n\u001b[1;32m     11\u001b[0m son \u001b[38;5;241m=\u001b[39m Child(\u001b[38;5;241m100\u001b[39m, \u001b[38;5;241m10\u001b[39m)\n\u001b[0;32m---> 12\u001b[0m \u001b[38;5;28mprint\u001b[39m(\u001b[38;5;124m\"\u001b[39m\u001b[38;5;124mParent: Num:\u001b[39m\u001b[38;5;124m\"\u001b[39m, \u001b[43mson\u001b[49m\u001b[38;5;241;43m.\u001b[39;49m\u001b[43mget_num\u001b[49m\u001b[43m(\u001b[49m\u001b[43m)\u001b[49m)\n\u001b[1;32m     13\u001b[0m \u001b[38;5;28mprint\u001b[39m(\u001b[38;5;124m'\u001b[39m\u001b[38;5;124mChild: val:\u001b[39m\u001b[38;5;124m'\u001b[39m, son\u001b[38;5;241m.\u001b[39mget_val())\n",
      "Cell \u001b[0;32mIn[21], line 5\u001b[0m, in \u001b[0;36mParent.get_num\u001b[0;34m(self)\u001b[0m\n\u001b[1;32m      4\u001b[0m \u001b[38;5;28;01mdef\u001b[39;00m \u001b[38;5;21mget_num\u001b[39m(\u001b[38;5;28mself\u001b[39m):\n\u001b[0;32m----> 5\u001b[0m     \u001b[38;5;28;01mreturn\u001b[39;00m \u001b[38;5;28;43mself\u001b[39;49m\u001b[38;5;241;43m.\u001b[39;49m\u001b[43m__num\u001b[49m\n",
      "\u001b[0;31mAttributeError\u001b[0m: 'Child' object has no attribute '_Parent__num'"
     ]
    }
   ],
   "source": [
    "class Parent :\n",
    "    def __init__(self, val,num):\n",
    "        self.__num = num\n",
    "    def get_num(self):\n",
    "        return self.__num\n",
    "class Child(Parent):\n",
    "    def __init__(self, val, num):\n",
    "        self.__val = val\n",
    "    def get_val(self):\n",
    "        return self.__val\n",
    "son = Child(100, 10)\n",
    "print(\"Parent: Num:\", son.get_num())\n",
    "print('Child: val:', son.get_val())\n",
    "    \n",
    "        "
   ]
  },
  {
   "cell_type": "code",
   "execution_count": 25,
   "id": "0757d699-d703-462f-93f4-d411c7145d9f",
   "metadata": {},
   "outputs": [
    {
     "name": "stdout",
     "output_type": "stream",
     "text": [
      "class A: 100\n"
     ]
    }
   ],
   "source": [
    "class A:\n",
    "    def __init__(self):\n",
    "        self.var1 = 100\n",
    "    def display1(self, var1):\n",
    "        print(\"class A:\", self.var1)\n",
    "class B(A):\n",
    "    def display2(self, var1):\n",
    "        print(\"class B :\", self.var1)\n",
    "obj = B()\n",
    "obj.display1(200)"
   ]
  },
  {
   "cell_type": "code",
   "execution_count": 27,
   "id": "f38b4af9-403a-49f8-8421-a14655b48373",
   "metadata": {},
   "outputs": [
    {
     "name": "stdout",
     "output_type": "stream",
     "text": [
      "Inside phone constructor\n",
      "Buying a smartphone\n"
     ]
    }
   ],
   "source": [
    "# Method Overriding \n",
    "class Phone:\n",
    "    def __init__(self, price, brand, camera):\n",
    "        print(\"Inside phone constructor\")\n",
    "        self.__price = price\n",
    "        self.brand = brand\n",
    "        self.camera = camera\n",
    "    def buy(self):\n",
    "        print('Buying a phone')\n",
    "class SmartPhone(Phone):\n",
    "    def buy(self):\n",
    "        print('Buying a smartphone')\n",
    "s = SmartPhone(29999, 'Apple', 13)\n",
    "s.buy()"
   ]
  },
  {
   "cell_type": "markdown",
   "id": "b20c21b0-06ed-4e23-8065-49f0aeaf52a6",
   "metadata": {},
   "source": [
    "# Super Keyword"
   ]
  },
  {
   "cell_type": "code",
   "execution_count": 30,
   "id": "f66b0e76-1aab-4c34-96b8-b531d02a5110",
   "metadata": {},
   "outputs": [
    {
     "name": "stdout",
     "output_type": "stream",
     "text": [
      "Inside Phone constructor\n",
      "Buying a smartphone\n",
      "Buying a phone\n"
     ]
    }
   ],
   "source": [
    "class Phone:\n",
    "    def __init__(self, price, brand, camera):\n",
    "        print(\"Inside Phone constructor\")\n",
    "        self.__price = price\n",
    "        self.brand = brand\n",
    "        self.camera = camera\n",
    "    def buy(self):\n",
    "        print('Buying a phone')\n",
    "class SmartPhone(Phone):\n",
    "    def buy(self):\n",
    "        print('Buying a smartphone')\n",
    "        super().buy()\n",
    "s = SmartPhone(2000, 'Apple', 13)\n",
    "s.buy()"
   ]
  },
  {
   "cell_type": "code",
   "execution_count": 35,
   "id": "fa783b2b-6d03-40aa-b542-c33dc6d059a7",
   "metadata": {},
   "outputs": [
    {
     "name": "stdout",
     "output_type": "stream",
     "text": [
      "Inside Phone constructor\n",
      "Buying a smartphone\n",
      "Buying a phone\n"
     ]
    }
   ],
   "source": [
    "# Using super outside the class \n",
    "class Phone:\n",
    "    def __init__(self, price, barand, camera):\n",
    "        print(\"Inside phone constructor\")\n",
    "        self.__price = price\n",
    "        self.brand = brand\n",
    "        self.camera = camera\n",
    "    def buy(self):\n",
    "        print('Buying a phone')\n",
    "class Smartphone(Phone):\n",
    "    def buy(self):\n",
    "        print(\"Buying a smartphone\")\n",
    "        # Syntax to call parent ka buy method\n",
    "        super().__init__(price, barand, camera)\n",
    "s = SmartPhone(2000, \"Apple\", 13)\n",
    "s.buy()"
   ]
  },
  {
   "cell_type": "markdown",
   "id": "666d876d-a95e-451f-ab63-402a615685dc",
   "metadata": {},
   "source": [
    "Inheritance in summary\n",
    "- A class can inherit from another class.\n",
    "\n",
    "- Inheritance improves code reuse\n",
    "\n",
    "- Constructor, attributes, methods get inherited to the child class\n",
    "\n",
    "- The parent has no access to the child class\n",
    "\n",
    "- Private properties of parent are not accessible directly in child class\n",
    "\n",
    "- Child class can override the attributes or methods. This is called method overriding\n",
    "\n",
    "- super() is an inbuilt function which is used to invoke the parent class methods and constructor"
   ]
  },
  {
   "cell_type": "code",
   "execution_count": 34,
   "id": "6fcd21b0-e42f-4db4-ac4b-d24f6f4dddfa",
   "metadata": {},
   "outputs": [
    {
     "name": "stdout",
     "output_type": "stream",
     "text": [
      "100\n",
      "200\n"
     ]
    }
   ],
   "source": [
    "class Parent:\n",
    "    def __init__(self, num):\n",
    "        self.__num = num\n",
    "    def get_num(self):\n",
    "        return self.__num\n",
    "class Child(Parent):\n",
    "    def __init__(self, num, val):\n",
    "        super().__init__(num)\n",
    "        self.__val=val\n",
    "    def get_val(self):\n",
    "        return self.__val\n",
    "son = Child(100, 200)\n",
    "print(son.get_num())\n",
    "print(son.get_val())"
   ]
  },
  {
   "cell_type": "code",
   "execution_count": 36,
   "id": "cea73917-88ef-4433-b0bf-7724999b0f3e",
   "metadata": {},
   "outputs": [
    {
     "name": "stdout",
     "output_type": "stream",
     "text": [
      "Child: 10\n"
     ]
    }
   ],
   "source": [
    "class Parent:\n",
    "    def __init__(self):\n",
    "        self.__num = 100\n",
    "    def show(self):\n",
    "        print(\"Parent\", self.__num)\n",
    "class Child(Parent):\n",
    "    def __init__(self):\n",
    "        super().__init__()\n",
    "        self.__var = 10\n",
    "    def show(self):\n",
    "        print(\"Child:\", self.__var)\n",
    "obj = Child()\n",
    "obj.show()"
   ]
  },
  {
   "cell_type": "code",
   "execution_count": 38,
   "id": "e0149183-5ead-49ea-8b88-c71996b8548a",
   "metadata": {},
   "outputs": [
    {
     "name": "stdout",
     "output_type": "stream",
     "text": [
      "Child 10\n"
     ]
    }
   ],
   "source": [
    "class Parent:\n",
    "    def __init__(self):\n",
    "        self.__num=100\n",
    "    def show(self):\n",
    "        print(\"parent:\", self.__num)\n",
    "class Child(Parent):\n",
    "    def __init__(self):\n",
    "        super().__init__()\n",
    "        self.__var=10\n",
    "    def show(self):\n",
    "        print(\"Child\",self.__var)\n",
    "obj = Child()\n",
    "obj.show()"
   ]
  },
  {
   "cell_type": "markdown",
   "id": "59a1ab91-3386-483a-bedc-92f2abc471fd",
   "metadata": {},
   "source": [
    "Types of Inheritance\n",
    "- Single Inheritance\n",
    "- Multilevel Inheritance\n",
    "- Hierarchical Inheritance\n",
    "- Multiple Inheritance(Diamond Problem)\n",
    "- Hybrid Inheritance"
   ]
  },
  {
   "cell_type": "code",
   "execution_count": 41,
   "id": "26aef62d-dfb7-456b-b71c-76c462f45e93",
   "metadata": {},
   "outputs": [
    {
     "name": "stdout",
     "output_type": "stream",
     "text": [
      "Inside phone constructor\n",
      "Buying a phone\n"
     ]
    }
   ],
   "source": [
    "# single inheritance \n",
    "class Phone:\n",
    "    def __init__(self, price, brand, camera):\n",
    "        print('Inside phone constructor')\n",
    "        self.__price = price\n",
    "        self.brand = brand\n",
    "        self.camera = camera\n",
    "    def buy(self):\n",
    "        print('Buying a phone')\n",
    "class SmartPhone(Phone):\n",
    "    pass\n",
    "SmartPhone(1000, 'Apple', '13px').buy()"
   ]
  },
  {
   "cell_type": "code",
   "execution_count": 43,
   "id": "939a8e99-931f-4225-b956-1c900317bf65",
   "metadata": {},
   "outputs": [
    {
     "name": "stdout",
     "output_type": "stream",
     "text": [
      "Inside phone constructor\n",
      "Buying a phone\n",
      "Product phone constructor\n"
     ]
    }
   ],
   "source": [
    "# Multilevel\n",
    "class Product:\n",
    "    def review(slef):\n",
    "        print('Product phone constructor')\n",
    "class Phone(Product):\n",
    "    def __init__(self, price, brand, camera):\n",
    "        print('Inside phone constructor')\n",
    "        self.__price = price\n",
    "        self.brand = brand\n",
    "        self.camera = camera\n",
    "    def buy(self):\n",
    "        print('Buying a phone')\n",
    "class SmartPhone(Phone):\n",
    "    pass\n",
    "s = SmartPhone(20000, 'Apple', 12)\n",
    "s.buy()\n",
    "s.review()"
   ]
  },
  {
   "cell_type": "code",
   "execution_count": 45,
   "id": "db0e495f-cc59-4676-860b-237209cfbf6b",
   "metadata": {},
   "outputs": [
    {
     "name": "stdout",
     "output_type": "stream",
     "text": [
      "Inside phone constructor\n",
      "Buying a phone\n",
      "Inside phone constructor\n",
      "Buying a phone\n"
     ]
    }
   ],
   "source": [
    "# Hierarchical \n",
    "class Phone:\n",
    "    def __init__(self, price, brand, camera):\n",
    "        print('Inside phone constructor')\n",
    "        self.__price = price\n",
    "        self.brand = brand\n",
    "        self.camera = camera\n",
    "    def buy(self):\n",
    "        print(\"Buying a phone\")\n",
    "class SmartPhone(Phone):\n",
    "    pass\n",
    "class FeaturePhone(Phone):\n",
    "    pass\n",
    "SmartPhone(100, \"Apple\",\"13px\").buy()\n",
    "FeaturePhone(10,'Lava', '1px').buy()"
   ]
  },
  {
   "cell_type": "code",
   "execution_count": 46,
   "id": "970388d2-b5f9-4ec0-a76a-330d76d665a5",
   "metadata": {},
   "outputs": [
    {
     "name": "stdout",
     "output_type": "stream",
     "text": [
      "Inside phone constructor\n",
      "Buying a phone\n",
      "Customer review\n"
     ]
    }
   ],
   "source": [
    "# Multiple\n",
    "class Phone:\n",
    "    def __init__(self, price, brand, camera):\n",
    "        print('Inside phone constructor')\n",
    "        self.__price = price\n",
    "        self.brand = brand\n",
    "        self.camera = camera\n",
    "    def buy(self):\n",
    "        print('Buying a phone')\n",
    "class Product:\n",
    "    def review(self):\n",
    "        print('Customer review')\n",
    "class SmartPhone(Phone, Product):\n",
    "    pass\n",
    "s = SmartPhone(20000, \"Apple\", 12)\n",
    "s.buy()\n",
    "s.review()"
   ]
  },
  {
   "cell_type": "code",
   "execution_count": 47,
   "id": "bfe16286-b46b-4c6f-b6b6-369be01ed4f5",
   "metadata": {},
   "outputs": [
    {
     "name": "stdout",
     "output_type": "stream",
     "text": [
      "Inside phone constructor\n",
      "Buying a phone\n"
     ]
    }
   ],
   "source": [
    "# the diamond problem \n",
    "class Phone:\n",
    "    def __init__(self, price, brand, camera):\n",
    "        print(\"Inside phone constructor\")\n",
    "        self.__price = price\n",
    "        self.brand = brand\n",
    "        self.camera = camera\n",
    "    def buy(self):\n",
    "        print('Buying a phone')\n",
    "class Product:\n",
    "    def buy(self):\n",
    "        print(\"Product buy method\")\n",
    "# Method resolution order \n",
    "class SmartPhone(Phone, Product):\n",
    "    pass\n",
    "s = SmartPhone(2000, \"Apple\", 12)\n",
    "s.buy()"
   ]
  },
  {
   "cell_type": "code",
   "execution_count": 49,
   "id": "46925ecb-240e-4316-b864-9a66498b47b7",
   "metadata": {},
   "outputs": [
    {
     "name": "stdout",
     "output_type": "stream",
     "text": [
      "70\n"
     ]
    }
   ],
   "source": [
    "class A:\n",
    "    def m1(self):\n",
    "        return 20\n",
    "class B(A):\n",
    "    def m1(self):\n",
    "        return 30\n",
    "    def m2(self):\n",
    "        return 40 \n",
    "class C(B):\n",
    "    def m2(self):\n",
    "        return 20\n",
    "obj1 = A()\n",
    "obj2 = B()\n",
    "obj3 = C()\n",
    "print(obj1.m1() + obj3.m1() + obj3.m2())"
   ]
  },
  {
   "cell_type": "markdown",
   "id": "a6d32c17-8c25-4a58-97fc-15d06f051f0c",
   "metadata": {},
   "source": [
    "Polymorphism\n",
    "- Method Overriding\n",
    "- Method Overloading\n",
    "- Operator Overloading"
   ]
  },
  {
   "cell_type": "code",
   "execution_count": 51,
   "id": "5f8b05b6-3c1c-48e3-a15a-ff22294e720f",
   "metadata": {},
   "outputs": [
    {
     "name": "stdout",
     "output_type": "stream",
     "text": [
      "12.56\n",
      "12\n"
     ]
    }
   ],
   "source": [
    "class Shape:\n",
    "    def area(self,a, b=0):\n",
    "        if b==0:\n",
    "            return 3.14*a*a\n",
    "        else:\n",
    "            return a*b\n",
    "s = Shape()\n",
    "print(s.area(2))\n",
    "print(s.area(3,4))"
   ]
  },
  {
   "cell_type": "code",
   "execution_count": 52,
   "id": "33020b8b-90e9-4ade-ba26-f9dfb89ed7bc",
   "metadata": {},
   "outputs": [
    {
     "data": {
      "text/plain": [
       "'helloworld'"
      ]
     },
     "execution_count": 52,
     "metadata": {},
     "output_type": "execute_result"
    }
   ],
   "source": [
    "'hello' + 'world'"
   ]
  },
  {
   "cell_type": "code",
   "execution_count": 53,
   "id": "4d483fec-e629-418e-a9d0-3cfc84edff10",
   "metadata": {},
   "outputs": [
    {
     "data": {
      "text/plain": [
       "9"
      ]
     },
     "execution_count": 53,
     "metadata": {},
     "output_type": "execute_result"
    }
   ],
   "source": [
    "4 + 5"
   ]
  },
  {
   "cell_type": "code",
   "execution_count": 54,
   "id": "c11d6ebf-905a-4758-b88c-c30fc809c521",
   "metadata": {},
   "outputs": [
    {
     "data": {
      "text/plain": [
       "[1, 2, 3, 4, 5]"
      ]
     },
     "execution_count": 54,
     "metadata": {},
     "output_type": "execute_result"
    }
   ],
   "source": [
    "[1,2,3] + [4,5]"
   ]
  },
  {
   "cell_type": "markdown",
   "id": "4812c89c-31c9-4e0f-bce0-0bf15370faf6",
   "metadata": {},
   "source": [
    "Abstraction"
   ]
  },
  {
   "cell_type": "code",
   "execution_count": 55,
   "id": "bcfc0440-0047-4cf8-b164-f2181f48c770",
   "metadata": {},
   "outputs": [],
   "source": [
    "from abc import ABC, abstractmethod\n",
    "class BankApp(ABC):\n",
    "    def database(self):\n",
    "        print('connected to database')\n",
    "    @abstractmethod\n",
    "    def security(self):\n",
    "        pass\n",
    "    @abstractmethod\n",
    "    def display(self):\n",
    "        pass"
   ]
  },
  {
   "cell_type": "code",
   "execution_count": 56,
   "id": "1ff6e87f-1a81-4913-bb9e-140276886a37",
   "metadata": {},
   "outputs": [],
   "source": [
    "class MobileApp(BankApp):\n",
    "    def mobile_login(self):\n",
    "        print('login into mobile')\n",
    "    def security(self):\n",
    "        print('Mobile security')\n",
    "    def display(self):\n",
    "        print('display')"
   ]
  },
  {
   "cell_type": "code",
   "execution_count": 57,
   "id": "060016f1-e6bc-4614-b450-633f6123d5ed",
   "metadata": {},
   "outputs": [],
   "source": [
    "mob = MobileApp()"
   ]
  },
  {
   "cell_type": "code",
   "execution_count": 58,
   "id": "59aa88d1-fc7c-4f53-86c1-1665f700c08c",
   "metadata": {
    "scrolled": true
   },
   "outputs": [
    {
     "name": "stdout",
     "output_type": "stream",
     "text": [
      "Mobile security\n"
     ]
    }
   ],
   "source": [
    "mob.security()"
   ]
  },
  {
   "cell_type": "code",
   "execution_count": 59,
   "id": "3bba02ef-4de6-4738-98cc-0fc63794fdd9",
   "metadata": {},
   "outputs": [
    {
     "ename": "TypeError",
     "evalue": "Can't instantiate abstract class BankApp with abstract methods display, security",
     "output_type": "error",
     "traceback": [
      "\u001b[0;31m---------------------------------------------------------------------------\u001b[0m",
      "\u001b[0;31mTypeError\u001b[0m                                 Traceback (most recent call last)",
      "Cell \u001b[0;32mIn[59], line 1\u001b[0m\n\u001b[0;32m----> 1\u001b[0m obj \u001b[38;5;241m=\u001b[39m \u001b[43mBankApp\u001b[49m\u001b[43m(\u001b[49m\u001b[43m)\u001b[49m\n",
      "\u001b[0;31mTypeError\u001b[0m: Can't instantiate abstract class BankApp with abstract methods display, security"
     ]
    }
   ],
   "source": [
    "obj = BankApp()"
   ]
  },
  {
   "cell_type": "code",
   "execution_count": null,
   "id": "f3c52c90-3e71-4afb-a4b0-7aecdc7d1a1b",
   "metadata": {},
   "outputs": [],
   "source": []
  },
  {
   "cell_type": "code",
   "execution_count": null,
   "id": "fbb3120b-7586-40e7-9fbf-a37c6f132722",
   "metadata": {},
   "outputs": [],
   "source": []
  },
  {
   "cell_type": "code",
   "execution_count": null,
   "id": "5ae6b691-65c2-4315-8891-00c36cbc0bb3",
   "metadata": {},
   "outputs": [],
   "source": []
  }
 ],
 "metadata": {
  "kernelspec": {
   "display_name": "Python 3 (ipykernel)",
   "language": "python",
   "name": "python3"
  },
  "language_info": {
   "codemirror_mode": {
    "name": "ipython",
    "version": 3
   },
   "file_extension": ".py",
   "mimetype": "text/x-python",
   "name": "python",
   "nbconvert_exporter": "python",
   "pygments_lexer": "ipython3",
   "version": "3.10.12"
  }
 },
 "nbformat": 4,
 "nbformat_minor": 5
}
