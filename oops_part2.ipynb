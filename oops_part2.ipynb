{
 "cells": [
  {
   "cell_type": "markdown",
   "id": "bccd4e22-6ba5-45a2-b707-9742b6b2b5c7",
   "metadata": {},
   "source": [
    "# Write Oops classes to handle the following scenario:\n",
    "- A User can create and view 2D co ordinates\n",
    "- A user can find out the distnace between 2 coordinate\n",
    "- A user can find the distance co ordiante from the origin\n",
    "- A user can check if a point lies on a given line\n",
    "- A user can find the distance between a given 2D point and a given line \n",
    "\n"
   ]
  },
  {
   "cell_type": "code",
   "execution_count": 4,
   "id": "b002235b-4654-4625-b892-18023a0348f7",
   "metadata": {},
   "outputs": [],
   "source": [
    "class Point:\n",
    "    def __init__(self,x,y):\n",
    "        self.x_cod = x\n",
    "        self.y_cod = y\n",
    "    def __str__(self):\n",
    "        return '<{},{}>'.format(self.x_cod, self.y_cod)\n",
    "    def euclidean_distance(self, other):\n",
    "        return ((self.x_cod - other.x_cod)**2 + (self.y_cod- other.y_cod)**2)\n",
    "    def distance_from_origin(self):\n",
    "        return (self.x_cod**2 + self.y_cod**2)**0,5\n",
    "class Line:\n",
    "    def __init__(self, A, B, C):\n",
    "        self.A = A\n",
    "        self.B = B\n",
    "        self.C = C\n",
    "    def __str__(self):\n",
    "        return '{}x + {}y + {}=0'.format(self.A, self.B, self.C)\n",
    "    def point_on_line(line,point):\n",
    "        if line.A*point.x_cod + line.B*point.y_cod + line.C == 0:\n",
    "            return 'lines on the line'\n",
    "        else:\n",
    "            return 'does not lie on the line'\n",
    "    def shortest_distance(line, point):\n",
    "        return abs(line.A*point.x_cod + line.B*point.y_cod + line.C)/(line.A**2 + line.B**2)**0.5\n",
    "        "
   ]
  },
  {
   "cell_type": "code",
   "execution_count": 6,
   "id": "ad489c11-1906-4c74-a9ac-6794c96c1a07",
   "metadata": {},
   "outputs": [
    {
     "name": "stdout",
     "output_type": "stream",
     "text": [
      "1x + 1y + -2=0\n",
      "<1,10>\n"
     ]
    },
    {
     "data": {
      "text/plain": [
       "6.363961030678928"
      ]
     },
     "execution_count": 6,
     "metadata": {},
     "output_type": "execute_result"
    }
   ],
   "source": [
    "l1 = Line(1,1,-2)\n",
    "p1 = Point(1,10)\n",
    "print(l1)\n",
    "print(p1)\n",
    "\n",
    "l1.shortest_distance(p1)"
   ]
  },
  {
   "cell_type": "markdown",
   "id": "536b428d-a1e6-41ad-8875-d62da62f56db",
   "metadata": {
    "jp-MarkdownHeadingCollapsed": true
   },
   "source": [
    "# How objects access attributes"
   ]
  },
  {
   "cell_type": "code",
   "execution_count": 9,
   "id": "d5b2f810-c146-4fd6-bf54-14dfd5089b9e",
   "metadata": {},
   "outputs": [],
   "source": [
    "class Person:\n",
    "    def __init__(self,name_input, country_input):\n",
    "        self.name = name_input\n",
    "        self.country = country_input\n",
    "    def greet(self):\n",
    "        if self.country == 'india':\n",
    "            print('Namste', self.name)\n",
    "        else:\n",
    "            print('Hello', self.name)\n"
   ]
  },
  {
   "cell_type": "code",
   "execution_count": 10,
   "id": "a95f2b1c-cb98-4091-85aa-9e2592e1ca41",
   "metadata": {},
   "outputs": [],
   "source": [
    "# How to access attributes \n",
    "p = Person('nitish', 'india')"
   ]
  },
  {
   "cell_type": "code",
   "execution_count": 12,
   "id": "fce9eafe-aa19-4ad5-8ec3-2c83cf5f055e",
   "metadata": {},
   "outputs": [
    {
     "data": {
      "text/plain": [
       "'nitish'"
      ]
     },
     "execution_count": 12,
     "metadata": {},
     "output_type": "execute_result"
    }
   ],
   "source": [
    "p.name"
   ]
  },
  {
   "cell_type": "code",
   "execution_count": 13,
   "id": "95d70709-b0f7-4c35-a1b0-13cffa5efcec",
   "metadata": {},
   "outputs": [
    {
     "name": "stdout",
     "output_type": "stream",
     "text": [
      "Namste nitish\n"
     ]
    }
   ],
   "source": [
    "# how to access methods \n",
    "p.greet()"
   ]
  },
  {
   "cell_type": "code",
   "execution_count": 14,
   "id": "8fd70311-e69e-41fe-8937-30d17f04af34",
   "metadata": {},
   "outputs": [
    {
     "ename": "AttributeError",
     "evalue": "'Person' object has no attribute 'gender'",
     "output_type": "error",
     "traceback": [
      "\u001b[0;31m---------------------------------------------------------------------------\u001b[0m",
      "\u001b[0;31mAttributeError\u001b[0m                            Traceback (most recent call last)",
      "Cell \u001b[0;32mIn[14], line 2\u001b[0m\n\u001b[1;32m      1\u001b[0m \u001b[38;5;66;03m# what if i try to access non-existent attributes \u001b[39;00m\n\u001b[0;32m----> 2\u001b[0m \u001b[43mp\u001b[49m\u001b[38;5;241;43m.\u001b[39;49m\u001b[43mgender\u001b[49m\n",
      "\u001b[0;31mAttributeError\u001b[0m: 'Person' object has no attribute 'gender'"
     ]
    }
   ],
   "source": [
    "# what if i try to access non-existent attributes \n",
    "p.gender"
   ]
  },
  {
   "cell_type": "markdown",
   "id": "83e03a52-9dc1-4e36-afd5-65eb6fa00086",
   "metadata": {},
   "source": [
    "# Attributes creation from outside of the class"
   ]
  },
  {
   "cell_type": "code",
   "execution_count": 15,
   "id": "0c73637b-1be9-44ae-942b-7dd73dea9af5",
   "metadata": {},
   "outputs": [],
   "source": [
    "p.gender = 'male'"
   ]
  },
  {
   "cell_type": "code",
   "execution_count": 16,
   "id": "2660d1b6-1e15-4a1f-a6f6-2dd568a3d86f",
   "metadata": {},
   "outputs": [
    {
     "data": {
      "text/plain": [
       "'male'"
      ]
     },
     "execution_count": 16,
     "metadata": {},
     "output_type": "execute_result"
    }
   ],
   "source": [
    "p.gender"
   ]
  },
  {
   "cell_type": "markdown",
   "id": "13920ae1-fcce-47c9-9ca3-daf8d161e678",
   "metadata": {},
   "source": [
    "# Reference Variables\n",
    "- Reference variables hold the objects\n",
    "- We can create objects without reference variable as well\n",
    "- An objects can have multiple refrences references variable s\n",
    "- Assigning a new references variable"
   ]
  },
  {
   "cell_type": "code",
   "execution_count": 18,
   "id": "d446c92f-31cc-4d63-aba1-c532d5d51296",
   "metadata": {},
   "outputs": [],
   "source": [
    "# object without a reference\n",
    "class Person:\n",
    "\n",
    "  def __init__(self):\n",
    "    self.name = 'nitish'\n",
    "    self.gender = 'male'\n",
    "\n",
    "p = Person()\n",
    "q = p"
   ]
  },
  {
   "cell_type": "code",
   "execution_count": 19,
   "id": "68aa7574-0cd1-4587-bcf2-724174a86bc3",
   "metadata": {},
   "outputs": [
    {
     "name": "stdout",
     "output_type": "stream",
     "text": [
      "139824741140464\n",
      "139824741140464\n"
     ]
    }
   ],
   "source": [
    "# Multiple ref\n",
    "print(id(p))\n",
    "print(id(q))"
   ]
  },
  {
   "cell_type": "code",
   "execution_count": 20,
   "id": "2f265558-8f41-44d5-bfea-8836239b3f9c",
   "metadata": {},
   "outputs": [
    {
     "name": "stdout",
     "output_type": "stream",
     "text": [
      "nitish\n",
      "nitish\n",
      "ankit\n",
      "ankit\n"
     ]
    }
   ],
   "source": [
    "print(p.name)\n",
    "print(q.name)\n",
    "q.name = 'ankit'\n",
    "print(q.name)\n",
    "print(p.name)"
   ]
  },
  {
   "cell_type": "markdown",
   "id": "d24fcb0e-eb20-4c9e-a7c6-ddefe5db1adb",
   "metadata": {},
   "source": [
    "# Pass by reference"
   ]
  },
  {
   "cell_type": "code",
   "execution_count": 24,
   "id": "8df138e1-af86-4acc-995d-cbaa68bcfc9f",
   "metadata": {},
   "outputs": [
    {
     "name": "stdout",
     "output_type": "stream",
     "text": [
      "Hi my name is nitish and I am a male\n",
      "ankit\n",
      "male\n"
     ]
    }
   ],
   "source": [
    "class Person:\n",
    "    def __init__(self,name,gender):\n",
    "        self.name = name\n",
    "        self.gender = gender\n",
    "# outside the class -> function\n",
    "def greet(person):\n",
    "    print('Hi my name is',person.name,'and I am a',person.gender)\n",
    "    p1 = Person('ankit','male')\n",
    "    return p1\n",
    "\n",
    "p = Person('nitish','male')\n",
    "x = greet(p)\n",
    "print(x.name)\n",
    "print(x.gender)"
   ]
  },
  {
   "cell_type": "markdown",
   "id": "d4c63172-21fc-4862-83b8-5add38c3a615",
   "metadata": {},
   "source": [
    "# Object ki mutability"
   ]
  },
  {
   "cell_type": "code",
   "execution_count": 25,
   "id": "ade63336-03da-4416-9df3-fb2695b61a2c",
   "metadata": {},
   "outputs": [
    {
     "name": "stdout",
     "output_type": "stream",
     "text": [
      "139824382690064\n",
      "139824382690064\n"
     ]
    }
   ],
   "source": [
    "class Person:\n",
    "\n",
    "  def __init__(self,name,gender):\n",
    "    self.name = name\n",
    "    self.gender = gender\n",
    "\n",
    "# outside the class -> function\n",
    "def greet(person):\n",
    "  person.name = 'ankit'\n",
    "  return person\n",
    "\n",
    "p = Person('nitish','male')\n",
    "print(id(p))\n",
    "p1 = greet(p)\n",
    "print(id(p1))"
   ]
  },
  {
   "cell_type": "markdown",
   "id": "43b2438e-ad96-449d-8cd8-cac2c5bcf20a",
   "metadata": {},
   "source": [
    "# Encapsulation"
   ]
  },
  {
   "cell_type": "code",
   "execution_count": 26,
   "id": "be7e51c1-3e5a-4b8f-9f7f-08ea3fb2b0b4",
   "metadata": {},
   "outputs": [],
   "source": [
    "# instance var -> python tutor \n",
    "class Person:\n",
    "    def __init__(self, name_input, country_input):\n",
    "        self.name = name_input\n",
    "        self.country= country_input\n",
    "p1 = Person('nitish','india')\n",
    "p2 = Person('steve','australia')"
   ]
  },
  {
   "cell_type": "code",
   "execution_count": 27,
   "id": "e3c9cead-20eb-403e-abaa-6e45d0270232",
   "metadata": {},
   "outputs": [
    {
     "data": {
      "text/plain": [
       "'steve'"
      ]
     },
     "execution_count": 27,
     "metadata": {},
     "output_type": "execute_result"
    }
   ],
   "source": [
    "p2.name"
   ]
  },
  {
   "cell_type": "markdown",
   "id": "947d302e-73e3-4dcf-9f03-41a77c60f128",
   "metadata": {},
   "source": [
    "# collection of objects "
   ]
  },
  {
   "cell_type": "code",
   "execution_count": 28,
   "id": "430fbdd3-04da-4631-86c6-7727d56d7a7f",
   "metadata": {},
   "outputs": [
    {
     "name": "stdout",
     "output_type": "stream",
     "text": [
      "nitish male\n",
      "ankit male\n",
      "ankita female\n"
     ]
    }
   ],
   "source": [
    "# list of objects\n",
    "class Person:\n",
    "    def __init__(self, name, gender):\n",
    "        self.name = name\n",
    "        self.gender = gender\n",
    "p1 = Person('nitish','male')\n",
    "p2 = Person('ankit','male')\n",
    "p3 = Person('ankita','female')\n",
    "\n",
    "L = [p1,p2,p3]\n",
    "for i in L:\n",
    "    print(i.name, i.gender)"
   ]
  },
  {
   "cell_type": "code",
   "execution_count": 29,
   "id": "4777c6ff-48eb-47b8-bc1d-0d22384610d1",
   "metadata": {},
   "outputs": [
    {
     "name": "stdout",
     "output_type": "stream",
     "text": [
      "male\n",
      "male\n",
      "female\n"
     ]
    }
   ],
   "source": [
    "# dict of objects\n",
    "# list of objects\n",
    "class Person:\n",
    "    def __init__(self, name, gender):\n",
    "        self.name = name\n",
    "        self.gender = gender\n",
    "p1 = Person('nitish', 'male')\n",
    "p2 = Person('ankita', 'male')\n",
    "p3 = Person('ankita','female')\n",
    "d = {'p1':p1, 'p2':p2, 'p3':p3}\n",
    "for i in d:\n",
    "    print(d[i].gender)"
   ]
  },
  {
   "cell_type": "markdown",
   "id": "d17686a7-1e00-4b26-9e3a-7e0dfebe79b8",
   "metadata": {},
   "source": [
    "# Static Variables(Vs Instance variables)"
   ]
  },
  {
   "cell_type": "code",
   "execution_count": 30,
   "id": "229713c8-085e-4723-baa0-d8270d9817de",
   "metadata": {},
   "outputs": [],
   "source": [
    "class Atm:\n",
    "    __counter = 1\n",
    "    # constructor(special function)->superpower -> \n",
    "    def __init__(self):\n",
    "        print(id(self))\n",
    "        self.pin = ''\n",
    "        self.__balance = 0\n",
    "        self.cid = Atm.__counter\n",
    "        Atm.__counter = Atm.__counter + 1\n",
    "        #self.menu()\n",
    "    # utility functions\n",
    "    @staticmethod\n",
    "    def get_counter():\n",
    "        return Atm.__counter\n",
    "    def get_balance(self):\n",
    "        return self.__balance\n",
    "    def set_balance(self,new_value):\n",
    "        if type(new_value) == int:\n",
    "            self.__balance = new_value\n",
    "        else:\n",
    "            print('beta bahot maarenge')\n",
    "\n",
    "    def __menu(self):\n",
    "        user_input = input(\"\"\"\n",
    "        Hi how can I help you?\n",
    "        1. Press 1 to create pin\n",
    "        2. Press 2 to change pin\n",
    "        3. Press 3 to check balance\n",
    "        4. Press 4 to withdraw\n",
    "        5. Anything else to exit\n",
    "        \"\"\")\n",
    "        if user_input == '1':\n",
    "            self.create_pin()\n",
    "        elif user_input == '2':\n",
    "            self.change_pin()\n",
    "        elif user_input == '3':\n",
    "            self.check_balance()\n",
    "        elif user_input == '4':\n",
    "            self.withdraw()\n",
    "        else:\n",
    "            exit()\n",
    "    def create_pin(self):\n",
    "        user_pin = input('enter your pin')\n",
    "        self.pin = user_pin\n",
    "        user_balance = int(input('enter balance'))\n",
    "        self.__balance = user_balance\n",
    "        print('pin created successfully')\n",
    "    def change_pin(self):\n",
    "        old_pin = input('enter old pin')\n",
    "        if old_pin == self.pin:\n",
    "            # let him change the pin\n",
    "            new_pin = input('enter new pin')\n",
    "            self.pin = new_pin\n",
    "            print('pin change successful')\n",
    "        else:\n",
    "            print('nai karne de sakta re baba')\n",
    "    def check_balance(self):\n",
    "        user_pin = input('enter your pin')\n",
    "        if user_pin == self.pin:\n",
    "            print('your balance is ',self.__balance)\n",
    "        else:\n",
    "            print('chal nikal yahan se')\n",
    "    def withdraw(self):\n",
    "        user_pin = input('enter the pin')\n",
    "        if user_pin == self.pin:\n",
    "            # allow to withdraw\n",
    "            amount = int(input('enter the amount'))\n",
    "            if amount <= self.__balance:\n",
    "                self.__balance = self.__balance - amount\n",
    "                print('withdrawl successful.balance is',self.__balance)\n",
    "            else:\n",
    "                print('abe garib')\n",
    "        else:\n",
    "            print('sale chor')"
   ]
  },
  {
   "cell_type": "code",
   "execution_count": 31,
   "id": "326900d0-9e97-4e6e-913b-8daeafccb2c9",
   "metadata": {},
   "outputs": [
    {
     "name": "stdout",
     "output_type": "stream",
     "text": [
      "139824378086064\n"
     ]
    }
   ],
   "source": [
    "c1 = Atm()"
   ]
  },
  {
   "cell_type": "code",
   "execution_count": 32,
   "id": "ef3c088b-9d6b-4474-974c-3eb81cfd7fc6",
   "metadata": {},
   "outputs": [
    {
     "data": {
      "text/plain": [
       "2"
      ]
     },
     "execution_count": 32,
     "metadata": {},
     "output_type": "execute_result"
    }
   ],
   "source": [
    "Atm.get_counter()"
   ]
  },
  {
   "cell_type": "markdown",
   "id": "63dfd0e6-9eab-4a55-a3c5-0a15a34261c0",
   "metadata": {},
   "source": [
    "# Static Method \n",
    "Points to remember about static\n",
    "- Static attributes are created at class level.\n",
    "- Static attributes are accessed using ClassName.\n",
    "- Static attributes are object independent. We can access them without creating instance (object) of the class in which they are defined.\n",
    "- The value stored in static attribute is shared between all instances(objects) of the class in which the static attribute is defined."
   ]
  },
  {
   "cell_type": "code",
   "execution_count": 34,
   "id": "ab93c02a-c21a-4c9a-af5c-3994312ddb66",
   "metadata": {},
   "outputs": [
    {
     "name": "stdout",
     "output_type": "stream",
     "text": [
      "Simba drinks water from the well in the circus\n",
      "Water source of lions: well in the circus\n"
     ]
    }
   ],
   "source": [
    "class Lion:\n",
    "  __water_source=\"well in the circus\"\n",
    "\n",
    "  def __init__(self,name, gender):\n",
    "      self.__name=name\n",
    "      self.__gender=gender\n",
    "\n",
    "  def drinks_water(self):\n",
    "      print(self.__name,\n",
    "      \"drinks water from the\",Lion.__water_source)\n",
    "\n",
    "  @staticmethod\n",
    "  def get_water_source():\n",
    "      return Lion.__water_source\n",
    "\n",
    "simba=Lion(\"Simba\",\"Male\")\n",
    "simba.drinks_water()\n",
    "print( \"Water source of lions:\",Lion.get_water_source())"
   ]
  },
  {
   "cell_type": "code",
   "execution_count": null,
   "id": "3764c094-3fee-47e4-abbd-1a27eb5fad3a",
   "metadata": {},
   "outputs": [],
   "source": []
  }
 ],
 "metadata": {
  "kernelspec": {
   "display_name": "Python 3 (ipykernel)",
   "language": "python",
   "name": "python3"
  },
  "language_info": {
   "codemirror_mode": {
    "name": "ipython",
    "version": 3
   },
   "file_extension": ".py",
   "mimetype": "text/x-python",
   "name": "python",
   "nbconvert_exporter": "python",
   "pygments_lexer": "ipython3",
   "version": "3.10.12"
  }
 },
 "nbformat": 4,
 "nbformat_minor": 5
}
