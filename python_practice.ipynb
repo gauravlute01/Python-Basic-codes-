{
 "cells": [
  {
   "cell_type": "markdown",
   "id": "01363473-75ad-49f0-9281-e738e4dddde0",
   "metadata": {},
   "source": [
    "Converting an Integer into Decimals"
   ]
  },
  {
   "cell_type": "code",
   "execution_count": 4,
   "id": "f9fdc58a-b826-4f74-887c-c69983de5a64",
   "metadata": {},
   "outputs": [
    {
     "name": "stdout",
     "output_type": "stream",
     "text": [
      "0.1\n",
      "10\n",
      "<class 'decimal.Decimal'>\n"
     ]
    }
   ],
   "source": [
    "num = 10\n",
    "print(num/100)\n",
    "#Or \n",
    "import decimal\n",
    "integer = 10\n",
    "print(decimal.Decimal(integer))\n",
    "print(type(decimal.Decimal(integer)))"
   ]
  },
  {
   "cell_type": "markdown",
   "id": "ed0d7fc2-2cb0-465b-b67c-63d6e8198d27",
   "metadata": {},
   "source": [
    "Converting an String of Integers into Decimals"
   ]
  },
  {
   "cell_type": "code",
   "execution_count": 6,
   "id": "42e31e77-a515-430c-a02e-29220f55418e",
   "metadata": {},
   "outputs": [
    {
     "name": "stdout",
     "output_type": "stream",
     "text": [
      "1234\n",
      "<class 'decimal.Decimal'>\n"
     ]
    }
   ],
   "source": [
    "import decimal\n",
    "string = '1234'\n",
    "print(decimal.Decimal(string))\n",
    "print(type(decimal.Decimal(string)))"
   ]
  },
  {
   "cell_type": "markdown",
   "id": "d697193b-0a49-4887-b885-4f21c058bbaf",
   "metadata": {},
   "source": [
    "Reversing a String using an Extended Slicing Technique"
   ]
  },
  {
   "cell_type": "code",
   "execution_count": 32,
   "id": "af06a073-6726-4e03-8c5e-3ae11d6e463d",
   "metadata": {},
   "outputs": [
    {
     "name": "stdout",
     "output_type": "stream",
     "text": [
      "varuaG\n",
      " 2nd\n",
      "gnimargorp nohtyp\n"
     ]
    }
   ],
   "source": [
    "string = 'Gaurav'\n",
    "for i in range(len(string), 0, -1):\n",
    "    #print(i)\n",
    "    result=string[i-1]\n",
    "    print(result,end='')\n",
    "print(\"\\n 2nd\")\n",
    "# another techniques\n",
    "name = 'python programing'\n",
    "print(name[::-1])"
   ]
  },
  {
   "cell_type": "markdown",
   "id": "2d01fc87-cc2f-41f8-812e-d4119acbbbde",
   "metadata": {},
   "source": [
    "Counting Vowels in a Given Word"
   ]
  },
  {
   "cell_type": "code",
   "execution_count": 44,
   "id": "88c4e6bb-77e0-48d6-be6c-f79f1c0a5239",
   "metadata": {},
   "outputs": [
    {
     "name": "stdout",
     "output_type": "stream",
     "text": [
      "No vovels\n",
      "No vovels\n",
      "No vovels\n",
      "3\n"
     ]
    }
   ],
   "source": [
    "vovels = ['a', 'e', 'i', 'o', 'u']\n",
    "word = 'Gaurav'\n",
    "count = 0\n",
    "for i in word:\n",
    "    if i in vovels:\n",
    "        count += 1\n",
    "    else:\n",
    "        print('No vovels')\n",
    "    # result = word[i]\n",
    "    # count += 1\n",
    "print(count)"
   ]
  },
  {
   "cell_type": "markdown",
   "id": "47481b5f-a02c-44ad-8b95-5e56788cc6f5",
   "metadata": {},
   "source": [
    "Counting Consonants in a Given Word"
   ]
  },
  {
   "cell_type": "code",
   "execution_count": 46,
   "id": "8636075c-868c-4403-a03a-3af54eada693",
   "metadata": {},
   "outputs": [
    {
     "name": "stdout",
     "output_type": "stream",
     "text": [
      "3\n"
     ]
    }
   ],
   "source": [
    "vovels = ['a', 'e', 'i', 'o','u']\n",
    "words = 'Gaurav'\n",
    "count = 0\n",
    "for i in words:\n",
    "    if i not in vovels:\n",
    "        count += 1\n",
    "print(count)"
   ]
  },
  {
   "cell_type": "markdown",
   "id": "bdbe8d7d-f402-44dd-96cd-5475b7669610",
   "metadata": {},
   "source": [
    "Counting the Number of Occurances of a Character in a String"
   ]
  },
  {
   "cell_type": "code",
   "execution_count": 47,
   "id": "e5c9bf3f-640d-47aa-ba9d-d512f7fbfe3b",
   "metadata": {},
   "outputs": [
    {
     "name": "stdout",
     "output_type": "stream",
     "text": [
      "2\n"
     ]
    }
   ],
   "source": [
    "string = 'Gaurav'\n",
    "occurances = 'a'\n",
    "count = 0\n",
    "for i in string:\n",
    "    if i is occurances:\n",
    "        count += 1\n",
    "print(count)"
   ]
  },
  {
   "cell_type": "markdown",
   "id": "713310cf-3eaa-4d48-af4a-6fae7b10aadb",
   "metadata": {},
   "source": [
    "Writing Fibonacci Series"
   ]
  },
  {
   "cell_type": "code",
   "execution_count": 64,
   "id": "0c09b93b-7e68-4aaa-ac0b-5d6b3fd57c2f",
   "metadata": {},
   "outputs": [
    {
     "name": "stdout",
     "output_type": "stream",
     "text": [
      "0 = 1\n",
      "1 = 2\n",
      "2 = 3\n",
      "3 = 5\n",
      "4 = 8\n",
      "5 = 13\n",
      "6 = 21\n",
      "7 = 34\n",
      "8 = 55\n",
      "9 = 89\n"
     ]
    }
   ],
   "source": [
    "number = 10\n",
    "a = 0\n",
    "b = 1\n",
    "for i in range(number):\n",
    "    c = a + b\n",
    "    a = b\n",
    "    b = c\n",
    "    print(i ,'=',c)"
   ]
  },
  {
   "cell_type": "code",
   "execution_count": 62,
   "id": "e2597fdb-b01f-471d-be92-8ed41cc39440",
   "metadata": {},
   "outputs": [
    {
     "name": "stdout",
     "output_type": "stream",
     "text": [
      "0, 1, 1, 2, 3, 5, 8\n"
     ]
    }
   ],
   "source": [
    "fib = [0, 1]\n",
    "# Range starts from 0 by default \n",
    "for i in range(5):\n",
    "    fib.append(fib[-1] + fib[-2])\n",
    "# converting the list of integers to string \n",
    "print(', '.join(str(e) for e in fib))"
   ]
  },
  {
   "cell_type": "markdown",
   "id": "225e17e6-ad30-4ec4-8c70-a9bcec45d2b3",
   "metadata": {},
   "source": [
    "Finding the Maximum Number in a List"
   ]
  },
  {
   "cell_type": "code",
   "execution_count": 72,
   "id": "0895d6fd-e361-4ad1-bc5c-a2b3172542a0",
   "metadata": {},
   "outputs": [
    {
     "name": "stdout",
     "output_type": "stream",
     "text": [
      "7\n"
     ]
    }
   ],
   "source": [
    "num = [1,2,3,4,5,6,7]\n",
    "maxnum = num[0]\n",
    "for i in l:\n",
    "    if maxnum < i:\n",
    "        maxnum = i\n",
    "print(maxnum)\n",
    "    "
   ]
  },
  {
   "cell_type": "markdown",
   "id": "153795c1-d0eb-431e-a9f7-6f0191d50275",
   "metadata": {},
   "source": [
    "Finding the Minimum Number in a List"
   ]
  },
  {
   "cell_type": "code",
   "execution_count": 75,
   "id": "7dc2c00f-e674-4d7a-aea0-1cd30efd6d14",
   "metadata": {},
   "outputs": [
    {
     "name": "stdout",
     "output_type": "stream",
     "text": [
      "3\n"
     ]
    }
   ],
   "source": [
    "number = [12, 13, 3, 24]\n",
    "minimum = number[0]\n",
    "for i in number:\n",
    "    if minimum >i:\n",
    "        minimum = i\n",
    "print(minimum)"
   ]
  },
  {
   "cell_type": "markdown",
   "id": "3840eb78-5687-4173-851a-03e2623672b4",
   "metadata": {},
   "source": [
    "1) User will input 3 ages. Find the odlest one"
   ]
  },
  {
   "cell_type": "code",
   "execution_count": 4,
   "id": "f58103de-05b5-47fe-bc6d-647b72a1f3b1",
   "metadata": {},
   "outputs": [
    {
     "name": "stdout",
     "output_type": "stream",
     "text": [
      "age3 is oldest\n"
     ]
    }
   ],
   "source": [
    "age1 = 20\n",
    "age2 = 30\n",
    "age3 = 18\n",
    "if age1 < age2 and  age1 < age3:\n",
    "    print('age1 is oldest')\n",
    "elif age2<age3:\n",
    "    print('age2 is oldest')\n",
    "else:\n",
    "    print('age3 is oldest')\n",
    "    "
   ]
  },
  {
   "cell_type": "markdown",
   "id": "484b6ade-7555-496d-b84e-2507d6f2ebe9",
   "metadata": {},
   "source": [
    "2) Write a program that will convert celscius value to farenheit "
   ]
  },
  {
   "cell_type": "code",
   "execution_count": null,
   "id": "bd12b4e0-d17c-4cd2-afd4-9c1ec7cd24e9",
   "metadata": {},
   "outputs": [],
   "source": [
    "# value=\n",
    "# farenheit_value = "
   ]
  },
  {
   "cell_type": "markdown",
   "id": "dcbad00b-c16d-4bbc-a937-3a1881babbd3",
   "metadata": {},
   "source": [
    "3) User input (2numbers).write a program to swap the numbers"
   ]
  },
  {
   "cell_type": "code",
   "execution_count": 13,
   "id": "b6c69eea-81b0-41d5-a1f9-ccd4cc45e7c8",
   "metadata": {},
   "outputs": [
    {
     "name": "stdout",
     "output_type": "stream",
     "text": [
      "1st num 3\n",
      "2nd num 2\n"
     ]
    }
   ],
   "source": [
    "num1 = 2\n",
    "num2 = 3\n",
    "# program swap the number\n",
    "def swap_numbers(num1, num2):\n",
    "    temp = num1\n",
    "    num1 = num2\n",
    "    num2 = temp\n",
    "    return num1, num2\n",
    "swap_number1, swap_number2 = swap_numbers(num1, num2)\n",
    "print(\"1st num\", swap_number1)\n",
    "print(\"2nd num\", swap_number2)"
   ]
  },
  {
   "cell_type": "markdown",
   "id": "bb3ad752-f8b3-4e91-8de9-88d3e700a2e3",
   "metadata": {},
   "source": [
    "4) write a program thet will give you the sum of 3 digits"
   ]
  },
  {
   "cell_type": "code",
   "execution_count": 48,
   "id": "145cbf2e-1ff6-4000-b9b5-e3e3c5238d95",
   "metadata": {},
   "outputs": [
    {
     "name": "stdout",
     "output_type": "stream",
     "text": [
      "7\n"
     ]
    }
   ],
   "source": [
    "three_digit_num = 232\n",
    "num_sum = 0\n",
    "num1 = str(three_digit_num)[0]  \n",
    "num2 = str(three_digit_num)[1] \n",
    "num3 = str(three_digit_num)[2]\n",
    "number = int(num1) + int(num2) + int(num3)\n",
    "print(number)"
   ]
  },
  {
   "cell_type": "markdown",
   "id": "f4272170-3f7b-4cc9-812f-a8431952e16d",
   "metadata": {},
   "source": [
    "5) write a program that will reverse a four digit number. Also it checks whether the reverse is true "
   ]
  },
  {
   "cell_type": "code",
   "execution_count": 82,
   "id": "4bc8c34b-8a18-4b37-a0c0-c7d041fb9884",
   "metadata": {},
   "outputs": [],
   "source": [
    "number = 4543\n",
    "n =len(str(number))\n",
    "for i in range(n, 0, -1):\n",
    "    # print(i)\n",
    "    reverse = str(number)[i-1]\n",
    "    result = int(reverse)"
   ]
  },
  {
   "cell_type": "markdown",
   "id": "70ce80db-49d4-450e-83a7-aac97e3893e0",
   "metadata": {},
   "source": [
    "6) write a program that will tell whether the number entered by user is odd or even"
   ]
  },
  {
   "cell_type": "code",
   "execution_count": 9,
   "id": "fd84085f-3361-4851-ae14-bfc8e1120a77",
   "metadata": {},
   "outputs": [
    {
     "name": "stdout",
     "output_type": "stream",
     "text": [
      "user number is even\n"
     ]
    }
   ],
   "source": [
    "number = 220\n",
    "def check_num(number):\n",
    "    if number%2 == 0:\n",
    "        result = 'user number is even'\n",
    "    else:\n",
    "        result = 'given number is odd'\n",
    "    return result\n",
    "result = check_num(number)\n",
    "print(result)"
   ]
  },
  {
   "cell_type": "markdown",
   "id": "f574959d-056e-460d-990a-d7ddd2d55f2e",
   "metadata": {},
   "source": [
    "7) write a program that tell whether the given year is leap or not"
   ]
  },
  {
   "cell_type": "code",
   "execution_count": 39,
   "id": "dc73111c-5bde-41e4-bc69-1a3f2c147c0b",
   "metadata": {},
   "outputs": [
    {
     "name": "stdout",
     "output_type": "stream",
     "text": [
      "year is leap\n"
     ]
    }
   ],
   "source": [
    "year = 2032\n",
    "def leap_year(year):\n",
    "    if year % 4 == 0:\n",
    "        result = 'year is leap'\n",
    "    elif year % 100 == 0 :\n",
    "        result = 'year is leap'\n",
    "    elif year % 400 == 0:\n",
    "        result = 'year is leap'   \n",
    "    else:\n",
    "        result = 'year is not leap'\n",
    "    return result\n",
    "rsult = leap_year(year)\n",
    "print(rsult)"
   ]
  },
  {
   "cell_type": "markdown",
   "id": "04debad8-d3b0-4af3-8392-9be354fd898b",
   "metadata": {},
   "source": [
    "8) write a program to find a euclidean distance between two coordinate"
   ]
  },
  {
   "cell_type": "code",
   "execution_count": 42,
   "id": "bc7ab454-3814-4ede-9e80-d54daac98a69",
   "metadata": {},
   "outputs": [
    {
     "name": "stdout",
     "output_type": "stream",
     "text": [
      "-5\n"
     ]
    }
   ],
   "source": [
    "import numpy as np \n",
    "# coordinate1\n",
    "x1, y1 = 2,3\n",
    "x2, y2 = 4,10\n",
    "# distance formula \n",
    "def euclidean_dist(x1, x2, y1, y2):\n",
    "    result = ((x2-x1)^2)-((y2-y1)^2)\n",
    "    return result \n",
    "print(euclidean_dist(x1, x2, y1, y2))"
   ]
  },
  {
   "cell_type": "code",
   "execution_count": 48,
   "id": "7d1777a5-6485-4c3d-88fc-040126e3268c",
   "metadata": {},
   "outputs": [],
   "source": [
    "# # 2 cordinate distance \n",
    "# point1 = 2\n",
    "# point2 = 4\n",
    "# distance = 0\n",
    "# for i in range(len(point1)):\n",
    "#     distance += (point2[i] - point1[i])**2\n",
    "#     result = np.sqrt(distance)"
   ]
  },
  {
   "cell_type": "markdown",
   "id": "38b13182-4ee0-48c7-a36c-f0000848f451",
   "metadata": {},
   "source": [
    "9) write a program that take a user input of three anglea and find out whether it can for a triangle or not."
   ]
  },
  {
   "cell_type": "code",
   "execution_count": 51,
   "id": "7bcf27cd-2fe8-47da-b1ed-f84012398572",
   "metadata": {},
   "outputs": [
    {
     "name": "stdout",
     "output_type": "stream",
     "text": [
      "It is triangle\n"
     ]
    }
   ],
   "source": [
    "angle1 = 60 \n",
    "angle2 = 60 \n",
    "angle3 = 60 \n",
    "sum_angle = angle1 + angle2 + angle3 \n",
    "if sum_angle == 180:\n",
    "    print('It is triangle')\n",
    "else:\n",
    "    print('It is not triangle')"
   ]
  },
  {
   "cell_type": "markdown",
   "id": "7433c0b8-db0d-4c91-9953-ffc35fafedc8",
   "metadata": {},
   "source": [
    "10) Write a program that will take user input of cost price and selling price and determines wheather it loss of profit."
   ]
  },
  {
   "cell_type": "code",
   "execution_count": 54,
   "id": "ae50448c-0b62-420a-9a39-68c533f92672",
   "metadata": {},
   "outputs": [
    {
     "name": "stdout",
     "output_type": "stream",
     "text": [
      "Profit\n"
     ]
    }
   ],
   "source": [
    "cost_price = 800\n",
    "selling_price = 1000\n",
    "if selling_price > cost_price :\n",
    "    print('Profit')\n",
    "else:\n",
    "    print('Loss')"
   ]
  },
  {
   "cell_type": "markdown",
   "id": "8ea01f51-4c40-42b6-b52e-7f6af8655acb",
   "metadata": {},
   "source": [
    "11) Write a program to find the simple interest when the value of principle, rate of interest and time period is given"
   ]
  },
  {
   "cell_type": "code",
   "execution_count": 57,
   "id": "177d5539-00f1-4308-9ad3-3031cb02bee0",
   "metadata": {},
   "outputs": [
    {
     "name": "stdout",
     "output_type": "stream",
     "text": [
      "200.0\n"
     ]
    }
   ],
   "source": [
    "Principle = 1000\n",
    "rate = 2\n",
    "time = 10\n",
    "def simple_interest(Principle, rate, time):\n",
    "    simple_interest = (Principle * rate * time) / 100\n",
    "    return simple_interest\n",
    "result = simple_interest(Principle, rate, time)\n",
    "print(result)"
   ]
  },
  {
   "cell_type": "markdown",
   "id": "2e21d5a5-c086-4357-b367-a4ba70466d50",
   "metadata": {},
   "source": [
    "12) Write a program to find the volume of cylinder. Also find the cost when, when the cost of litre milk is 40Rs. "
   ]
  },
  {
   "cell_type": "code",
   "execution_count": 65,
   "id": "5f025be9-2b21-4b3b-8a86-9405f0bdafa8",
   "metadata": {},
   "outputs": [
    {
     "name": "stdout",
     "output_type": "stream",
     "text": [
      "Volume= 150.79644737231007\n",
      "cost= 6031.857894892402\n"
     ]
    }
   ],
   "source": [
    "# volume of cylinder pie*r^2*h\n",
    "import numpy as np\n",
    "radius = 10\n",
    "height = 6\n",
    "volume = np.pi*(radius^2)*height\n",
    "print('Volume=',volume)\n",
    "# cost \n",
    "litre_cost = 40\n",
    "cost = volume*litre_cost\n",
    "print('cost=',cost)"
   ]
  },
  {
   "cell_type": "markdown",
   "id": "55180d13-4fb2-4995-9db8-5e36662a0556",
   "metadata": {},
   "source": [
    "13) Write a program to that will tell whether the given number is divisible by 3 and 6"
   ]
  },
  {
   "cell_type": "code",
   "execution_count": 68,
   "id": "c28bcd3e-2d6b-412b-87f4-d9772451abb2",
   "metadata": {},
   "outputs": [
    {
     "name": "stdout",
     "output_type": "stream",
     "text": [
      "yes\n"
     ]
    }
   ],
   "source": [
    "number = 10 \n",
    "if number%3 and number%6:\n",
    "    r = 'yes'\n",
    "else:\n",
    "    r = 'no'\n",
    "print(r)"
   ]
  },
  {
   "cell_type": "markdown",
   "id": "c6bf4289-8939-44a7-9ae3-be7c2a787769",
   "metadata": {},
   "source": [
    "16) Write a program that will determine weather when the value of temprature and humidity  is provided by users  "
   ]
  },
  {
   "cell_type": "code",
   "execution_count": 10,
   "id": "dcc6f9b8-aa89-47a2-87a4-919b8ca0055a",
   "metadata": {},
   "outputs": [
    {
     "name": "stdout",
     "output_type": "stream",
     "text": [
      "Cool\n",
      "None\n"
     ]
    }
   ],
   "source": [
    "Temprature = 29\n",
    "humidity = 80\n",
    "# determine wheather\n",
    "def weather(Temprature, humidity):\n",
    "    if Temprature >= 30 and  humidity >= 90:\n",
    "        return  print('Hot and Humid')\n",
    "    elif Temprature >= 30 and humidity < 90:\n",
    "        return  print('Hot')\n",
    "    elif Temprature > 30 and humidity <= 90 :\n",
    "        return print('cool and humid')\n",
    "    elif Temprature < 30 and humidity < 90:\n",
    "        return print('Cool')\n",
    "    else:\n",
    "        return 'False Temprature'\n",
    "\n",
    "ans = weather(Temprature, humidity)\n",
    "print(ans)"
   ]
  },
  {
   "cell_type": "markdown",
   "id": "bab07fbe-4ffc-452a-8d0a-0ca816b488b2",
   "metadata": {},
   "source": [
    "17) write a program that will check whether the number is armstrong number or not. "
   ]
  },
  {
   "cell_type": "code",
   "execution_count": 18,
   "id": "d8ed26cc-5a6f-4326-a4bc-559b2631eac6",
   "metadata": {},
   "outputs": [],
   "source": [
    "# num = 123\n",
    "# order = len(str(num))\n",
    "# def check_armstrong(num):\n",
    "#     result = 0\n",
    "#     temp = order \n",
    "#     while num>0:\n",
    "#         digit = temp % 10 \n",
    "#         sum += digit**order\n",
    "#         temp //= 10\n",
    "#         return sum == num\n",
    "# if ckeck_armstrong(num):\n",
    "#     print('yes')\n",
    "# else :\n",
    "#     print('No')\n",
    "        \n",
    "        "
   ]
  },
  {
   "cell_type": "markdown",
   "id": "e4bbae69-d637-4ba7-93a7-dfa0ef694a08",
   "metadata": {},
   "source": [
    "19) Write a program that will take user input of(4 digits number) and ckeck wheather the number is narcissiast number or not"
   ]
  },
  {
   "cell_type": "code",
   "execution_count": null,
   "id": "5e9f77d6-7527-47eb-8b47-78e0c1ce21dc",
   "metadata": {},
   "outputs": [],
   "source": []
  },
  {
   "cell_type": "markdown",
   "id": "e0ae5e3f-08e7-4fee-8ea7-e73c15c380a5",
   "metadata": {},
   "source": [
    "20) Write a program that will give you the in hand salary after deduction of HRA(10%), DA(5%), PF(3%), and tax(if salary is 5-10lakh - 10%), (11-20lakhs-20%),(20<_ - 30%)(0-1lakhs print k)  "
   ]
  },
  {
   "cell_type": "code",
   "execution_count": 73,
   "id": "ace46559-b8be-4e0f-8e8c-fe5757fda9e5",
   "metadata": {},
   "outputs": [
    {
     "name": "stdout",
     "output_type": "stream",
     "text": [
      "final amount:- 2851.5\n"
     ]
    }
   ],
   "source": [
    "# Salary\n",
    "salary = 100000\n",
    "# Deduction\n",
    "def deduction(salary):\n",
    "    # HRA (10%)\n",
    "    HRA1_deduction = salary*1/100\n",
    "    HRA_deduction = salary - HRA1_deduction\n",
    "    # DA\n",
    "    DA1_deduction = HRA_deduction*5/100\n",
    "    DA_deduction = salary - DA1_deduction\n",
    "    # PF\n",
    "    PF1_deduction = DA_deduction*3/100\n",
    "    PF_deduction = salary - PF1_deduction\n",
    "    return PF_deduction\n",
    "#print(deduction(salary))\n",
    "# tax\n",
    "def tax_deduction(salary):\n",
    "    if 500000 < salary <100000:\n",
    "        result1 = salary*10/100\n",
    "        return salary - result1\n",
    "    elif 1100000 < salary < 200000:\n",
    "        result2 = salary*30/100\n",
    "        return salary - result2\n",
    "    elif 200000 < salary:\n",
    "        result3 = salary*30/100\n",
    "        return salary - result3\n",
    "    elif 0 < salary < 100000:\n",
    "        return salary - 1000\n",
    "    else:\n",
    "        return 0\n",
    "    return \n",
    "\n",
    "deduction = deduction(salary)\n",
    "tax_deduction = tax_deduction(salary)\n",
    "final_amount = salary - (float(deduction) - float(tax_deduction))\n",
    "print('final amount:-', final_amount)"
   ]
  },
  {
   "cell_type": "markdown",
   "id": "044699ea-6849-456e-ab36-dc845e14f2f7",
   "metadata": {},
   "source": [
    "21)  Write menu driven programms- 1) 1cm to ft 2) kl to miles 3) usd to inr 4) exist"
   ]
  },
  {
   "cell_type": "code",
   "execution_count": 79,
   "id": "712ada73-ee2f-4975-a35f-2836e2882602",
   "metadata": {},
   "outputs": [
    {
     "name": "stdout",
     "output_type": "stream",
     "text": [
      "(0.03280839895013123, 0.6213881811967936)\n"
     ]
    }
   ],
   "source": [
    "# Menu driven programs\n",
    "no1 = 1\n",
    "def cm_to_ft(no1):\n",
    "    conversion1 = no1/30.48\n",
    "    conversion2 = no1/1.6093\n",
    "   \n",
    "    return conversion1,conversion2\n",
    "print(cm_to_ft(no1))\n",
    "    "
   ]
  },
  {
   "cell_type": "markdown",
   "id": "b5497cdd-148d-444c-af37-288c5feb8422",
   "metadata": {},
   "source": [
    "22. Write a program that will tell the number of dogs and chicken are there when the user will provide the value of total heads and legs."
   ]
  },
  {
   "cell_type": "code",
   "execution_count": 37,
   "id": "a4d74f18-53f4-4874-9ec8-747da2b49b88",
   "metadata": {},
   "outputs": [
    {
     "name": "stdout",
     "output_type": "stream",
     "text": [
      "Total no of dogs--10\n",
      "Total no of chickens--2\n"
     ]
    }
   ],
   "source": [
    "# user input total heads and legs \n",
    "heads = 12\n",
    "legs = 44\n",
    "# create a function identify dogs and chicken \n",
    "# x +  y = heads # x = dogs, y = chicken\n",
    "# 4x + 2y = legs\n",
    "def dogs_and_chicken(heads, legs):\n",
    "    x = (legs - 2* heads) / 2\n",
    "    y = heads - x\n",
    "    # print(f\"Total dogs- {int(x)}\")\n",
    "    # print(f\"Total legs- {int(y)}\")\n",
    "    if x >= 0 and y >= 0 and x.is_integer() and y.is_integer():\n",
    "        return int(x), int(y)\n",
    "    else:\n",
    "        return None, None \n",
    "# find no dogs and chicken \n",
    "dogs, chicken = dogs_and_chicken(heads, legs)\n",
    "if heads  is not None and chicken is not None :\n",
    "    print(f\"Total no of dogs--{dogs}\")\n",
    "    print(f\"Total no of chickens--{chicken}\")\n",
    "else:\n",
    "    print('No valid solution found')\n",
    "    "
   ]
  },
  {
   "cell_type": "markdown",
   "id": "fd381fb5-cb8a-495e-820a-4317d6a12289",
   "metadata": {},
   "source": [
    "23) Write a program that will swap numbers"
   ]
  },
  {
   "cell_type": "code",
   "execution_count": 46,
   "id": "d7ddf7e6-85e4-4f00-9bc1-b3d15a5046fb",
   "metadata": {},
   "outputs": [
    {
     "name": "stdout",
     "output_type": "stream",
     "text": [
      "original No(2, 4)\n",
      " swap No-(4, 2)\n"
     ]
    }
   ],
   "source": [
    "no1 = 2\n",
    "no2 = 4\n",
    "def swap_no(no1, no2):\n",
    "    temp = no1\n",
    "    no1 = no2\n",
    "    no2 = temp\n",
    "    return no1, no2\n",
    "# swap no \n",
    "no3, no4 = swap_no(no1, no2)\n",
    "print(f\"original No{no1,no2}\\n swap No-{no3,no4}\")\n"
   ]
  },
  {
   "cell_type": "markdown",
   "id": "0b2cb9f1-7c60-49ed-84e0-2afcade62a66",
   "metadata": {},
   "source": [
    "24) Write a program to find the sum of first n numbers, where n will be provided by the user. Eg if the user provides n=10 the output should be 55."
   ]
  },
  {
   "cell_type": "code",
   "execution_count": 57,
   "id": "d4e03476-a3ff-438f-bd70-6dd66fb44895",
   "metadata": {},
   "outputs": [
    {
     "name": "stdout",
     "output_type": "stream",
     "text": [
      "sum of n numbers-55\n"
     ]
    }
   ],
   "source": [
    "# find sum of n numbers \n",
    "# n is given \n",
    "n = 10\n",
    "output = 0\n",
    "# sum of n number \n",
    "for i in range(n+1):\n",
    "    output += i \n",
    "print(f\"sum of n numbers-{output}\")\n",
    "\n",
    "    "
   ]
  },
  {
   "cell_type": "markdown",
   "id": "510fe0b3-fa32-4b9b-a0dc-ead509257ab0",
   "metadata": {},
   "source": [
    "25) Write a program that can multiply 2 numbers provided by the user without using\n",
    "the * operator"
   ]
  },
  {
   "cell_type": "code",
   "execution_count": 65,
   "id": "4935b6f1-a258-43ce-9280-7ef91d2ea0b0",
   "metadata": {},
   "outputs": [
    {
     "data": {
      "text/plain": [
       "4"
      ]
     },
     "execution_count": 65,
     "metadata": {},
     "output_type": "execute_result"
    }
   ],
   "source": [
    "import numpy as np\n",
    "no1 = 2\n",
    "no2 = 2\n",
    "np.multiply(no1, no2)\n"
   ]
  },
  {
   "cell_type": "markdown",
   "id": "dc64773e-ef9a-4846-b506-70e12f9d5711",
   "metadata": {},
   "source": [
    "26) Write a program that can find the factorial of a given number provided by the\n",
    "user."
   ]
  },
  {
   "cell_type": "code",
   "execution_count": 30,
   "id": "e6edddf6-7751-45a5-b459-6de25f3cb6e6",
   "metadata": {},
   "outputs": [
    {
     "name": "stdout",
     "output_type": "stream",
     "text": [
      "96\n"
     ]
    }
   ],
   "source": [
    "factorial = 4\n",
    "\n",
    "# factorial\n",
    "def fact(factorial):\n",
    "    for i in range(1,factorial+1):\n",
    "        factorial  *= i \n",
    "    return factorial\n",
    "# \n",
    "ans = fact(factorial)\n",
    "print(ans)"
   ]
  },
  {
   "cell_type": "markdown",
   "id": "58d8f51d-61ca-45e7-8050-d62bff4dc005",
   "metadata": {},
   "source": [
    "27) Write a program to print the first 25 odd numbers"
   ]
  },
  {
   "cell_type": "code",
   "execution_count": 12,
   "id": "994b9f58-2bc2-4afc-8ad8-a59fd21cf26a",
   "metadata": {},
   "outputs": [
    {
     "name": "stdout",
     "output_type": "stream",
     "text": [
      "1\n",
      "3\n",
      "5\n",
      "7\n",
      "9\n",
      "11\n",
      "13\n",
      "15\n",
      "17\n",
      "19\n",
      "21\n",
      "23\n",
      "25\n",
      "27\n",
      "29\n",
      "31\n",
      "33\n",
      "35\n",
      "37\n",
      "39\n",
      "41\n",
      "43\n",
      "45\n",
      "47\n",
      "49\n"
     ]
    }
   ],
   "source": [
    "n = 50\n",
    "for i in range(1,n):\n",
    "    if i%2 != 0:\n",
    "        print(i)"
   ]
  },
  {
   "cell_type": "markdown",
   "id": "321e4d6e-1c7c-4383-af5b-a535ccb22841",
   "metadata": {},
   "source": [
    "28) Write a program to print whether a given number is prime number or not"
   ]
  },
  {
   "cell_type": "code",
   "execution_count": 18,
   "id": "b2ae1764-33d4-4ccd-83e7-e6324c34d5b8",
   "metadata": {},
   "outputs": [
    {
     "name": "stdout",
     "output_type": "stream",
     "text": [
      "Number is prime\n"
     ]
    }
   ],
   "source": [
    "n = 3\n",
    "def check_no(n):\n",
    "    if n%2 != 0:\n",
    "        a = 'Number is prime'\n",
    "    else:\n",
    "        a = 'Number is not prime'\n",
    "    return a\n",
    "\n",
    "result = check_no(n)\n",
    "print(result)"
   ]
  },
  {
   "cell_type": "markdown",
   "id": "fe70287a-ce03-4a97-b2a3-679b481a4515",
   "metadata": {},
   "source": [
    "29) Print all the armstrong numbers in the range of 100 to 1000."
   ]
  },
  {
   "cell_type": "code",
   "execution_count": null,
   "id": "d4073767-673b-4256-9428-16c6317cdd52",
   "metadata": {},
   "outputs": [],
   "source": []
  },
  {
   "cell_type": "code",
   "execution_count": null,
   "id": "0679174b-ca13-449d-8b19-e36e998635c9",
   "metadata": {},
   "outputs": [],
   "source": []
  },
  {
   "cell_type": "code",
   "execution_count": null,
   "id": "754023b2-86cb-4c53-83e2-b9dc26cd37e0",
   "metadata": {},
   "outputs": [],
   "source": []
  },
  {
   "cell_type": "code",
   "execution_count": null,
   "id": "dadcec14-3139-4d27-af65-3f29e30f2ee9",
   "metadata": {},
   "outputs": [],
   "source": []
  },
  {
   "cell_type": "code",
   "execution_count": null,
   "id": "47b57db1-d975-4869-9213-e7312b2858a8",
   "metadata": {},
   "outputs": [],
   "source": []
  },
  {
   "cell_type": "code",
   "execution_count": null,
   "id": "713009a7-8d81-42f3-a935-c28cf1fcadef",
   "metadata": {},
   "outputs": [],
   "source": []
  },
  {
   "cell_type": "code",
   "execution_count": null,
   "id": "a92f91ad-8393-4d6f-9922-06c51c361bf8",
   "metadata": {},
   "outputs": [],
   "source": []
  },
  {
   "cell_type": "code",
   "execution_count": null,
   "id": "c592716a-5ae8-42c3-8bb8-9beea503655a",
   "metadata": {},
   "outputs": [],
   "source": []
  },
  {
   "cell_type": "code",
   "execution_count": null,
   "id": "f0083ba9-5914-4f7c-a229-16c1e42f0a2e",
   "metadata": {},
   "outputs": [],
   "source": []
  },
  {
   "cell_type": "code",
   "execution_count": null,
   "id": "1e6a32b1-369e-4429-ba47-1c17906ac002",
   "metadata": {},
   "outputs": [],
   "source": []
  },
  {
   "cell_type": "code",
   "execution_count": null,
   "id": "11f6226e-f459-4e7a-a458-204dbf9d4b2b",
   "metadata": {},
   "outputs": [],
   "source": []
  }
 ],
 "metadata": {
  "kernelspec": {
   "display_name": "Python 3 (ipykernel)",
   "language": "python",
   "name": "python3"
  },
  "language_info": {
   "codemirror_mode": {
    "name": "ipython",
    "version": 3
   },
   "file_extension": ".py",
   "mimetype": "text/x-python",
   "name": "python",
   "nbconvert_exporter": "python",
   "pygments_lexer": "ipython3",
   "version": "3.10.12"
  }
 },
 "nbformat": 4,
 "nbformat_minor": 5
}
