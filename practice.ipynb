{
 "cells": [
  {
   "cell_type": "code",
   "execution_count": 82,
   "id": "eb253e2e",
   "metadata": {},
   "outputs": [
    {
     "name": "stdout",
     "output_type": "stream",
     "text": [
      "20\n"
     ]
    }
   ],
   "source": [
    "# global and local variable\n",
    "x = 10 #global\n",
    "def addition():\n",
    "    y = 10 #local\n",
    "    print(x + y)\n",
    "addition()"
   ]
  },
  {
   "cell_type": "code",
   "execution_count": 83,
   "id": "b6d20e50",
   "metadata": {},
   "outputs": [
    {
     "data": {
      "text/plain": [
       "(1, [2, 3, 4], 5)"
      ]
     },
     "execution_count": 83,
     "metadata": {},
     "output_type": "execute_result"
    }
   ],
   "source": [
    "# assign variable \n",
    "a, *b, c = [1,2,3,4,5]\n",
    "a, b, c"
   ]
  },
  {
   "cell_type": "code",
   "execution_count": 84,
   "id": "1cfad295",
   "metadata": {},
   "outputs": [
    {
     "name": "stdout",
     "output_type": "stream",
     "text": [
      "6 5\n"
     ]
    }
   ],
   "source": [
    "# swapping the variable \n",
    "a, b = 5, 6\n",
    "b , a = a, b\n",
    "print(a, b)"
   ]
  },
  {
   "cell_type": "code",
   "execution_count": 85,
   "id": "00b90d04",
   "metadata": {},
   "outputs": [
    {
     "name": "stdout",
     "output_type": "stream",
     "text": [
      "5\n"
     ]
    }
   ],
   "source": [
    "if (n := len('hello')) > 3:\n",
    "    print(n)"
   ]
  },
  {
   "cell_type": "code",
   "execution_count": 86,
   "id": "92ab13d1",
   "metadata": {},
   "outputs": [
    {
     "name": "stdout",
     "output_type": "stream",
     "text": [
      "g\n",
      "a\n",
      "u\n",
      "r\n",
      "a\n",
      "v\n"
     ]
    }
   ],
   "source": [
    "# Write a program to print every character of a string entered by the user in a new line using a loop\n",
    "def chara():\n",
    "    string = str(input('Enter a string'))\n",
    "    for i in string :\n",
    "        print(i)\n",
    "chara()"
   ]
  },
  {
   "cell_type": "code",
   "execution_count": 87,
   "id": "aa3b26de",
   "metadata": {},
   "outputs": [
    {
     "name": "stdout",
     "output_type": "stream",
     "text": [
      "16\n",
      "16\n"
     ]
    }
   ],
   "source": [
    "# Write a program to find the length of the string \"machine learning\" with and without using len function\n",
    "name = 'Machine Learning'\n",
    "length = 0\n",
    "for i in name:\n",
    "    length += 1\n",
    "print(length)\n",
    "print(len(name))"
   ]
  },
  {
   "cell_type": "code",
   "execution_count": 88,
   "id": "55e15f9b",
   "metadata": {},
   "outputs": [
    {
     "data": {
      "text/plain": [
       "'True'"
      ]
     },
     "execution_count": 88,
     "metadata": {},
     "output_type": "execute_result"
    }
   ],
   "source": [
    "# Write a program to check if the word 'orange' is present in the \"This is orange juice\".\n",
    "sentence = 'This is orange juice.'\n",
    "word = 'orange'\n",
    "def word_sentence():\n",
    "    Flag = 'True'\n",
    "    if word in sentence :\n",
    "        return Flag\n",
    "    else:\n",
    "        Flag = 'False'\n",
    "        return Flag\n",
    "word_sentence()"
   ]
  },
  {
   "cell_type": "code",
   "execution_count": 89,
   "id": "de152d0b",
   "metadata": {},
   "outputs": [
    {
     "name": "stdout",
     "output_type": "stream",
     "text": [
      "1\n",
      "5\n",
      "4\n",
      "2\n"
     ]
    }
   ],
   "source": [
    "#Write a Python program to count Uppercase, Lowercase, special character, and numeric values in a given string.\n",
    "word = '11Gaurav@#12'\n",
    "# initialize \n",
    "count_upper = 0\n",
    "count_lower = 0\n",
    "count_special = 0 \n",
    "count_numeric = 0\n",
    "# apply \n",
    "for i in word :\n",
    "    if i.isupper():\n",
    "        count_upper += 1\n",
    "    elif i.islower():\n",
    "        count_lower += 1\n",
    "    elif i.isdigit():\n",
    "        count_numeric += 1\n",
    "    else:\n",
    "        count_special += 1\n",
    "print(count_upper)\n",
    "print(count_lower)\n",
    "print(count_numeric)\n",
    "print(count_special)"
   ]
  },
  {
   "cell_type": "code",
   "execution_count": 470,
   "id": "3c5f7ae7",
   "metadata": {},
   "outputs": [
    {
     "name": "stdout",
     "output_type": "stream",
     "text": [
      "ello, have a good day\n"
     ]
    }
   ],
   "source": [
    "# Write a program to make a new string with all the consonants deleted from the string \"Hello, have a good day\".\n",
    "\n",
    "given_string = \"Hello, have a good day\"\n",
    "vovels = 'aeiouAEIOU'\n",
    "\n",
    "new_string = ''\n",
    "for i in given_string:\n",
    "    if i is vovels or not i.isupper() :\n",
    "        new_string += i\n",
    "print(new_string)"
   ]
  },
  {
   "cell_type": "code",
   "execution_count": 91,
   "id": "862f2002",
   "metadata": {},
   "outputs": [
    {
     "name": "stdout",
     "output_type": "stream",
     "text": [
      "Garav\n"
     ]
    }
   ],
   "source": [
    "#Write a Python program to remove the nth index character from a non-empty string.\n",
    "string = 'Gaurav'\n",
    "\n",
    "def remove_n_index(n):\n",
    "    result = string[:n] + string[n+1:]\n",
    "    print(result)\n",
    "remove_n_index(2)"
   ]
  },
  {
   "cell_type": "code",
   "execution_count": 92,
   "id": "44a2c2cc",
   "metadata": {},
   "outputs": [
    {
     "name": "stdout",
     "output_type": "stream",
     "text": [
      "vauraG\n"
     ]
    }
   ],
   "source": [
    "# Write a Python program to change a given string to a new string where the first and last characters have been exchanged.\n",
    "string = 'Gaurav'\n",
    "\n",
    "def new_string():\n",
    "    new_string = ''\n",
    "    first = string[0]\n",
    "    last = string[-1]\n",
    "    new_string = last + string[1:-1]  + first\n",
    "    print(new_string)\n",
    "\n",
    "# result \n",
    "new_string()"
   ]
  },
  {
   "cell_type": "code",
   "execution_count": 93,
   "id": "c3d367a8",
   "metadata": {},
   "outputs": [
    {
     "name": "stdout",
     "output_type": "stream",
     "text": [
      "2\n"
     ]
    }
   ],
   "source": [
    "# Write a Python program to count the occurrences of each word in a given sentence.\n",
    "sentence = 'Hi my name is gaurav'\n",
    "occurence = 'm'\n",
    "count = 0\n",
    "for i in sentence:\n",
    "    if i in occurence:\n",
    "        count += 1\n",
    "print(count)"
   ]
  },
  {
   "cell_type": "code",
   "execution_count": 472,
   "id": "a7be00fe",
   "metadata": {},
   "outputs": [
    {
     "name": "stderr",
     "output_type": "stream",
     "text": [
      "<>:2: SyntaxWarning: invalid escape sequence '\\i'\n",
      "<>:2: SyntaxWarning: invalid escape sequence '\\i'\n",
      "C:\\Users\\Gaurav Lute\\AppData\\Local\\Temp\\ipykernel_33572\\767321506.py:2: SyntaxWarning: invalid escape sequence '\\i'\n",
      "  sent = 'Hello\\iam\\gaurav'\n"
     ]
    },
    {
     "data": {
      "text/plain": [
       "'Hello\\\\iam\\\\gaurav'"
      ]
     },
     "execution_count": 472,
     "metadata": {},
     "output_type": "execute_result"
    }
   ],
   "source": [
    "# Write a Python program to remove a newline in Python\n",
    "sent = 'Hello\\iam\\gaurav'\n",
    "cleaned_string = sent.replace(\"\\n\",\"\")\n",
    "cleaned_string"
   ]
  },
  {
   "cell_type": "code",
   "execution_count": 95,
   "id": "37b5f7e1",
   "metadata": {},
   "outputs": [
    {
     "name": "stdout",
     "output_type": "stream",
     "text": [
      "32,054.23\n"
     ]
    }
   ],
   "source": [
    "# Write a Python program to swap commas and dots in a string ○ Sample string: \"32.054,23\" ○ Expected Output: \"32,054.23\"\n",
    "\n",
    "input_string = \"32.054,23\"\n",
    "temp_string = input_string.replace('.','#')\n",
    "#print(temp_string)\n",
    "temp_string = temp_string.replace(',','.')\n",
    "#print(temp_string)\n",
    "output_string = temp_string.replace('#',',')\n",
    "#output_string = input_string.replace(',.', '.,')\n",
    "print(output_string)"
   ]
  },
  {
   "cell_type": "code",
   "execution_count": 96,
   "id": "12fa6ff4",
   "metadata": {},
   "outputs": [
    {
     "name": "stdout",
     "output_type": "stream",
     "text": [
      "p\n"
     ]
    }
   ],
   "source": [
    "# 24. Write a Python program to find the first repeated character in a given string\n",
    "string = 'pythonprogramming'\n",
    "\n",
    "repeated = set()\n",
    "for i in string:\n",
    "    if i in repeated:\n",
    "        print(i)\n",
    "        break\n",
    "    repeated.add(i)\n",
    "else:\n",
    "    print('No repeated count.')"
   ]
  },
  {
   "cell_type": "code",
   "execution_count": 97,
   "id": "286fed0e",
   "metadata": {},
   "outputs": [
    {
     "name": "stdout",
     "output_type": "stream",
     "text": [
      "{'gaurav': 1}\n",
      "[('gaurav', 1)]\n",
      "Not enough unique words.\n"
     ]
    }
   ],
   "source": [
    "# Write a Python program to find the second most repeated word in a given string\n",
    "word = 'gaurav'\n",
    "word_count = {}\n",
    "\n",
    "for i in word:\n",
    "    if i in word_count:\n",
    "        word_count[word] += 1\n",
    "    else:\n",
    "        word_count[word] = 1\n",
    "print(word_count)\n",
    "sorted_word = sorted(word_count.items(), key=lambda x: x[1], reverse=True)\n",
    "print(sorted_word)\n",
    "\n",
    "if len(sorted_word) < 2:\n",
    "    print(\"Not enough unique words.\")\n",
    "else:\n",
    "    second_most_word, count = sorted_words[1]\n",
    "    print(\"Second most repeated word:\", second_most_word)\n",
    "    print(\"Frequency:\", count)"
   ]
  },
  {
   "cell_type": "code",
   "execution_count": 98,
   "id": "f9fc887d",
   "metadata": {},
   "outputs": [
    {
     "name": "stdout",
     "output_type": "stream",
     "text": [
      "4 2\n"
     ]
    }
   ],
   "source": [
    "#Python program to Count Even and Odd numbers in a string\n",
    "\n",
    "number = '126478'\n",
    "even_count = 0\n",
    "odd_count = 0\n",
    "for i in number:\n",
    "    #print(i)\n",
    "    if int(i)% 2 == 0 :\n",
    "        even_count += 1\n",
    "    else:\n",
    "        odd_count += 1\n",
    "print(even_count, odd_count)"
   ]
  },
  {
   "cell_type": "code",
   "execution_count": 99,
   "id": "e60b05e2",
   "metadata": {},
   "outputs": [
    {
     "name": "stdout",
     "output_type": "stream",
     "text": [
      "The string contains only digits.\n"
     ]
    }
   ],
   "source": [
    "#How do you check if a string contains only digits?\n",
    "\n",
    "s = \"12345\"\n",
    "if s.isdigit():\n",
    "    print(\"The string contains only digits.\")\n",
    "else:\n",
    "    print(\"The string does not contain only digits.\")"
   ]
  },
  {
   "cell_type": "code",
   "execution_count": 100,
   "id": "08bf5e84",
   "metadata": {},
   "outputs": [
    {
     "name": "stdout",
     "output_type": "stream",
     "text": [
      "aurav\n"
     ]
    }
   ],
   "source": [
    "# How do you remove a given character/word from String?\n",
    "\n",
    "string = 'gaurav'\n",
    "char = 'g'\n",
    "filter_str = string.replace('g',\"\")\n",
    "print(filter_str)"
   ]
  },
  {
   "cell_type": "code",
   "execution_count": 101,
   "id": "1498a99d",
   "metadata": {},
   "outputs": [
    {
     "name": "stdout",
     "output_type": "stream",
     "text": [
      "arv"
     ]
    }
   ],
   "source": [
    "# Write a Python program to remove the characters which have odd index values of a given string.\n",
    "word = 'gaurav'\n",
    "new_string = ''\n",
    "for i in range(len(word)):\n",
    "    if i % 2 != 0:\n",
    "        print(word[i], end='')"
   ]
  },
  {
   "cell_type": "code",
   "execution_count": 102,
   "id": "5d196425",
   "metadata": {},
   "outputs": [
    {
     "name": "stdout",
     "output_type": "stream",
     "text": [
      "gaurav\n"
     ]
    }
   ],
   "source": [
    "# Write a Python function to reverses a string if its length is a multiple of 5\n",
    "string = 'gaurav'\n",
    "new_string = ''\n",
    "def length():\n",
    "    if len(string) % 5 == 0:\n",
    "        print(string[::-1])\n",
    "    else:\n",
    "        print(string)\n",
    "length()"
   ]
  },
  {
   "cell_type": "code",
   "execution_count": 103,
   "id": "abafbfa5",
   "metadata": {},
   "outputs": [
    {
     "name": "stdout",
     "output_type": "stream",
     "text": [
      "5%\n"
     ]
    }
   ],
   "source": [
    "# Write a Python program to format a number with a percentage(0.05 >> 5%)\n",
    "number = 0.05\n",
    "percentage = '{:.0%}'.format(number)\n",
    "print(percentage)"
   ]
  },
  {
   "cell_type": "code",
   "execution_count": 104,
   "id": "db062f34",
   "metadata": {},
   "outputs": [
    {
     "name": "stdout",
     "output_type": "stream",
     "text": [
      "varuag\n",
      "varuag"
     ]
    }
   ],
   "source": [
    "# Write a Python program to reverse words in a string\n",
    "string = 'gaurav'\n",
    "reversed = string[::-1]\n",
    "print(reversed)\n",
    "\n",
    "for i in range(len(string)-1, -1, -1):\n",
    "    print(string[i], end='')"
   ]
  },
  {
   "cell_type": "code",
   "execution_count": 105,
   "id": "af6d7d69",
   "metadata": {},
   "outputs": [
    {
     "name": "stdout",
     "output_type": "stream",
     "text": [
      "GAURAV\n"
     ]
    }
   ],
   "source": [
    "# 33. Write a Python program to swap cases of a given string\n",
    "string = 'gaurav'\n",
    "swap = string.swapcase()\n",
    "print(swap)"
   ]
  },
  {
   "cell_type": "code",
   "execution_count": 106,
   "id": "76f2410e",
   "metadata": {},
   "outputs": [
    {
     "name": "stdout",
     "output_type": "stream",
     "text": [
      "GauravLuteP\n"
     ]
    }
   ],
   "source": [
    "# Write a Python program to remove spaces from a given string\n",
    "\n",
    "string = 'Gaurav Lute P'\n",
    "new_string = string.replace(\" \", \"\")\n",
    "print(new_string)"
   ]
  },
  {
   "cell_type": "code",
   "execution_count": 107,
   "id": "fe9ed575",
   "metadata": {},
   "outputs": [
    {
     "name": "stdout",
     "output_type": "stream",
     "text": [
      "String after removing duplicates: gaurv\n"
     ]
    }
   ],
   "source": [
    "#35. Write a Python program to remove duplicate characters of a given string\n",
    "# Input from user\n",
    "input_string = 'gaurav'\n",
    "\n",
    "# Create an empty result string and a set to track seen characters\n",
    "result = \"\"\n",
    "seen = set()\n",
    "\n",
    "# Loop through each character\n",
    "for char in input_string:\n",
    "    if char not in seen:\n",
    "        result += char\n",
    "        seen.add(char)\n",
    "\n",
    "# Output result\n",
    "print(\"String after removing duplicates:\", result)\n"
   ]
  },
  {
   "cell_type": "code",
   "execution_count": 108,
   "id": "94fcfdaa",
   "metadata": {},
   "outputs": [
    {
     "name": "stdout",
     "output_type": "stream",
     "text": [
      "28.274333882308138\n"
     ]
    }
   ],
   "source": [
    "# Write a Python Program to find the area of a circle\n",
    "import numpy as np \n",
    "\n",
    "def area_circle(r):\n",
    "    result = np.pi * r**2\n",
    "    print(result)\n",
    "\n",
    "area_circle(3)"
   ]
  },
  {
   "cell_type": "code",
   "execution_count": 109,
   "id": "da0c97df",
   "metadata": {},
   "outputs": [
    {
     "name": "stdout",
     "output_type": "stream",
     "text": [
      "0 >>>>> 0\n",
      "1 >>>>> 1\n",
      "2 >>>>> 4\n",
      "3 >>>>> 9\n",
      "4 >>>>> 16\n"
     ]
    }
   ],
   "source": [
    "# Python Program to find Sum of squares of first n natural numbers\n",
    "n = 5\n",
    "for i in range(n):\n",
    "    print(i,'>>>>>' ,i*i)"
   ]
  },
  {
   "cell_type": "code",
   "execution_count": 110,
   "id": "bd5d74bc",
   "metadata": {},
   "outputs": [
    {
     "name": "stdout",
     "output_type": "stream",
     "text": [
      "0\n",
      "1\n",
      "8\n",
      "27\n",
      "64\n",
      "125\n"
     ]
    }
   ],
   "source": [
    "#Python Program to find cube sum of first n natural numbers\n",
    "n = 5\n",
    "for i in range(n+1):\n",
    "    print(i**3)"
   ]
  },
  {
   "cell_type": "code",
   "execution_count": 111,
   "id": "32a50158",
   "metadata": {},
   "outputs": [
    {
     "data": {
      "text/plain": [
       "False"
      ]
     },
     "execution_count": 111,
     "metadata": {},
     "output_type": "execute_result"
    }
   ],
   "source": [
    "#Python program to check whether a number is Prime or not\n",
    "def isprime(n):\n",
    "    if n <= 1:\n",
    "        return False\n",
    "    for i in range(2, int(n**0.5) + 1):\n",
    "        if n % i == 0:\n",
    "            return False\n",
    "    return True \n",
    "isprime(9)"
   ]
  },
  {
   "cell_type": "code",
   "execution_count": 112,
   "id": "245323ff",
   "metadata": {},
   "outputs": [
    {
     "name": "stdout",
     "output_type": "stream",
     "text": [
      "True\n"
     ]
    }
   ],
   "source": [
    "def isprime(n):\n",
    "    if n <= 1:\n",
    "        return False\n",
    "    for i in range(2, int(n ** 0.5) + 1):\n",
    "        if n % i == 0:\n",
    "            return False\n",
    "    return True\n",
    "\n",
    "# Test\n",
    "print(isprime(13))  # Output: True\n"
   ]
  },
  {
   "cell_type": "code",
   "execution_count": 113,
   "id": "9f6958b3",
   "metadata": {},
   "outputs": [
    {
     "data": {
      "text/plain": [
       "True"
      ]
     },
     "execution_count": 113,
     "metadata": {},
     "output_type": "execute_result"
    }
   ],
   "source": [
    "def isprime(n):\n",
    "    if n <= 1:\n",
    "        return False \n",
    "    for i in range(2, n):\n",
    "        if n % i == 0:\n",
    "            return False\n",
    "            break\n",
    "    return True\n",
    "isprime(11)"
   ]
  },
  {
   "cell_type": "code",
   "execution_count": 114,
   "id": "9a25ac78",
   "metadata": {},
   "outputs": [
    {
     "data": {
      "text/plain": [
       "True"
      ]
     },
     "execution_count": 114,
     "metadata": {},
     "output_type": "execute_result"
    }
   ],
   "source": [
    "def isprime(n):\n",
    "    if n <= 1:\n",
    "        return False\n",
    "    for i in range(2, n):\n",
    "        if n % i == 0:\n",
    "            return False\n",
    "            break\n",
    "    return True\n",
    "isprime(7)"
   ]
  },
  {
   "cell_type": "code",
   "execution_count": 115,
   "id": "aee6847e",
   "metadata": {},
   "outputs": [],
   "source": [
    "# Assignment 2 List and Tuple "
   ]
  },
  {
   "cell_type": "code",
   "execution_count": 116,
   "id": "3412fccd",
   "metadata": {},
   "outputs": [],
   "source": [
    "# list is mutable , tuple is unmutable "
   ]
  },
  {
   "cell_type": "code",
   "execution_count": 476,
   "id": "036b2443",
   "metadata": {},
   "outputs": [
    {
     "name": "stdout",
     "output_type": "stream",
     "text": [
      "99\n"
     ]
    }
   ],
   "source": [
    "# Python Program to find the largest element in the list\n",
    "l1 = [1,2,3,9,6,7,8,99]\n",
    "largest = l1[0]\n",
    "\n",
    "for i in l1:\n",
    "    if largest < i:\n",
    "        largest = i \n",
    "        \n",
    "print(largest)"
   ]
  },
  {
   "cell_type": "code",
   "execution_count": 118,
   "id": "e98f8ddc",
   "metadata": {},
   "outputs": [],
   "source": [
    "# Python program to interchange first and last elements in a list.# Python program to swap two elements in a list\n",
    "l1 = [1,2,3,4,5,6,7,8]\n",
    "l1[0], l1[-1] = l1[-1], l1[0]"
   ]
  },
  {
   "cell_type": "code",
   "execution_count": 119,
   "id": "34e275e9",
   "metadata": {},
   "outputs": [
    {
     "data": {
      "text/plain": [
       "[8, 7, 6, 5, 4, 3, 2, 1]"
      ]
     },
     "execution_count": 119,
     "metadata": {},
     "output_type": "execute_result"
    }
   ],
   "source": [
    "#  Python program to Reverse a List\n",
    "l1 = [1,2,3,4,5,6,7,8]\n",
    "reversed = l1[::-1]\n",
    "reversed"
   ]
  },
  {
   "cell_type": "code",
   "execution_count": 120,
   "id": "ad22be46",
   "metadata": {},
   "outputs": [
    {
     "name": "stdout",
     "output_type": "stream",
     "text": [
      "2\n",
      "2\n"
     ]
    }
   ],
   "source": [
    "#  Python program to count occurrences of an element in a list\n",
    "l1 = [1,2,3,4,4,5,6,7]\n",
    "occurence = 4 \n",
    "count = 0\n",
    "for i in l1:\n",
    "    if occurence == i:\n",
    "        count += 1\n",
    "print(count)\n",
    "print(l1.count(occurence))"
   ]
  },
  {
   "cell_type": "code",
   "execution_count": 121,
   "id": "9476a0fc",
   "metadata": {},
   "outputs": [
    {
     "name": "stdout",
     "output_type": "stream",
     "text": [
      "45\n"
     ]
    }
   ],
   "source": [
    "# Python program to find the sum of elements in a list\n",
    "l1 = [1,2,3,4,5,6,7,8,9]\n",
    "sum_element = 0\n",
    "for i in l1:\n",
    "    sum_element += i\n",
    "print(sum_element)"
   ]
  },
  {
   "cell_type": "code",
   "execution_count": 122,
   "id": "b8ecc764",
   "metadata": {},
   "outputs": [
    {
     "name": "stdout",
     "output_type": "stream",
     "text": [
      "6531840\n"
     ]
    }
   ],
   "source": [
    "#  Python program to Multiply all numbers in the list\n",
    "l1 = [1,2,3,4,5,6,7,8,9,9,2]\n",
    "mul_l1 = 1\n",
    "for i in l1:\n",
    "    mul_l1 *= i\n",
    "print(mul_l1)"
   ]
  },
  {
   "cell_type": "code",
   "execution_count": 123,
   "id": "8eb9f775",
   "metadata": {},
   "outputs": [
    {
     "name": "stdout",
     "output_type": "stream",
     "text": [
      "6\n",
      "6\n"
     ]
    }
   ],
   "source": [
    "# What are the ways to find the length of a list\n",
    "l1 = [1,2,3,4,5,6]\n",
    "print(len(l1))\n",
    "count = 0\n",
    "for i in l1:\n",
    "    count += 1\n",
    "print(count)"
   ]
  },
  {
   "cell_type": "code",
   "execution_count": 124,
   "id": "a62a8130",
   "metadata": {},
   "outputs": [
    {
     "name": "stdout",
     "output_type": "stream",
     "text": [
      "1\n",
      "89\n"
     ]
    }
   ],
   "source": [
    "#Python program to find the smallest and largest number in a list (Without min-max function)\n",
    "\n",
    "l1 = [1,2,3,4,5,6,7,89,9]\n",
    "\n",
    "min_no = l1[0]\n",
    "max_no = l1[0]\n",
    "\n",
    "for i in l1:\n",
    "    if min_no > i :\n",
    "        min_no = i\n",
    "    elif max_no < i:\n",
    "        max_no = i\n",
    "\n",
    "print(min_no)\n",
    "print(max_no)\n"
   ]
  },
  {
   "cell_type": "code",
   "execution_count": 125,
   "id": "a7050ae6",
   "metadata": {},
   "outputs": [
    {
     "data": {
      "text/plain": [
       "78.5"
      ]
     },
     "execution_count": 125,
     "metadata": {},
     "output_type": "execute_result"
    }
   ],
   "source": [
    "# Python Program to find the area of a circle\n",
    "def area_circle(r):\n",
    "    return 3.14*r**2\n",
    "area_circle(5)"
   ]
  },
  {
   "cell_type": "code",
   "execution_count": 126,
   "id": "d57b56e1",
   "metadata": {},
   "outputs": [
    {
     "name": "stdout",
     "output_type": "stream",
     "text": [
      "[1, 3, 4, 5, 6, 7, 8]\n"
     ]
    }
   ],
   "source": [
    "# Take inputs from the user to make a list. Again take one input from the user and search it in the list and delete that element, \n",
    "# if found. Iterate over a list using for loop.\n",
    "\n",
    "l1 = [1,2,3,4,5,6,7,8]\n",
    "element = 2\n",
    "\n",
    "for i in l1:\n",
    "    if element == i:\n",
    "        l1.remove(i)\n",
    "print(l1)"
   ]
  },
  {
   "cell_type": "code",
   "execution_count": 127,
   "id": "a2446561",
   "metadata": {},
   "outputs": [
    {
     "name": "stdout",
     "output_type": "stream",
     "text": [
      "[1, 4, 9, 16, 25, 36]\n"
     ]
    }
   ],
   "source": [
    "'''\n",
    "You are given a list of integer elements. Make a new list that will store a\n",
    " square of elements of the previous list. (With and without list comprehension)\n",
    " i. Input_list = [2,5,6,12]\n",
    " ii. Output_list = [4,25,36,144]\n",
    "'''\n",
    "l1 = [1,2,3,4,5,6]\n",
    "l2 = []\n",
    "for i in l1:\n",
    "    res = i*i\n",
    "    l2.append(res)\n",
    "print(l2)\n"
   ]
  },
  {
   "cell_type": "code",
   "execution_count": 128,
   "id": "19ec05ed",
   "metadata": {},
   "outputs": [
    {
     "name": "stdout",
     "output_type": "stream",
     "text": [
      "[2, 4, 6, 8, 10]\n",
      "[1, 3, 5, 7, 9]\n"
     ]
    }
   ],
   "source": [
    "# WAP to create two lists, one containing all even numbers and the other containing all odd numbers between 0 to 151\n",
    "l1 = [1,2,3,4,5,6,7,8,9,10]\n",
    "l1_odd = []\n",
    "l1_even = []\n",
    "for i in l1:\n",
    "    if i % 2 == 0:\n",
    "        l1_even.append(i)\n",
    "    else:\n",
    "        l1_odd.append(i)\n",
    "print(l1_even)\n",
    "print(l1_odd)"
   ]
  },
  {
   "cell_type": "code",
   "execution_count": 129,
   "id": "0ae77f8c",
   "metadata": {},
   "outputs": [
    {
     "name": "stdout",
     "output_type": "stream",
     "text": [
      "[0, 3, 4, 5, 6, 7, 8, 9, 10, 12, 14, 15, 16, 18, 20, 21, 24, 25, 27, 28, 30, 32, 33, 35, 36, 39, 40, 42, 44, 45, 48, 49, 50, 51, 52, 54, 55, 56, 57, 60, 63, 64, 65, 66, 68, 69, 70, 72, 75, 76, 77, 78, 80, 81, 84, 85, 87, 88, 90, 91, 92, 93, 95, 96, 98, 99, 100, 102, 104, 105, 108, 110, 111, 112, 114, 115, 116, 117, 119, 120, 123, 124, 125, 126, 128, 129, 130, 132, 133, 135, 136, 138, 140, 141, 144, 145, 147, 148, 150]\n"
     ]
    }
   ],
   "source": [
    "# WAP to make new lists, containing only numbers which are divisible by 4, 6, 8, 10, 3, 5, 7, and 9 in separate lists for range(0,151)\n",
    "\n",
    "l1 = [i for i in range(0, 151)]\n",
    "l2 = [4,6,8,10,3,5,7,9]\n",
    "\n",
    "new_list = []\n",
    "for i in l1:\n",
    "    for j in l2:\n",
    "        if i % j == 0 and i not in new_list:\n",
    "            new_list.append(i)\n",
    "\n",
    "print(new_list)"
   ]
  },
  {
   "cell_type": "code",
   "execution_count": 130,
   "id": "994d7d2c",
   "metadata": {},
   "outputs": [
    {
     "name": "stdout",
     "output_type": "stream",
     "text": [
      "[1, 2, 3]\n",
      "['q', 'a', 'l']\n",
      "[3.14, 5.33]\n"
     ]
    }
   ],
   "source": [
    "# From a list containing ints, strings, and floats, make three lists to store them separately\n",
    "l1 = [1,2,3,'q','a','l', 3.14, 5.33]\n",
    "l1_int = []\n",
    "l1_str = []\n",
    "l1_float = []\n",
    "\n",
    "for i in l1:\n",
    "    if type(i) == int :\n",
    "        l1_int.append(i)\n",
    "    elif type(i) == str:\n",
    "        l1_str.append(i)\n",
    "    elif type(i) == float:\n",
    "        l1_float.append(i)\n",
    "\n",
    "print(l1_int)\n",
    "print(l1_str)\n",
    "print(l1_float)"
   ]
  },
  {
   "cell_type": "code",
   "execution_count": 131,
   "id": "5794125d",
   "metadata": {},
   "outputs": [
    {
     "name": "stdout",
     "output_type": "stream",
     "text": [
      "[1, 2, 3, 4, 5, [2, 3, 4, 5, 6]]\n",
      "[1, 2, 3, 4, 5, [2, 3, 4, 5, 6], 2, 3, 4, 5, 6]\n"
     ]
    }
   ],
   "source": [
    "# What’s The Difference Between The Python append() and extend() Methods?\n",
    "l1 = [1,2,3,4,5]\n",
    "l2 = [2,3,4,5,6]\n",
    "\n",
    "l1.append(l2)\n",
    "print(l1)\n",
    "\n",
    "l1.extend(l2)\n",
    "print(l1)"
   ]
  },
  {
   "cell_type": "code",
   "execution_count": 132,
   "id": "34b66dee",
   "metadata": {},
   "outputs": [
    {
     "name": "stdout",
     "output_type": "stream",
     "text": [
      "[1, 2, 3, 45, 6, [2, 4, 5]]\n"
     ]
    }
   ],
   "source": [
    "#  Write a Python program to append a list to the second list\n",
    "l1 = [1,2,3,45,6]\n",
    "l2 = [2,4,5]\n",
    "\n",
    "l1.append(l2)\n",
    "print(l1)"
   ]
  },
  {
   "cell_type": "code",
   "execution_count": 133,
   "id": "1dc4199a",
   "metadata": {},
   "outputs": [
    {
     "name": "stdout",
     "output_type": "stream",
     "text": [
      "[10, 12, 15, 17, 25]\n"
     ]
    },
    {
     "data": {
      "text/plain": [
       "15"
      ]
     },
     "execution_count": 133,
     "metadata": {},
     "output_type": "execute_result"
    }
   ],
   "source": [
    "# Write a Python program to find the third-largest number in a list\n",
    "l1 = [12,15,10,17,25]\n",
    "third_lar = sorted(l1)\n",
    "\n",
    "print(third_lar)\n",
    "third_lar[-3]"
   ]
  },
  {
   "cell_type": "code",
   "execution_count": 134,
   "id": "02ccc078",
   "metadata": {},
   "outputs": [
    {
     "name": "stdout",
     "output_type": "stream",
     "text": [
      "{2: 5, 3: 2, 4: 1, 5: 2, 7: 1, 8: 1, 9: 1, 0: 1}\n"
     ]
    }
   ],
   "source": [
    "#  Write a Python program to get the frequency of the elements in a list.\n",
    "l1 = [2,2,3,4,5,5,7,8,9,0,2,2,2,3]\n",
    "\n",
    "frequency = {}\n",
    "for i in l1:\n",
    "    if i in frequency:\n",
    "        frequency[i] += 1\n",
    "    else:\n",
    "        frequency[i] = 1\n",
    "print(frequency)"
   ]
  },
  {
   "cell_type": "code",
   "execution_count": 135,
   "id": "4c7f474a",
   "metadata": {},
   "outputs": [],
   "source": [
    "# Write a Python program to check whether a list contains a sublist\n",
    "l1 = [1,2,3,[3,4,5],6,7]\n"
   ]
  },
  {
   "cell_type": "code",
   "execution_count": 136,
   "id": "01f78a99",
   "metadata": {},
   "outputs": [
    {
     "name": "stdout",
     "output_type": "stream",
     "text": [
      "All sublists:\n",
      "[1]\n",
      "[1, 2]\n",
      "[2]\n",
      "[1, 2, 3]\n",
      "[2, 3]\n",
      "[3]\n"
     ]
    }
   ],
   "source": [
    "# Function to generate all sublists\n",
    "def generate_sublists(lst):\n",
    "    sublists = []\n",
    "    for i in range(len(lst) + 1):\n",
    "        for j in range(i):\n",
    "            sublists.append(lst[j:i])\n",
    "    return sublists\n",
    "\n",
    "# Example list\n",
    "my_list = [1, 2, 3]\n",
    "\n",
    "# Generate and print all sublists\n",
    "all_sublists = generate_sublists(my_list)\n",
    "print(\"All sublists:\")\n",
    "for sub in all_sublists:\n",
    "    print(sub)\n"
   ]
  },
  {
   "cell_type": "code",
   "execution_count": 137,
   "id": "b3f52bc5",
   "metadata": {},
   "outputs": [
    {
     "name": "stdout",
     "output_type": "stream",
     "text": [
      "[1, 3, 4]\n"
     ]
    }
   ],
   "source": [
    "# Write a Python program to find common items from two lists.\n",
    "l1 = [1,1,2,3,4,4,5]\n",
    "l2 = [1,23,3,4]\n",
    "common = []\n",
    "for i in l1:\n",
    "    if i in l2 and i not in common:\n",
    "        common.append(i)\n",
    "print(common)\n"
   ]
  },
  {
   "cell_type": "code",
   "execution_count": 138,
   "id": "b9c32e7a",
   "metadata": {},
   "outputs": [
    {
     "data": {
      "text/plain": [
       "[1, 2, 3, 4, 5, 6, 7, 8, 9]"
      ]
     },
     "execution_count": 138,
     "metadata": {},
     "output_type": "execute_result"
    }
   ],
   "source": [
    "# How to flatten a list in python?\n",
    "l1 = [[1,2],[3,4],[5,6],[7,8,9]]\n",
    "l2 = []\n",
    "for i in l1:\n",
    "    for j in i:\n",
    "        l2.append(j)\n",
    "l2"
   ]
  },
  {
   "cell_type": "code",
   "execution_count": 139,
   "id": "2cd9d14b",
   "metadata": {},
   "outputs": [
    {
     "name": "stdout",
     "output_type": "stream",
     "text": [
      "[2, 1, 4, 5, 7]\n"
     ]
    }
   ],
   "source": [
    "# How to sort a list in ascending and descending order without using the sort function?\n",
    "l1 = [4, 2, 7, 1, 5]\n",
    "asending = []\n",
    "desending = []\n",
    "\n",
    "for i in range(len(l1)):\n",
    "    for j in range(i +1, len(l1)):\n",
    "        if l1[i] > l2[j]:\n",
    "            l1[i], l1[j] = l1[j], l1[i]\n",
    "print(l1)"
   ]
  },
  {
   "cell_type": "code",
   "execution_count": 140,
   "id": "ea35d1a8",
   "metadata": {},
   "outputs": [
    {
     "data": {
      "text/plain": [
       "(1, 2, 3)"
      ]
     },
     "execution_count": 140,
     "metadata": {},
     "output_type": "execute_result"
    }
   ],
   "source": [
    "#How to sort a tuple?\n",
    "l1 = (1,3,2)\n",
    "\n",
    "l2 = list(l1)\n",
    "l2.sort() # descending order l2.sort(reverse=True)\n",
    "\n",
    "l3 = tuple(l2)\n",
    "l3"
   ]
  },
  {
   "cell_type": "code",
   "execution_count": 141,
   "id": "3989a133",
   "metadata": {},
   "outputs": [
    {
     "name": "stdout",
     "output_type": "stream",
     "text": [
      "113350\n"
     ]
    }
   ],
   "source": [
    "# Write a Python program to convert a list of multiple integers into a single integer a. [11, 33, 50] >>>  113350\n",
    "\n",
    "l1 = [11, 33, 50]\n",
    "l2 = []\n",
    "\n",
    "result = int(''.join(str(num) for num in l1))\n",
    "print(result)"
   ]
  },
  {
   "cell_type": "code",
   "execution_count": 142,
   "id": "87be9521",
   "metadata": {},
   "outputs": [
    {
     "data": {
      "text/plain": [
       "[2, 3, 4, 5, 6]"
      ]
     },
     "execution_count": 142,
     "metadata": {},
     "output_type": "execute_result"
    }
   ],
   "source": [
    "# Difference between del and clear?\n",
    "l1 = [1,2,3,4,5,6]\n",
    "del l1[0]\n",
    "l1\n"
   ]
  },
  {
   "cell_type": "code",
   "execution_count": 143,
   "id": "90c3017f",
   "metadata": {},
   "outputs": [
    {
     "data": {
      "text/plain": [
       "[]"
      ]
     },
     "execution_count": 143,
     "metadata": {},
     "output_type": "execute_result"
    }
   ],
   "source": [
    "l1.clear()\n",
    "l1"
   ]
  },
  {
   "cell_type": "code",
   "execution_count": 144,
   "id": "ff2d0d42",
   "metadata": {},
   "outputs": [
    {
     "name": "stdout",
     "output_type": "stream",
     "text": [
      "None\n",
      "3\n"
     ]
    }
   ],
   "source": [
    "# Difference between remove and pop?\n",
    "l1 = [1,2,3,4,5,6]\n",
    "removed = l1.remove(1)\n",
    "print(removed)\n",
    "\n",
    "ppop = l1.pop(1)\n",
    "print(ppop)"
   ]
  },
  {
   "cell_type": "code",
   "execution_count": 145,
   "id": "cc071280",
   "metadata": {},
   "outputs": [
    {
     "name": "stdout",
     "output_type": "stream",
     "text": [
      "1\n",
      "[2]\n"
     ]
    }
   ],
   "source": [
    "#  Difference between indexing and Slicing?\n",
    "\n",
    "l1 = [1,2,3,4]\n",
    "# indexing \n",
    "index = l1[0]\n",
    "print(index)\n",
    "# slicing \n",
    "slicing = l1[1:2] #[start:end:step]\n",
    "print(slicing)"
   ]
  },
  {
   "cell_type": "code",
   "execution_count": 146,
   "id": "10d81e62",
   "metadata": {},
   "outputs": [
    {
     "data": {
      "text/plain": [
       "[1, 2, 5, 6, 37]"
      ]
     },
     "execution_count": 146,
     "metadata": {},
     "output_type": "execute_result"
    }
   ],
   "source": [
    "# Difference between sort and sorted? \n",
    "l1 = [1,2,37,5,6]\n",
    "# sort \n",
    "l1.sort() # original list directly change\n",
    "l1"
   ]
  },
  {
   "cell_type": "code",
   "execution_count": 147,
   "id": "497d0d0f",
   "metadata": {},
   "outputs": [
    {
     "data": {
      "text/plain": [
       "[1, 10, 15, 23]"
      ]
     },
     "execution_count": 147,
     "metadata": {},
     "output_type": "execute_result"
    }
   ],
   "source": [
    "l2 = [1,23,10,15]\n",
    "l22=sorted(l2) # not change original list \n",
    "l22"
   ]
  },
  {
   "cell_type": "code",
   "execution_count": 148,
   "id": "986b8aba",
   "metadata": {},
   "outputs": [
    {
     "data": {
      "text/plain": [
       "[1, 2, 3, 6, 48, 54]"
      ]
     },
     "execution_count": 148,
     "metadata": {},
     "output_type": "execute_result"
    }
   ],
   "source": [
    "# Difference between reverse and reversed?\n",
    "l1 = [1,2,3,54,6, 48]\n",
    "l1.sort()\n",
    "l1"
   ]
  },
  {
   "cell_type": "code",
   "execution_count": 149,
   "id": "efe14ee6",
   "metadata": {},
   "outputs": [
    {
     "data": {
      "text/plain": [
       "[1, 2, 3, 6, 48, 54]"
      ]
     },
     "execution_count": 149,
     "metadata": {},
     "output_type": "execute_result"
    }
   ],
   "source": [
    "l1 = [1,2,3,54,6, 48]\n",
    "l2 = sorted(l1)\n",
    "l2"
   ]
  },
  {
   "cell_type": "code",
   "execution_count": 150,
   "id": "ee256c5f",
   "metadata": {},
   "outputs": [
    {
     "data": {
      "text/plain": [
       "[1, 2, 3, 4, 5, 6]"
      ]
     },
     "execution_count": 150,
     "metadata": {},
     "output_type": "execute_result"
    }
   ],
   "source": [
    "# copy and deepcopy\n",
    "l1 = [1,2,3,4,5,6]\n",
    "co = l1.copy()\n",
    "co"
   ]
  },
  {
   "cell_type": "code",
   "execution_count": 151,
   "id": "8bef6053",
   "metadata": {},
   "outputs": [
    {
     "name": "stdout",
     "output_type": "stream",
     "text": [
      "Not empty\n"
     ]
    }
   ],
   "source": [
    "# How to check whether the list is empty or not? \n",
    "l1 = [1,2,3,4,5,6]\n",
    "\n",
    "if len(l1) == 0:\n",
    "    print('Empty')\n",
    "else:\n",
    "    print('Not empty')"
   ]
  },
  {
   "cell_type": "code",
   "execution_count": 152,
   "id": "d408aece",
   "metadata": {},
   "outputs": [
    {
     "name": "stdout",
     "output_type": "stream",
     "text": [
      "[1, 2, 3, 4, 4, 5, 6, 7]\n"
     ]
    }
   ],
   "source": [
    "# How to concatenate two lists?\n",
    "l1 = [1,2,3,4]\n",
    "l2 = [4,5,6,7]\n",
    "\n",
    "mix = l1 + l2\n",
    "print(mix)"
   ]
  },
  {
   "cell_type": "code",
   "execution_count": 153,
   "id": "ade1d7f7",
   "metadata": {},
   "outputs": [
    {
     "name": "stdout",
     "output_type": "stream",
     "text": [
      " Not Occured Not  Not  Not  Not  Not  Not "
     ]
    }
   ],
   "source": [
    "#  How to find the occurrences of an element in the python list?\n",
    "\n",
    "l1 = [1,2,3,4,5,6,7,8]\n",
    "element = 2\n",
    "for i in l1 :\n",
    "    if element == i :\n",
    "        print('Occured', end='')\n",
    "    else:\n",
    "        print(' Not ', end='')"
   ]
  },
  {
   "cell_type": "code",
   "execution_count": 154,
   "id": "e5007648",
   "metadata": {},
   "outputs": [
    {
     "name": "stdout",
     "output_type": "stream",
     "text": [
      "123345678"
     ]
    }
   ],
   "source": [
    "# How to flatten a list in python?\n",
    "l1 = [[1,2,3], [3,4,5], [6,7,8]]\n",
    "\n",
    "for i in l1:\n",
    "    for j in i:\n",
    "        print(j, end='')"
   ]
  },
  {
   "cell_type": "code",
   "execution_count": 155,
   "id": "b64336bc",
   "metadata": {},
   "outputs": [],
   "source": [
    "# Dictionary "
   ]
  },
  {
   "cell_type": "code",
   "execution_count": 156,
   "id": "5025637a",
   "metadata": {},
   "outputs": [
    {
     "name": "stdout",
     "output_type": "stream",
     "text": [
      "Sorted by keys: {'apple': 1, 'banana': 3, 'cherry': 2, 'date': 4}\n"
     ]
    }
   ],
   "source": [
    "# Sample dictionary\n",
    "my_dict = {'banana': 3, 'apple': 1, 'cherry': 2, 'date': 4}\n",
    "\n",
    "# Sort dictionary by keys\n",
    "sorted_dict = dict(sorted(my_dict.items()))\n",
    "\n",
    "# Display the sorted dictionary\n",
    "print(\"Sorted by keys:\", sorted_dict)"
   ]
  },
  {
   "cell_type": "code",
   "execution_count": 157,
   "id": "0065fb53",
   "metadata": {},
   "outputs": [
    {
     "name": "stdout",
     "output_type": "stream",
     "text": [
      "{'apple': 1, 'banana': 2, 'cherry': 2, 'date': 4}\n"
     ]
    }
   ],
   "source": [
    "# Python program to sort Python Dictionaries by Values\n",
    "my_dict = {'banana': 2, 'apple': 1, 'cherry': 2, 'date': 4}\n",
    "\n",
    "# sorted by values \n",
    "sorted_dict = dict(sorted(my_dict.items(), key= lambda x: x[1]))\n",
    "print(sorted_dict)"
   ]
  },
  {
   "cell_type": "code",
   "execution_count": 158,
   "id": "6696a4d6",
   "metadata": {},
   "outputs": [
    {
     "name": "stdout",
     "output_type": "stream",
     "text": [
      "9\n"
     ]
    }
   ],
   "source": [
    "# Python program to find the sum of all items in a dictionary\n",
    "sum_dic = sum(my_dict.values())\n",
    "print(sum_dic)"
   ]
  },
  {
   "cell_type": "code",
   "execution_count": 159,
   "id": "2bd8969c",
   "metadata": {},
   "outputs": [],
   "source": [
    "# Python program to remove a key from a dictionary\n",
    "#my_dict\n",
    "\n",
    "del my_dict['apple']\n"
   ]
  },
  {
   "cell_type": "code",
   "execution_count": 160,
   "id": "99dd6a20",
   "metadata": {},
   "outputs": [
    {
     "data": {
      "text/plain": [
       "{'banana': 2, 'cherry': 2, 'date': 4}"
      ]
     },
     "execution_count": 160,
     "metadata": {},
     "output_type": "execute_result"
    }
   ],
   "source": [
    "my_dict"
   ]
  },
  {
   "cell_type": "code",
   "execution_count": 161,
   "id": "2148c446",
   "metadata": {},
   "outputs": [
    {
     "name": "stdout",
     "output_type": "stream",
     "text": [
      "{'a': 1, 'b': 2, 'c': 3, 'd': 4, 'e': 5, 'f': 6}\n"
     ]
    }
   ],
   "source": [
    "# Python program to merge two Dictionaries\n",
    "dict1 = {'a':1, 'b': 2, 'c' :3}\n",
    "dict2 = {'d':4, 'e':5, 'f':6}\n",
    "\n",
    "mix = dict1.update(dict2)\n",
    "print(dict1)"
   ]
  },
  {
   "cell_type": "code",
   "execution_count": 162,
   "id": "69c9cddc",
   "metadata": {},
   "outputs": [
    {
     "name": "stdout",
     "output_type": "stream",
     "text": [
      "\n",
      "Total Marks = 20.0\n",
      "Average = 20.00\n",
      "Grade = F\n"
     ]
    }
   ],
   "source": [
    "#  Program to create grade calculator in Python\n",
    "# Get number of subjects\n",
    "num_subjects = int(input(\"Enter number of subjects: \"))\n",
    "\n",
    "# Initialize total\n",
    "total = 0\n",
    "\n",
    "# Take input for each subject\n",
    "for i in range(1, num_subjects + 1):\n",
    "    marks = float(input(f\"Enter marks for subject {i}: \"))\n",
    "    total += marks\n",
    "\n",
    "# Calculate average\n",
    "average = total / num_subjects\n",
    "\n",
    "# Determine grade\n",
    "if average >= 90:\n",
    "    grade = 'A+'\n",
    "elif average >= 80:\n",
    "    grade = 'A'\n",
    "elif average >= 70:\n",
    "    grade = 'B'\n",
    "elif average >= 60:\n",
    "    grade = 'C'\n",
    "elif average >= 50:\n",
    "    grade = 'D'\n",
    "else:\n",
    "    grade = 'F'\n",
    "\n",
    "# Output\n",
    "print(f\"\\nTotal Marks = {total}\")\n",
    "print(f\"Average = {average:.2f}\")\n",
    "print(f\"Grade = {grade}\")\n"
   ]
  },
  {
   "cell_type": "code",
   "execution_count": 163,
   "id": "574c548b",
   "metadata": {},
   "outputs": [
    {
     "name": "stdout",
     "output_type": "stream",
     "text": [
      "['bat', 'tab']\n",
      "['tap', 'pat']\n",
      "['cat', 'act']\n"
     ]
    }
   ],
   "source": [
    "# Print anagrams together in Python using List and Dictionary\n",
    "word = [\"bat\", \"tab\", \"tap\", \"pat\", \"cat\", \"act\"]\n",
    "\n",
    "anagram_dict = {}\n",
    "\n",
    "for word in word:\n",
    "    key = ''.join(sorted(word))\n",
    "    if key in anagram_dict:\n",
    "        anagram_dict[key].append(word)\n",
    "    else:\n",
    "        anagram_dict[key] = [word]\n",
    "\n",
    "for group in anagram_dict.values():\n",
    "    print(group)"
   ]
  },
  {
   "cell_type": "code",
   "execution_count": 164,
   "id": "000f1e94",
   "metadata": {},
   "outputs": [
    {
     "data": {
      "text/plain": [
       "False"
      ]
     },
     "execution_count": 164,
     "metadata": {},
     "output_type": "execute_result"
    }
   ],
   "source": [
    "#  Check if binary representations of two numbers are an anagram\n",
    "def are_binary_anagrams(num1, num2):\n",
    "    bin1 = bin(num1)[2:]\n",
    "    bin2 = bin(num2)[2:]\n",
    "\n",
    "    return sorted(bin1) == sorted(bin2)\n",
    "\n",
    "num1 = 2\n",
    "num2 = 3\n",
    "are_binary_anagrams(num1, num2)"
   ]
  },
  {
   "cell_type": "code",
   "execution_count": 165,
   "id": "88ed9fde",
   "metadata": {},
   "outputs": [
    {
     "name": "stdout",
     "output_type": "stream",
     "text": [
      "Size of largest anagram subset: 6\n"
     ]
    }
   ],
   "source": [
    "# Python Counter to find the size of the largest subset of anagram words\n",
    "from collections import Counter\n",
    "\n",
    "def largest_anagram_subset(words):\n",
    "    sorted_word = [''.join(sorted(words)) for word in words]\n",
    "    word_count = Counter(sorted_word)\n",
    "    return max(word_count.values())\n",
    "words = [\"bat\", \"tab\", \"tap\", \"pat\", \"cat\", \"act\"]\n",
    "print(\"Size of largest anagram subset:\", largest_anagram_subset(words))"
   ]
  },
  {
   "cell_type": "code",
   "execution_count": 166,
   "id": "8b3c3f78",
   "metadata": {},
   "outputs": [
    {
     "name": "stdout",
     "output_type": "stream",
     "text": [
      "Original: abcXYZ\n",
      "Mirrored: zyxCBA\n"
     ]
    }
   ],
   "source": [
    "def mirror_characters(s):\n",
    "    # Create mirror dictionary for lowercase letters\n",
    "    mirror = {chr(i): chr(219 - i) for i in range(97, 123)}  # a-z\n",
    "\n",
    "    # You can also include uppercase if needed\n",
    "    mirror.update({chr(i): chr(155 - i) for i in range(65, 91)})  # A-Z\n",
    "\n",
    "    # Build the mirrored string\n",
    "    mirrored = ''.join(mirror.get(ch, ch) for ch in s)\n",
    "    \n",
    "    return mirrored\n",
    "\n",
    "# Example usage\n",
    "input_str = \"abcXYZ\"\n",
    "output_str = mirror_characters(input_str)\n",
    "print(\"Original:\", input_str)\n",
    "print(\"Mirrored:\", output_str)\n"
   ]
  },
  {
   "cell_type": "code",
   "execution_count": 167,
   "id": "d121634d",
   "metadata": {},
   "outputs": [
    {
     "name": "stdout",
     "output_type": "stream",
     "text": [
      "Frequencies: {'apple': 3, 'banana': 2, 'orange': 1}\n"
     ]
    }
   ],
   "source": [
    "#  Counting the frequencies in a list using a dictionary in Python\n",
    "def count_ferquency(l1):\n",
    "    freq_dict = {}\n",
    "    for i in l1:\n",
    "        if i in freq_dict:\n",
    "            freq_dict[i] += 1\n",
    "        else:\n",
    "            freq_dict[i] = 1\n",
    "    return freq_dict\n",
    "\n",
    "# Example usage\n",
    "sample_list = ['apple', 'banana', 'apple', 'orange', 'banana', 'apple']\n",
    "frequencies = count_ferquency(sample_list)\n",
    "\n",
    "print(\"Frequencies:\", frequencies)"
   ]
  },
  {
   "cell_type": "code",
   "execution_count": 168,
   "id": "d817a6b8",
   "metadata": {},
   "outputs": [],
   "source": [
    "#  Scraping And Finding Ordered Words In A Dictionary using Python\n"
   ]
  },
  {
   "cell_type": "code",
   "execution_count": 169,
   "id": "4ceb4542",
   "metadata": {},
   "outputs": [
    {
     "name": "stdout",
     "output_type": "stream",
     "text": [
      "(4, 64)\n",
      "[(1, 1), (2, 8), (3, 27), (4, 64)]\n"
     ]
    }
   ],
   "source": [
    "#  Create a list of tuples from the given list having a number and its cube in each tuple\n",
    "l1 = [1,2,3,4]\n",
    "l2 = []\n",
    "for i in l1:\n",
    "    result = (i, i**3)\n",
    "    l2.append(result)\n",
    "print(result)\n",
    "print(l2)"
   ]
  },
  {
   "cell_type": "code",
   "execution_count": 170,
   "id": "315a7a9e",
   "metadata": {},
   "outputs": [
    {
     "name": "stdout",
     "output_type": "stream",
     "text": [
      "[(1, 3), (2, 1), (3, 2), (4, 5)]\n"
     ]
    }
   ],
   "source": [
    "#  Sort a list of tuples by the second Item\n",
    "sample_list = [(1, 3), (2, 1), (4, 5), (3, 2)]\n",
    "\n",
    "sorted_list = sorted(sample_list, key = lambda x:x[0])\n",
    "print(sorted_list)"
   ]
  },
  {
   "cell_type": "code",
   "execution_count": 171,
   "id": "9300d324",
   "metadata": {},
   "outputs": [
    {
     "name": "stdout",
     "output_type": "stream",
     "text": [
      "Sorted list: [2, 4, 5, 8, 9]\n"
     ]
    }
   ],
   "source": [
    "#  Python Program for Insertion Sort\n",
    "def insertion_sort(arr):\n",
    "    for i in range(1, len(arr)):\n",
    "        for j in range(i, 0, -1):\n",
    "            if arr[j] < arr[j - 1]:\n",
    "                arr[j], arr[j - 1] = arr[j - 1], arr[j]\n",
    "            else:\n",
    "                break\n",
    "\n",
    "# Example usage\n",
    "nums = [8, 4, 2, 9, 5]\n",
    "insertion_sort(nums)\n",
    "print(\"Sorted list:\", nums)"
   ]
  },
  {
   "cell_type": "code",
   "execution_count": 172,
   "id": "3f20524f",
   "metadata": {},
   "outputs": [
    {
     "name": "stdout",
     "output_type": "stream",
     "text": [
      "Sorted list: [11, 12, 22, 25, 64]\n"
     ]
    }
   ],
   "source": [
    "#  Python Program for SelectionSort\n",
    "arr = [64, 25, 12, 22, 11]\n",
    "n = len(arr)\n",
    "\n",
    "for i in range(n):\n",
    "    min_index = i\n",
    "    for j in range(i+1, n):\n",
    "        if arr[j] < arr[min_index]:\n",
    "            min_index = j\n",
    "    arr[i], arr[min_index] = arr[min_index], arr[i]\n",
    "\n",
    "print(\"Sorted list:\", arr)\n"
   ]
  },
  {
   "cell_type": "code",
   "execution_count": 173,
   "id": "fdd0aebd",
   "metadata": {},
   "outputs": [
    {
     "name": "stdout",
     "output_type": "stream",
     "text": [
      "Sorted list: [11, 12, 22, 25, 34, 64, 90]\n"
     ]
    }
   ],
   "source": [
    "# Python bubble sort\n",
    "arr = [64, 34, 25, 12, 22, 11, 90]\n",
    "n = len(arr)\n",
    "\n",
    "for i in range(n):\n",
    "    for j in range(0, n - i - 1):\n",
    "        if arr[j] > arr[j + 1]:\n",
    "            # Swap if the element found is greater than the next element\n",
    "            arr[j], arr[j + 1] = arr[j + 1], arr[j]\n",
    "\n",
    "print(\"Sorted list:\", arr)"
   ]
  },
  {
   "cell_type": "markdown",
   "id": "71a4d360",
   "metadata": {},
   "source": [
    "OOPs"
   ]
  },
  {
   "cell_type": "code",
   "execution_count": 174,
   "id": "962ff8f1",
   "metadata": {},
   "outputs": [
    {
     "name": "stdout",
     "output_type": "stream",
     "text": [
      "Toyota Fortuner\n",
      "None\n"
     ]
    }
   ],
   "source": [
    "#  What Is Object-Oriented Programming?\n",
    "# oops contains class and atributes.\n",
    "class Car:\n",
    "    def __init__(self, brand, name):\n",
    "        self.brand = brand\n",
    "        self.name = name\n",
    "\n",
    "    def drive(self):\n",
    "        print(self.brand, self.name)\n",
    "\n",
    "car = Car('Toyota', 'Fortuner')\n",
    "print(car.drive())\n"
   ]
  },
  {
   "cell_type": "code",
   "execution_count": 175,
   "id": "5d333cbe",
   "metadata": {},
   "outputs": [
    {
     "name": "stdout",
     "output_type": "stream",
     "text": [
      "<__main__.Animal object at 0x0000017250779160>\n",
      "Bark\n",
      "None\n"
     ]
    }
   ],
   "source": [
    "# Inheritance \n",
    "class Animal:\n",
    "    def speaks(self):\n",
    "        print('Animal Sound')\n",
    "class Dog(Animal):\n",
    "    def speaks(self):\n",
    "        print('Bark')\n",
    "print(Animal())\n",
    "res = Animal()\n",
    "res1 = Dog()\n",
    "print(res1.speaks())"
   ]
  },
  {
   "cell_type": "code",
   "execution_count": 176,
   "id": "4f55d9f0",
   "metadata": {},
   "outputs": [
    {
     "name": "stdout",
     "output_type": "stream",
     "text": [
      "Drawing circle\n",
      "Drawing square\n"
     ]
    }
   ],
   "source": [
    "class Shape:\n",
    "    def draw(self):\n",
    "        print(\"Drawing shape\")\n",
    "\n",
    "class Circle(Shape):\n",
    "    def draw(self):\n",
    "        print(\"Drawing circle\")\n",
    "\n",
    "class Square(Shape):\n",
    "    def draw(self):\n",
    "        print(\"Drawing square\")\n",
    "\n",
    "# Polymorphism in action\n",
    "shapes = [Circle(), Square()]\n",
    "for shape in shapes:\n",
    "    shape.draw()"
   ]
  },
  {
   "cell_type": "code",
   "execution_count": 177,
   "id": "e2254041",
   "metadata": {},
   "outputs": [
    {
     "name": "stdout",
     "output_type": "stream",
     "text": [
      "Buddy say wolf\n",
      "Max say wolf\n"
     ]
    }
   ],
   "source": [
    "# What is objects \n",
    "class Dog:\n",
    "    def __init__(self, name, breed):\n",
    "        self.name = name\n",
    "        self.breed = breed\n",
    "    def bark(self):\n",
    "        print(f'{self.name} say wolf')\n",
    "\n",
    "dog1 = Dog('Buddy', 'Golden Retriever')\n",
    "dog2 = Dog('Max', 'Labrador')\n",
    "\n",
    "dog1.bark()\n",
    "dog2.bark()"
   ]
  },
  {
   "cell_type": "code",
   "execution_count": 178,
   "id": "c3ad4b91",
   "metadata": {},
   "outputs": [],
   "source": [
    "# Numpy "
   ]
  },
  {
   "cell_type": "code",
   "execution_count": 179,
   "id": "b12489af",
   "metadata": {},
   "outputs": [
    {
     "name": "stdout",
     "output_type": "stream",
     "text": [
      "[0. 0. 0. 0. 0. 0. 0. 0. 0. 0.]\n"
     ]
    },
    {
     "data": {
      "text/plain": [
       "80"
      ]
     },
     "execution_count": 179,
     "metadata": {},
     "output_type": "execute_result"
    }
   ],
   "source": [
    "#1. Create a null vector of size 10\n",
    "import numpy as np \n",
    "array = np.zeros(10)\n",
    "print(array)\n",
    "#2. How to find the memory size of an array\n",
    "array.nbytes"
   ]
  },
  {
   "cell_type": "code",
   "execution_count": 180,
   "id": "133a1765",
   "metadata": {},
   "outputs": [
    {
     "data": {
      "text/plain": [
       "array([0., 0., 0., 0., 1., 0., 0., 0., 0., 0.])"
      ]
     },
     "execution_count": 180,
     "metadata": {},
     "output_type": "execute_result"
    }
   ],
   "source": [
    "#  3. Create a null vector of size 10 but the fifth value which is 1\n",
    "array[4] = 1\n",
    "array"
   ]
  },
  {
   "cell_type": "code",
   "execution_count": 181,
   "id": "f405b134",
   "metadata": {},
   "outputs": [
    {
     "data": {
      "text/plain": [
       "array([15, 16, 17, 18, 19, 20, 21, 22, 23, 24, 25, 26, 27, 28, 29, 30, 31,\n",
       "       32, 33, 34, 35, 36, 37, 38, 39, 40, 41, 42, 43, 44])"
      ]
     },
     "execution_count": 181,
     "metadata": {},
     "output_type": "execute_result"
    }
   ],
   "source": [
    "#4. Create a vector with values ranging from 15 to 45\n",
    "arr = np.arange(15,45)\n",
    "arr"
   ]
  },
  {
   "cell_type": "code",
   "execution_count": 189,
   "id": "fdad8dbc",
   "metadata": {},
   "outputs": [
    {
     "data": {
      "text/plain": [
       "array([5, 4, 3, 2, 1])"
      ]
     },
     "execution_count": 189,
     "metadata": {},
     "output_type": "execute_result"
    }
   ],
   "source": [
    "#  5. Reverse a vector (The first element becomes last)\n",
    "vector = np.arange(1,6)\n",
    "resevse_vector = vector[::-1]\n",
    "resevse_vector"
   ]
  },
  {
   "cell_type": "code",
   "execution_count": 192,
   "id": "049042ec",
   "metadata": {},
   "outputs": [
    {
     "name": "stdout",
     "output_type": "stream",
     "text": [
      "[ 6  8 41 85] [ -4  -4  27 -75] [  5  12 238 400] [0.2        0.33333333 4.85714286 0.0625    ]\n"
     ]
    }
   ],
   "source": [
    "#  6. Write a NumPy program to add, subtract, multiply, divide arguments element-wise 7.\n",
    "a = np.array([1,2,34,5])\n",
    "b = np.array([5,6,7,80])\n",
    "\n",
    "add = np.add(a,b)\n",
    "sub = np.subtract(a,b)\n",
    "mul = np.multiply(a,b)\n",
    "div = np.divide(a,b)\n",
    "\n",
    "print(add, sub, mul, div)"
   ]
  },
  {
   "cell_type": "code",
   "execution_count": 194,
   "id": "006f4165",
   "metadata": {},
   "outputs": [
    {
     "name": "stdout",
     "output_type": "stream",
     "text": [
      "[1. 2. 2. 4. 5.]\n"
     ]
    }
   ],
   "source": [
    "#  Write a NumPy program to round elements of the array to the nearest integer.\n",
    "arr = np.array([1.2,1.5, 2.5, 3.5, 4.6])\n",
    "\n",
    "r = np.round(arr)\n",
    "print(r)"
   ]
  },
  {
   "cell_type": "code",
   "execution_count": 201,
   "id": "2a06ac27",
   "metadata": {},
   "outputs": [
    {
     "name": "stdout",
     "output_type": "stream",
     "text": [
      "[1. 1. 2. 3. 4.]\n",
      "[2. 2. 3. 4. 5.]\n"
     ]
    }
   ],
   "source": [
    "# Write a NumPy program to get the floor and ceiling values of the elements of a NumPy array.\n",
    "floar = np.floor(arr)\n",
    "print(floar)\n",
    "celing = np.ceil(arr)\n",
    "print(celing)"
   ]
  },
  {
   "cell_type": "code",
   "execution_count": 208,
   "id": "2fe89675",
   "metadata": {},
   "outputs": [
    {
     "data": {
      "text/plain": [
       "np.float64(4.0)"
      ]
     },
     "execution_count": 208,
     "metadata": {},
     "output_type": "execute_result"
    }
   ],
   "source": [
    "#  9. Write a NumPy program to calculate mean across dimensions, in a 2D NumPy array. \n",
    "array1 = np.array([[1,2,3,4],[4,5,6,7]])\n",
    "mean = np.mean(array1)\n",
    "mean"
   ]
  },
  {
   "cell_type": "code",
   "execution_count": 211,
   "id": "ebad442b",
   "metadata": {},
   "outputs": [
    {
     "name": "stdout",
     "output_type": "stream",
     "text": [
      "[0.01745329 0.03490659 0.05235988 0.06981317 0.08726646]\n"
     ]
    }
   ],
   "source": [
    "#  Write a NumPy program to convert angles from degrees to radians for all elements in a given array.\n",
    "arr = np.array([1,2,3,4,5])\n",
    "radian = np.deg2rad(arr)\n",
    "print(radian)"
   ]
  },
  {
   "cell_type": "code",
   "execution_count": 212,
   "id": "fed8fc77",
   "metadata": {},
   "outputs": [
    {
     "name": "stdout",
     "output_type": "stream",
     "text": [
      "False\n",
      "True\n"
     ]
    }
   ],
   "source": [
    "# 11. What is the use of all and any function in numpy?\n",
    "a = np.array([1, 2, 3, 0])\n",
    "\n",
    "print(np.all(a > 0))  # False (because 0 is not > 0)\n",
    "print(np.any(a > 2))  # True (because 3 is > 2)\n"
   ]
  },
  {
   "cell_type": "code",
   "execution_count": 226,
   "id": "de79a937",
   "metadata": {},
   "outputs": [
    {
     "data": {
      "text/plain": [
       "array([[0, 1, 2],\n",
       "       [3, 4, 5],\n",
       "       [6, 7, 8]])"
      ]
     },
     "execution_count": 226,
     "metadata": {},
     "output_type": "execute_result"
    }
   ],
   "source": [
    "#  Create a 3x3 matrix with values ranging from 0 to 8\n",
    "matrix = np.arange(9).reshape(3,3)\n",
    "matrix"
   ]
  },
  {
   "cell_type": "code",
   "execution_count": 241,
   "id": "e2d50ec5",
   "metadata": {},
   "outputs": [
    {
     "name": "stdout",
     "output_type": "stream",
     "text": [
      "[[3 2 1]\n",
      " [6 5 4]\n",
      " [9 8 7]]\n",
      "[[7 8 9]\n",
      " [4 5 6]\n",
      " [1 2 3]]\n"
     ]
    }
   ],
   "source": [
    "# How to reverse the columns of a 2D array?\n",
    "arr = np.array([[1, 2, 3], [4, 5, 6], [7, 8, 9]])\n",
    "reversed_column = arr[:,::-1]\n",
    "print(reversed_column)\n",
    "reversed_row = arr[::-1,:]\n",
    "print(reversed_row)"
   ]
  },
  {
   "cell_type": "code",
   "execution_count": 239,
   "id": "44aa0a40",
   "metadata": {},
   "outputs": [
    {
     "name": "stdout",
     "output_type": "stream",
     "text": [
      "(array([0, 1, 4]),)\n"
     ]
    }
   ],
   "source": [
    "#  15. Find indices of non-zero elements from [1,2,0,0,4,0]\n",
    "arr = np.array([1,2,0,0,4,0])\n",
    "non_zero_indices = np.nonzero(arr)\n",
    "print(non_zero_indices)"
   ]
  },
  {
   "cell_type": "code",
   "execution_count": 242,
   "id": "b514eefd",
   "metadata": {},
   "outputs": [
    {
     "name": "stdout",
     "output_type": "stream",
     "text": [
      "0.0\n"
     ]
    }
   ],
   "source": [
    "#  16. Write a NumPy program to compute the determinant of an array.\n",
    "determinant = np.linalg.det(arr)\n",
    "print(determinant)"
   ]
  },
  {
   "cell_type": "code",
   "execution_count": 248,
   "id": "64972fda",
   "metadata": {},
   "outputs": [
    {
     "data": {
      "text/plain": [
       "array([[-1.66666667,  0.66666667],\n",
       "       [ 1.33333333, -0.33333333]])"
      ]
     },
     "execution_count": 248,
     "metadata": {},
     "output_type": "execute_result"
    }
   ],
   "source": [
    "# 17. Write a NumPy program to compute the inverse of a given matrix\n",
    "arr = np.array([[1,2],[4,5]])\n",
    "np.linalg.inv(arr)"
   ]
  },
  {
   "cell_type": "code",
   "execution_count": 256,
   "id": "3f1c0ce8",
   "metadata": {},
   "outputs": [
    {
     "data": {
      "text/plain": [
       "np.float64(2.0)"
      ]
     },
     "execution_count": 256,
     "metadata": {},
     "output_type": "execute_result"
    }
   ],
   "source": [
    "#  18. Create a random vector of size 30 and find the mean value\n",
    "vector = np.random.randint(30)\n",
    "mena_vec = np.mean(vector)\n",
    "mena_vec"
   ]
  },
  {
   "cell_type": "code",
   "execution_count": 259,
   "id": "3b75b045",
   "metadata": {},
   "outputs": [
    {
     "data": {
      "text/plain": [
       "array([5, 7])"
      ]
     },
     "execution_count": 259,
     "metadata": {},
     "output_type": "execute_result"
    }
   ],
   "source": [
    "#  19. How to extract all numbers between a given range from a NumPy array?\n",
    "arr = np.array([1,3,5,7,11,13,15])\n",
    "filtered_arry = arr[(arr >= 5) & (arr <= 10)]\n",
    "filtered_arry"
   ]
  },
  {
   "cell_type": "code",
   "execution_count": 264,
   "id": "1b65f9cc",
   "metadata": {},
   "outputs": [
    {
     "data": {
      "text/plain": [
       "array([ 0.45303564, -0.73464699,  0.24235035, -0.63404773, -0.08764959,\n",
       "        1.23115741,  1.20439193,  1.88460251,  0.95185453, -1.10690301,\n",
       "        0.17960539,  1.00075234,  1.93907941, -1.16293424,  0.66486488,\n",
       "       -0.05545283, -0.05326525, -0.2041292 ,  2.83250344, -0.48960773,\n",
       "       -0.23069729,  0.44269787, -1.63080747, -0.77007214,  1.75788754,\n",
       "       -0.5279664 , -0.74645806, -1.07502407, -0.5552062 ,  0.30551606])"
      ]
     },
     "execution_count": 264,
     "metadata": {},
     "output_type": "execute_result"
    }
   ],
   "source": [
    "#  20. Create a 3x3x3 array with random values\n",
    "arr = np.random.randn(30)\n",
    "arr"
   ]
  },
  {
   "cell_type": "code",
   "execution_count": 269,
   "id": "2bc49b28",
   "metadata": {},
   "outputs": [
    {
     "data": {
      "text/plain": [
       "array([[[0.87823989, 0.55809714, 0.46173957],\n",
       "        [0.22888367, 0.79648324, 0.04557916],\n",
       "        [0.00310374, 0.64601331, 0.77903429]],\n",
       "\n",
       "       [[0.09258507, 0.79480583, 0.56223104],\n",
       "        [0.9928602 , 0.84100429, 0.14482196],\n",
       "        [0.29711847, 0.57972532, 0.05513155]],\n",
       "\n",
       "       [[0.49751   , 0.63214347, 0.52616913],\n",
       "        [0.01316928, 0.58574448, 0.51915923],\n",
       "        [0.22358059, 0.52941486, 0.57372781]]])"
      ]
     },
     "execution_count": 269,
     "metadata": {},
     "output_type": "execute_result"
    }
   ],
   "source": [
    "#  20. Create a 3x3x3 array with random values\n",
    "random_array = np.random.random((3, 3, 3))\n",
    "random_array"
   ]
  },
  {
   "cell_type": "code",
   "execution_count": 276,
   "id": "22920727",
   "metadata": {},
   "outputs": [
    {
     "data": {
      "text/plain": [
       "(np.float64(0.008650039046376734), np.float64(0.9870066172750807))"
      ]
     },
     "execution_count": 276,
     "metadata": {},
     "output_type": "execute_result"
    }
   ],
   "source": [
    "#  21. Create a 10x10 array with random values and find the minimum and maximum values\n",
    "array = np.random.random((10,10))\n",
    "np.min(array), np.max(array)"
   ]
  },
  {
   "cell_type": "code",
   "execution_count": 281,
   "id": "bfb8f300",
   "metadata": {},
   "outputs": [
    {
     "data": {
      "text/plain": [
       "array([[1., 1., 1., 1., 1.],\n",
       "       [1., 0., 0., 0., 1.],\n",
       "       [1., 0., 0., 0., 1.],\n",
       "       [1., 0., 0., 0., 1.],\n",
       "       [1., 1., 1., 1., 1.]])"
      ]
     },
     "execution_count": 281,
     "metadata": {},
     "output_type": "execute_result"
    }
   ],
   "source": [
    "#  22. Create a 2d array with 1 on the border and 0 inside\n",
    "array = np.ones((5,5))\n",
    "\n",
    "array[1:-1, 1:-1] = 0\n",
    "array"
   ]
  },
  {
   "cell_type": "code",
   "execution_count": 285,
   "id": "ae9081eb",
   "metadata": {},
   "outputs": [
    {
     "ename": "ValueError",
     "evalue": "could not broadcast input array from shape (5,5) into shape (4,4)",
     "output_type": "error",
     "traceback": [
      "\u001b[31m---------------------------------------------------------------------------\u001b[39m",
      "\u001b[31mValueError\u001b[39m                                Traceback (most recent call last)",
      "\u001b[36mCell\u001b[39m\u001b[36m \u001b[39m\u001b[32mIn[285]\u001b[39m\u001b[32m, line 6\u001b[39m\n\u001b[32m      3\u001b[39m matrix = np.zeros((\u001b[32m5\u001b[39m, \u001b[32m5\u001b[39m))  \u001b[38;5;66;03m# Initialize a 5x5 matrix with zeros\u001b[39;00m\n\u001b[32m      5\u001b[39m \u001b[38;5;66;03m# Assign values just below the diagonal\u001b[39;00m\n\u001b[32m----> \u001b[39m\u001b[32m6\u001b[39m \u001b[43mmatrix\u001b[49m\u001b[43m[\u001b[49m\u001b[32;43m1\u001b[39;49m\u001b[43m:\u001b[49m\u001b[43m,\u001b[49m\u001b[43m \u001b[49m\u001b[43m:\u001b[49m\u001b[43m-\u001b[49m\u001b[32;43m1\u001b[39;49m\u001b[43m]\u001b[49m = np.diag([\u001b[32m1\u001b[39m, \u001b[32m2\u001b[39m, \u001b[32m3\u001b[39m, \u001b[32m4\u001b[39m], -\u001b[32m1\u001b[39m)\n",
      "\u001b[31mValueError\u001b[39m: could not broadcast input array from shape (5,5) into shape (4,4)"
     ]
    }
   ],
   "source": [
    "#  23. Create a 5x5 matrix with values 1,2,3,4 just below the diagonal\n",
    "# Create a 5x5 matrix with values 1, 2, 3, 4 just below the diagonal\n",
    "matrix = np.zeros((5, 5))  # Initialize a 5x5 matrix with zeros\n",
    "\n",
    "# Assign values just below the diagonal\n",
    "matrix[1:, :-1] = np.diag([1, 2, 3, 4], -1)\n"
   ]
  },
  {
   "cell_type": "code",
   "execution_count": 287,
   "id": "79df1e65",
   "metadata": {},
   "outputs": [
    {
     "data": {
      "text/plain": [
       "array([[1., 0., 0.],\n",
       "       [0., 1., 0.],\n",
       "       [0., 0., 1.]])"
      ]
     },
     "execution_count": 287,
     "metadata": {},
     "output_type": "execute_result"
    }
   ],
   "source": [
    "np.eye(3) # Idenntity matrix"
   ]
  },
  {
   "cell_type": "code",
   "execution_count": 291,
   "id": "af8efeba",
   "metadata": {},
   "outputs": [
    {
     "data": {
      "text/plain": [
       "array([5])"
      ]
     },
     "execution_count": 291,
     "metadata": {},
     "output_type": "execute_result"
    }
   ],
   "source": [
    "#  29. How to find common values between the two arrays\n",
    "arr1 = np.array([1,2,3,4,5])\n",
    "arr2 = np.array([5,6,7,8,9])\n",
    "\n",
    "inters = np.intersect1d(arr1, arr2)\n",
    "inters"
   ]
  },
  {
   "cell_type": "code",
   "execution_count": 293,
   "id": "e0154693",
   "metadata": {},
   "outputs": [
    {
     "name": "stdout",
     "output_type": "stream",
     "text": [
      "False\n"
     ]
    }
   ],
   "source": [
    "# Create two random arrays A and B\n",
    "A = np.random.rand(3, 3)  # 3x3 array with random values\n",
    "B = np.random.rand(3, 3)  # 3x3 array with random values\n",
    "\n",
    "# Check if the arrays are equal\n",
    "are_equal = np.array_equal(A, B)\n",
    "print(are_equal)"
   ]
  },
  {
   "cell_type": "code",
   "execution_count": 296,
   "id": "463e6f44",
   "metadata": {},
   "outputs": [
    {
     "data": {
      "text/plain": [
       "array([[3, 1, 2],\n",
       "       [2, 2, 6],\n",
       "       [1, 5, 4]])"
      ]
     },
     "execution_count": 296,
     "metadata": {},
     "output_type": "execute_result"
    }
   ],
   "source": [
    "# # 2D array\n",
    "arr = np.array([[3, 1, 2],\n",
    "                [1, 5, 4],\n",
    "                [2, 2, 6]])\n",
    "sorted_arr = arr[arr[:,1].argsort()]\n",
    "sorted_arr"
   ]
  },
  {
   "cell_type": "code",
   "execution_count": 303,
   "id": "61dd9f92",
   "metadata": {},
   "outputs": [
    {
     "data": {
      "text/plain": [
       "np.int64(2)"
      ]
     },
     "execution_count": 303,
     "metadata": {},
     "output_type": "execute_result"
    }
   ],
   "source": [
    "# How to compute the mode of a NumPy array\n",
    "import numpy as np \n",
    "from scipy import stats\n",
    "\n",
    "arr = np.array([1,2,2,3,4,5,6,7,8,9])\n",
    "\n",
    "mode_result = stats.mode(arr, keepdims=False)\n",
    "mode_result.mode"
   ]
  },
  {
   "cell_type": "code",
   "execution_count": 317,
   "id": "f2535500",
   "metadata": {},
   "outputs": [
    {
     "data": {
      "text/plain": [
       "array([[ 0.,  0.,  1.],\n",
       "       [-2.,  1.,  3.],\n",
       "       [ 3., -1., -5.]])"
      ]
     },
     "execution_count": 317,
     "metadata": {},
     "output_type": "execute_result"
    }
   ],
   "source": [
    "#  Write a NumPy program to compute the inverse of a given matrix 45\n",
    "array1 = np.array([[2, 1, 1],\n",
    "                      [1, 3, 2],\n",
    "                      [1, 0, 0]])\n",
    "\n",
    "inverse_matrix = np.linalg.inv(array1)\n",
    "inverse_matrix"
   ]
  },
  {
   "cell_type": "code",
   "execution_count": 320,
   "id": "c86096b3",
   "metadata": {},
   "outputs": [
    {
     "data": {
      "text/plain": [
       "array([[1.66666667, 1.66666667],\n",
       "       [1.66666667, 1.66666667]])"
      ]
     },
     "execution_count": 320,
     "metadata": {},
     "output_type": "execute_result"
    }
   ],
   "source": [
    "# 45. Write a NumPy program to compute the covariance matrix of two given arrays\n",
    "\n",
    "matrix = np.array([[1,2,3,4],[5,6,7,8]])\n",
    "covariance = np.cov(matrix)\n",
    "covariance"
   ]
  },
  {
   "cell_type": "code",
   "execution_count": 326,
   "id": "f7c4fa3e",
   "metadata": {},
   "outputs": [
    {
     "data": {
      "text/plain": [
       "np.int64(3)"
      ]
     },
     "execution_count": 326,
     "metadata": {},
     "output_type": "execute_result"
    }
   ],
   "source": [
    "#  How to find the most frequent value in a NumPy array\n",
    "from scipy import stats\n",
    "array = np.array([1,2,3,3])\n",
    "most = stats.mode(array, keepdims=False)\n",
    "most.mode"
   ]
  },
  {
   "cell_type": "markdown",
   "id": "e390933d",
   "metadata": {},
   "source": [
    "Pandas "
   ]
  },
  {
   "cell_type": "code",
   "execution_count": null,
   "id": "9bb626d9",
   "metadata": {},
   "outputs": [],
   "source": []
  },
  {
   "cell_type": "code",
   "execution_count": 330,
   "id": "685f078e",
   "metadata": {},
   "outputs": [
    {
     "data": {
      "text/html": [
       "<div>\n",
       "<style scoped>\n",
       "    .dataframe tbody tr th:only-of-type {\n",
       "        vertical-align: middle;\n",
       "    }\n",
       "\n",
       "    .dataframe tbody tr th {\n",
       "        vertical-align: top;\n",
       "    }\n",
       "\n",
       "    .dataframe thead th {\n",
       "        text-align: right;\n",
       "    }\n",
       "</style>\n",
       "<table border=\"1\" class=\"dataframe\">\n",
       "  <thead>\n",
       "    <tr style=\"text-align: right;\">\n",
       "      <th></th>\n",
       "      <th>name</th>\n",
       "      <th>Age</th>\n",
       "    </tr>\n",
       "  </thead>\n",
       "  <tbody>\n",
       "    <tr>\n",
       "      <th>0</th>\n",
       "      <td>gaurav</td>\n",
       "      <td>22</td>\n",
       "    </tr>\n",
       "    <tr>\n",
       "      <th>1</th>\n",
       "      <td>lute</td>\n",
       "      <td>23</td>\n",
       "    </tr>\n",
       "    <tr>\n",
       "      <th>2</th>\n",
       "      <td>patil</td>\n",
       "      <td>42</td>\n",
       "    </tr>\n",
       "  </tbody>\n",
       "</table>\n",
       "</div>"
      ],
      "text/plain": [
       "     name  Age\n",
       "0  gaurav   22\n",
       "1    lute   23\n",
       "2   patil   42"
      ]
     },
     "execution_count": 330,
     "metadata": {},
     "output_type": "execute_result"
    }
   ],
   "source": [
    "#  Define the Pandas/Python pandas\n",
    "# creating a dataframe \n",
    "import pandas as pd\n",
    "data = {'name':['gaurav','lute','patil'], 'Age':[22,23,42]}\n",
    "df = pd.DataFrame(data)\n",
    "df.head()"
   ]
  },
  {
   "cell_type": "code",
   "execution_count": 332,
   "id": "490d5209",
   "metadata": {},
   "outputs": [
    {
     "data": {
      "text/plain": [
       "0    22\n",
       "1    23\n",
       "2    42\n",
       "Name: Age, dtype: int64"
      ]
     },
     "execution_count": 332,
     "metadata": {},
     "output_type": "execute_result"
    }
   ],
   "source": [
    "age_column = df['Age']\n",
    "age_column"
   ]
  },
  {
   "cell_type": "code",
   "execution_count": 336,
   "id": "67e00163",
   "metadata": {},
   "outputs": [
    {
     "data": {
      "text/plain": [
       "name    gaurav\n",
       "Age         22\n",
       "Name: 0, dtype: object"
      ]
     },
     "execution_count": 336,
     "metadata": {},
     "output_type": "execute_result"
    }
   ],
   "source": [
    "df.iloc[0]"
   ]
  },
  {
   "cell_type": "code",
   "execution_count": 338,
   "id": "d23c9a87",
   "metadata": {},
   "outputs": [
    {
     "data": {
      "text/html": [
       "<div>\n",
       "<style scoped>\n",
       "    .dataframe tbody tr th:only-of-type {\n",
       "        vertical-align: middle;\n",
       "    }\n",
       "\n",
       "    .dataframe tbody tr th {\n",
       "        vertical-align: top;\n",
       "    }\n",
       "\n",
       "    .dataframe thead th {\n",
       "        text-align: right;\n",
       "    }\n",
       "</style>\n",
       "<table border=\"1\" class=\"dataframe\">\n",
       "  <thead>\n",
       "    <tr style=\"text-align: right;\">\n",
       "      <th></th>\n",
       "      <th>name</th>\n",
       "      <th>Age</th>\n",
       "    </tr>\n",
       "  </thead>\n",
       "  <tbody>\n",
       "    <tr>\n",
       "      <th>0</th>\n",
       "      <td>gaurav</td>\n",
       "      <td>22</td>\n",
       "    </tr>\n",
       "    <tr>\n",
       "      <th>1</th>\n",
       "      <td>lute</td>\n",
       "      <td>23</td>\n",
       "    </tr>\n",
       "    <tr>\n",
       "      <th>2</th>\n",
       "      <td>patil</td>\n",
       "      <td>42</td>\n",
       "    </tr>\n",
       "  </tbody>\n",
       "</table>\n",
       "</div>"
      ],
      "text/plain": [
       "     name  Age\n",
       "0  gaurav   22\n",
       "1    lute   23\n",
       "2   patil   42"
      ]
     },
     "execution_count": 338,
     "metadata": {},
     "output_type": "execute_result"
    }
   ],
   "source": [
    "df.dropna()\n",
    "df.fillna(0)"
   ]
  },
  {
   "cell_type": "code",
   "execution_count": 342,
   "id": "04ac9f87",
   "metadata": {},
   "outputs": [
    {
     "data": {
      "text/html": [
       "<div>\n",
       "<style scoped>\n",
       "    .dataframe tbody tr th:only-of-type {\n",
       "        vertical-align: middle;\n",
       "    }\n",
       "\n",
       "    .dataframe tbody tr th {\n",
       "        vertical-align: top;\n",
       "    }\n",
       "\n",
       "    .dataframe thead th {\n",
       "        text-align: right;\n",
       "    }\n",
       "</style>\n",
       "<table border=\"1\" class=\"dataframe\">\n",
       "  <thead>\n",
       "    <tr style=\"text-align: right;\">\n",
       "      <th></th>\n",
       "      <th>ID</th>\n",
       "      <th>Value_x</th>\n",
       "      <th>Value_y</th>\n",
       "    </tr>\n",
       "  </thead>\n",
       "  <tbody>\n",
       "    <tr>\n",
       "      <th>0</th>\n",
       "      <td>1</td>\n",
       "      <td>10</td>\n",
       "      <td>100</td>\n",
       "    </tr>\n",
       "    <tr>\n",
       "      <th>1</th>\n",
       "      <td>2</td>\n",
       "      <td>20</td>\n",
       "      <td>200</td>\n",
       "    </tr>\n",
       "    <tr>\n",
       "      <th>2</th>\n",
       "      <td>3</td>\n",
       "      <td>30</td>\n",
       "      <td>300</td>\n",
       "    </tr>\n",
       "  </tbody>\n",
       "</table>\n",
       "</div>"
      ],
      "text/plain": [
       "   ID  Value_x  Value_y\n",
       "0   1       10      100\n",
       "1   2       20      200\n",
       "2   3       30      300"
      ]
     },
     "execution_count": 342,
     "metadata": {},
     "output_type": "execute_result"
    }
   ],
   "source": [
    "df1 = pd.DataFrame({'ID': [1, 2, 3], 'Value': [10, 20, 30]})\n",
    "df2 = pd.DataFrame({'ID': [1, 2, 3], 'Value': [100, 200, 300]})\n",
    "df_merge = pd.merge(df1, df2, on='ID')\n",
    "df_merge"
   ]
  },
  {
   "cell_type": "code",
   "execution_count": 343,
   "id": "fe3c2a08",
   "metadata": {},
   "outputs": [
    {
     "data": {
      "text/html": [
       "<div>\n",
       "<style scoped>\n",
       "    .dataframe tbody tr th:only-of-type {\n",
       "        vertical-align: middle;\n",
       "    }\n",
       "\n",
       "    .dataframe tbody tr th {\n",
       "        vertical-align: top;\n",
       "    }\n",
       "\n",
       "    .dataframe thead th {\n",
       "        text-align: right;\n",
       "    }\n",
       "</style>\n",
       "<table border=\"1\" class=\"dataframe\">\n",
       "  <thead>\n",
       "    <tr style=\"text-align: right;\">\n",
       "      <th></th>\n",
       "      <th>Value</th>\n",
       "    </tr>\n",
       "    <tr>\n",
       "      <th>ID</th>\n",
       "      <th></th>\n",
       "    </tr>\n",
       "  </thead>\n",
       "  <tbody>\n",
       "    <tr>\n",
       "      <th>1</th>\n",
       "      <td>10.0</td>\n",
       "    </tr>\n",
       "    <tr>\n",
       "      <th>2</th>\n",
       "      <td>20.0</td>\n",
       "    </tr>\n",
       "    <tr>\n",
       "      <th>3</th>\n",
       "      <td>30.0</td>\n",
       "    </tr>\n",
       "  </tbody>\n",
       "</table>\n",
       "</div>"
      ],
      "text/plain": [
       "    Value\n",
       "ID       \n",
       "1    10.0\n",
       "2    20.0\n",
       "3    30.0"
      ]
     },
     "execution_count": 343,
     "metadata": {},
     "output_type": "execute_result"
    }
   ],
   "source": [
    "df1.groupby('ID').mean()"
   ]
  },
  {
   "cell_type": "code",
   "execution_count": 346,
   "id": "b48d2598",
   "metadata": {},
   "outputs": [
    {
     "data": {
      "text/html": [
       "<div>\n",
       "<style scoped>\n",
       "    .dataframe tbody tr th:only-of-type {\n",
       "        vertical-align: middle;\n",
       "    }\n",
       "\n",
       "    .dataframe tbody tr th {\n",
       "        vertical-align: top;\n",
       "    }\n",
       "\n",
       "    .dataframe thead th {\n",
       "        text-align: right;\n",
       "    }\n",
       "</style>\n",
       "<table border=\"1\" class=\"dataframe\">\n",
       "  <thead>\n",
       "    <tr style=\"text-align: right;\">\n",
       "      <th></th>\n",
       "    </tr>\n",
       "  </thead>\n",
       "  <tbody>\n",
       "  </tbody>\n",
       "</table>\n",
       "</div>"
      ],
      "text/plain": [
       "Empty DataFrame\n",
       "Columns: []\n",
       "Index: []"
      ]
     },
     "execution_count": 346,
     "metadata": {},
     "output_type": "execute_result"
    }
   ],
   "source": [
    "# How Can You Create An Empty DataFrame and series in Pandas?\n",
    "df_empty = pd.DataFrame()\n",
    "df_empty"
   ]
  },
  {
   "cell_type": "code",
   "execution_count": 348,
   "id": "3b482e3c",
   "metadata": {},
   "outputs": [
    {
     "data": {
      "text/plain": [
       "False"
      ]
     },
     "execution_count": 348,
     "metadata": {},
     "output_type": "execute_result"
    }
   ],
   "source": [
    "# How to check an empty DataFrame\n",
    "df.empty"
   ]
  },
  {
   "cell_type": "code",
   "execution_count": 354,
   "id": "eb0d3f8e",
   "metadata": {},
   "outputs": [
    {
     "data": {
      "text/html": [
       "<div>\n",
       "<style scoped>\n",
       "    .dataframe tbody tr th:only-of-type {\n",
       "        vertical-align: middle;\n",
       "    }\n",
       "\n",
       "    .dataframe tbody tr th {\n",
       "        vertical-align: top;\n",
       "    }\n",
       "\n",
       "    .dataframe thead th {\n",
       "        text-align: right;\n",
       "    }\n",
       "</style>\n",
       "<table border=\"1\" class=\"dataframe\">\n",
       "  <thead>\n",
       "    <tr style=\"text-align: right;\">\n",
       "      <th></th>\n",
       "      <th>Name</th>\n",
       "      <th>Age</th>\n",
       "    </tr>\n",
       "  </thead>\n",
       "  <tbody>\n",
       "    <tr>\n",
       "      <th>2</th>\n",
       "      <td>Shubham</td>\n",
       "      <td>35</td>\n",
       "    </tr>\n",
       "    <tr>\n",
       "      <th>0</th>\n",
       "      <td>Gaurav</td>\n",
       "      <td>22</td>\n",
       "    </tr>\n",
       "    <tr>\n",
       "      <th>1</th>\n",
       "      <td>Harshal</td>\n",
       "      <td>23</td>\n",
       "    </tr>\n",
       "  </tbody>\n",
       "</table>\n",
       "</div>"
      ],
      "text/plain": [
       "      Name  Age\n",
       "2  Shubham   35\n",
       "0   Gaurav   22\n",
       "1  Harshal   23"
      ]
     },
     "execution_count": 354,
     "metadata": {},
     "output_type": "execute_result"
    }
   ],
   "source": [
    "# Reindexing \n",
    "df = pd.DataFrame({'Name':['Gaurav','Harshal', 'Shubham'], 'Age':[22,23,35]}, index=[0,1,2])\n",
    "df.head()\n",
    "df_reindex = df.reindex([2,0,1])\n",
    "df_reindex"
   ]
  },
  {
   "cell_type": "code",
   "execution_count": 356,
   "id": "62ab8216",
   "metadata": {},
   "outputs": [
    {
     "data": {
      "text/html": [
       "<div>\n",
       "<style scoped>\n",
       "    .dataframe tbody tr th:only-of-type {\n",
       "        vertical-align: middle;\n",
       "    }\n",
       "\n",
       "    .dataframe tbody tr th {\n",
       "        vertical-align: top;\n",
       "    }\n",
       "\n",
       "    .dataframe thead th {\n",
       "        text-align: right;\n",
       "    }\n",
       "</style>\n",
       "<table border=\"1\" class=\"dataframe\">\n",
       "  <thead>\n",
       "    <tr style=\"text-align: right;\">\n",
       "      <th></th>\n",
       "      <th>N</th>\n",
       "      <th>A</th>\n",
       "    </tr>\n",
       "  </thead>\n",
       "  <tbody>\n",
       "    <tr>\n",
       "      <th>0</th>\n",
       "      <td>Gaurav</td>\n",
       "      <td>22</td>\n",
       "    </tr>\n",
       "    <tr>\n",
       "      <th>1</th>\n",
       "      <td>Harshal</td>\n",
       "      <td>23</td>\n",
       "    </tr>\n",
       "    <tr>\n",
       "      <th>2</th>\n",
       "      <td>Shubham</td>\n",
       "      <td>35</td>\n",
       "    </tr>\n",
       "  </tbody>\n",
       "</table>\n",
       "</div>"
      ],
      "text/plain": [
       "         N   A\n",
       "0   Gaurav  22\n",
       "1  Harshal  23\n",
       "2  Shubham  35"
      ]
     },
     "execution_count": 356,
     "metadata": {},
     "output_type": "execute_result"
    }
   ],
   "source": [
    "df = df.rename(columns={'Name':'N', 'Age':'A'})\n",
    "df"
   ]
  },
  {
   "cell_type": "code",
   "execution_count": 357,
   "id": "24b58462",
   "metadata": {},
   "outputs": [
    {
     "data": {
      "text/plain": [
       "['Gaurav', 'Harshal', 'Shubham']"
      ]
     },
     "execution_count": 357,
     "metadata": {},
     "output_type": "execute_result"
    }
   ],
   "source": [
    "df['N'].tolist()"
   ]
  },
  {
   "cell_type": "code",
   "execution_count": null,
   "id": "dd8b59a1",
   "metadata": {},
   "outputs": [
    {
     "data": {
      "text/html": [
       "<div>\n",
       "<style scoped>\n",
       "    .dataframe tbody tr th:only-of-type {\n",
       "        vertical-align: middle;\n",
       "    }\n",
       "\n",
       "    .dataframe tbody tr th {\n",
       "        vertical-align: top;\n",
       "    }\n",
       "\n",
       "    .dataframe thead th {\n",
       "        text-align: right;\n",
       "    }\n",
       "</style>\n",
       "<table border=\"1\" class=\"dataframe\">\n",
       "  <thead>\n",
       "    <tr style=\"text-align: right;\">\n",
       "      <th></th>\n",
       "      <th>N</th>\n",
       "      <th>A</th>\n",
       "    </tr>\n",
       "  </thead>\n",
       "  <tbody>\n",
       "    <tr>\n",
       "      <th>0</th>\n",
       "      <td>Gaurav</td>\n",
       "      <td>22</td>\n",
       "    </tr>\n",
       "    <tr>\n",
       "      <th>1</th>\n",
       "      <td>Harshal</td>\n",
       "      <td>23</td>\n",
       "    </tr>\n",
       "    <tr>\n",
       "      <th>2</th>\n",
       "      <td>Shubham</td>\n",
       "      <td>35</td>\n",
       "    </tr>\n",
       "  </tbody>\n",
       "</table>\n",
       "</div>"
      ],
      "text/plain": [
       "         N   A\n",
       "0   Gaurav  22\n",
       "1  Harshal  23\n",
       "2  Shubham  35"
      ]
     },
     "execution_count": 360,
     "metadata": {},
     "output_type": "execute_result"
    }
   ],
   "source": [
    "#Write a Pandas program to read specific columns from a given excel file\n",
    "# df = pd.read_csv('data.csv', usecols=['columns1','columns2'])"
   ]
  },
  {
   "cell_type": "code",
   "execution_count": 367,
   "id": "081fe571",
   "metadata": {},
   "outputs": [
    {
     "data": {
      "text/plain": [
       "Product\n",
       "A    500\n",
       "B    500\n",
       "Name: Sales, dtype: int64"
      ]
     },
     "execution_count": 367,
     "metadata": {},
     "output_type": "execute_result"
    }
   ],
   "source": [
    "# gropuby function\n",
    "data = {\n",
    "    'Product': ['A', 'B', 'A', 'B', 'A'],\n",
    "    'Sales': [100, 200, 150, 300, 250]}\n",
    "df = pd.DataFrame(data)\n",
    "sales_mean = df.groupby('Product')['Sales'].sum()\n",
    "sales_mean"
   ]
  },
  {
   "cell_type": "code",
   "execution_count": 368,
   "id": "2b1907c9",
   "metadata": {},
   "outputs": [
    {
     "data": {
      "text/plain": [
       "Product    ABABA\n",
       "Sales       1000\n",
       "dtype: object"
      ]
     },
     "execution_count": 368,
     "metadata": {},
     "output_type": "execute_result"
    }
   ],
   "source": [
    "# What is the use of apply function in pandas?\n",
    "df.apply(lambda x: x.sum(), axis=0)"
   ]
  },
  {
   "cell_type": "code",
   "execution_count": 371,
   "id": "7b35f3cf",
   "metadata": {},
   "outputs": [
    {
     "data": {
      "text/html": [
       "<div>\n",
       "<style scoped>\n",
       "    .dataframe tbody tr th:only-of-type {\n",
       "        vertical-align: middle;\n",
       "    }\n",
       "\n",
       "    .dataframe tbody tr th {\n",
       "        vertical-align: top;\n",
       "    }\n",
       "\n",
       "    .dataframe thead th {\n",
       "        text-align: right;\n",
       "    }\n",
       "</style>\n",
       "<table border=\"1\" class=\"dataframe\">\n",
       "  <thead>\n",
       "    <tr style=\"text-align: right;\">\n",
       "      <th></th>\n",
       "      <th>Product</th>\n",
       "      <th>Sales</th>\n",
       "    </tr>\n",
       "  </thead>\n",
       "  <tbody>\n",
       "    <tr>\n",
       "      <th>0</th>\n",
       "      <td>A</td>\n",
       "      <td>100000000</td>\n",
       "    </tr>\n",
       "    <tr>\n",
       "      <th>1</th>\n",
       "      <td>B</td>\n",
       "      <td>1600000000</td>\n",
       "    </tr>\n",
       "    <tr>\n",
       "      <th>2</th>\n",
       "      <td>A</td>\n",
       "      <td>506250000</td>\n",
       "    </tr>\n",
       "    <tr>\n",
       "      <th>3</th>\n",
       "      <td>B</td>\n",
       "      <td>8100000000</td>\n",
       "    </tr>\n",
       "    <tr>\n",
       "      <th>4</th>\n",
       "      <td>A</td>\n",
       "      <td>3906250000</td>\n",
       "    </tr>\n",
       "  </tbody>\n",
       "</table>\n",
       "</div>"
      ],
      "text/plain": [
       "  Product       Sales\n",
       "0       A   100000000\n",
       "1       B  1600000000\n",
       "2       A   506250000\n",
       "3       B  8100000000\n",
       "4       A  3906250000"
      ]
     },
     "execution_count": 371,
     "metadata": {},
     "output_type": "execute_result"
    }
   ],
   "source": [
    "#map function \n",
    "df['Sales'] = df['Sales'].map(lambda x: x**2)\n",
    "df"
   ]
  },
  {
   "cell_type": "code",
   "execution_count": 378,
   "id": "4b555341",
   "metadata": {},
   "outputs": [],
   "source": [
    "#  How will you add a column to a pandas DataFrame?\n",
    "df.head()\n",
    "df['Country'] = 'IND'\n"
   ]
  },
  {
   "cell_type": "code",
   "execution_count": 379,
   "id": "df9b851c",
   "metadata": {},
   "outputs": [],
   "source": [
    "# How to remove columns \n",
    "# df.drop(colums =['',''], inplace = True)"
   ]
  },
  {
   "cell_type": "code",
   "execution_count": 381,
   "id": "45984728",
   "metadata": {},
   "outputs": [
    {
     "data": {
      "text/plain": [
       "count    10.00000\n",
       "mean      5.50000\n",
       "std       3.02765\n",
       "min       1.00000\n",
       "25%       3.25000\n",
       "50%       5.50000\n",
       "75%       7.75000\n",
       "max      10.00000\n",
       "dtype: float64"
      ]
     },
     "execution_count": 381,
     "metadata": {},
     "output_type": "execute_result"
    }
   ],
   "source": [
    "# Sample Series\n",
    "data = pd.Series([1, 2, 3, 4, 5, 6, 7, 8, 9, 10])\n",
    "data.describe()"
   ]
  },
  {
   "cell_type": "code",
   "execution_count": 383,
   "id": "6a14811b",
   "metadata": {},
   "outputs": [
    {
     "data": {
      "text/html": [
       "<div>\n",
       "<style scoped>\n",
       "    .dataframe tbody tr th:only-of-type {\n",
       "        vertical-align: middle;\n",
       "    }\n",
       "\n",
       "    .dataframe tbody tr th {\n",
       "        vertical-align: top;\n",
       "    }\n",
       "\n",
       "    .dataframe thead th {\n",
       "        text-align: right;\n",
       "    }\n",
       "</style>\n",
       "<table border=\"1\" class=\"dataframe\">\n",
       "  <thead>\n",
       "    <tr style=\"text-align: right;\">\n",
       "      <th></th>\n",
       "      <th>Product</th>\n",
       "      <th>Sales</th>\n",
       "      <th>Country</th>\n",
       "    </tr>\n",
       "  </thead>\n",
       "  <tbody>\n",
       "    <tr>\n",
       "      <th>0</th>\n",
       "      <td>A</td>\n",
       "      <td>100000000</td>\n",
       "      <td>IND</td>\n",
       "    </tr>\n",
       "    <tr>\n",
       "      <th>2</th>\n",
       "      <td>A</td>\n",
       "      <td>506250000</td>\n",
       "      <td>IND</td>\n",
       "    </tr>\n",
       "    <tr>\n",
       "      <th>1</th>\n",
       "      <td>B</td>\n",
       "      <td>1600000000</td>\n",
       "      <td>IND</td>\n",
       "    </tr>\n",
       "    <tr>\n",
       "      <th>4</th>\n",
       "      <td>A</td>\n",
       "      <td>3906250000</td>\n",
       "      <td>IND</td>\n",
       "    </tr>\n",
       "    <tr>\n",
       "      <th>3</th>\n",
       "      <td>B</td>\n",
       "      <td>8100000000</td>\n",
       "      <td>IND</td>\n",
       "    </tr>\n",
       "  </tbody>\n",
       "</table>\n",
       "</div>"
      ],
      "text/plain": [
       "  Product       Sales Country\n",
       "0       A   100000000     IND\n",
       "2       A   506250000     IND\n",
       "1       B  1600000000     IND\n",
       "4       A  3906250000     IND\n",
       "3       B  8100000000     IND"
      ]
     },
     "execution_count": 383,
     "metadata": {},
     "output_type": "execute_result"
    }
   ],
   "source": [
    "#  How can we sort the DataFrame?\n",
    "df.sort_values(by='Sales')"
   ]
  },
  {
   "cell_type": "code",
   "execution_count": 385,
   "id": "c655f511",
   "metadata": {},
   "outputs": [
    {
     "data": {
      "text/html": [
       "<div>\n",
       "<style scoped>\n",
       "    .dataframe tbody tr th:only-of-type {\n",
       "        vertical-align: middle;\n",
       "    }\n",
       "\n",
       "    .dataframe tbody tr th {\n",
       "        vertical-align: top;\n",
       "    }\n",
       "\n",
       "    .dataframe thead th {\n",
       "        text-align: right;\n",
       "    }\n",
       "</style>\n",
       "<table border=\"1\" class=\"dataframe\">\n",
       "  <thead>\n",
       "    <tr style=\"text-align: right;\">\n",
       "      <th></th>\n",
       "      <th>Product</th>\n",
       "      <th>Sales</th>\n",
       "      <th>Country</th>\n",
       "    </tr>\n",
       "  </thead>\n",
       "  <tbody>\n",
       "    <tr>\n",
       "      <th>0</th>\n",
       "      <td>A</td>\n",
       "      <td>100000000</td>\n",
       "      <td>IND</td>\n",
       "    </tr>\n",
       "    <tr>\n",
       "      <th>1</th>\n",
       "      <td>B</td>\n",
       "      <td>1600000000</td>\n",
       "      <td>IND</td>\n",
       "    </tr>\n",
       "    <tr>\n",
       "      <th>2</th>\n",
       "      <td>A</td>\n",
       "      <td>506250000</td>\n",
       "      <td>IND</td>\n",
       "    </tr>\n",
       "    <tr>\n",
       "      <th>3</th>\n",
       "      <td>B</td>\n",
       "      <td>8100000000</td>\n",
       "      <td>IND</td>\n",
       "    </tr>\n",
       "    <tr>\n",
       "      <th>4</th>\n",
       "      <td>A</td>\n",
       "      <td>3906250000</td>\n",
       "      <td>IND</td>\n",
       "    </tr>\n",
       "  </tbody>\n",
       "</table>\n",
       "</div>"
      ],
      "text/plain": [
       "  Product       Sales Country\n",
       "0       A   100000000     IND\n",
       "1       B  1600000000     IND\n",
       "2       A   506250000     IND\n",
       "3       B  8100000000     IND\n",
       "4       A  3906250000     IND"
      ]
     },
     "execution_count": 385,
     "metadata": {},
     "output_type": "execute_result"
    }
   ],
   "source": [
    "#  How to drop duplicate rows from DataFrame?\n",
    "\n",
    "df.drop_duplicates()"
   ]
  },
  {
   "cell_type": "code",
   "execution_count": 386,
   "id": "ffad7910",
   "metadata": {},
   "outputs": [
    {
     "data": {
      "text/plain": [
       "0     100000000\n",
       "1    1600000000\n",
       "2     506250000\n",
       "3    8100000000\n",
       "4    3906250000\n",
       "Name: Sales, dtype: int64"
      ]
     },
     "execution_count": 386,
     "metadata": {},
     "output_type": "execute_result"
    }
   ],
   "source": [
    "# fill nul value \n",
    "df['Sales'].fillna(df['Sales'].mean())"
   ]
  },
  {
   "cell_type": "code",
   "execution_count": 387,
   "id": "d0ca52e0",
   "metadata": {},
   "outputs": [
    {
     "data": {
      "text/plain": [
       "0    1\n",
       "1    1\n",
       "2    1\n",
       "3    1\n",
       "4    1\n",
       "Name: Product, dtype: int64"
      ]
     },
     "execution_count": 387,
     "metadata": {},
     "output_type": "execute_result"
    }
   ],
   "source": [
    "# find str\n",
    "df['Product'].str.len()"
   ]
  },
  {
   "cell_type": "code",
   "execution_count": 388,
   "id": "4f7a497d",
   "metadata": {},
   "outputs": [],
   "source": [
    " df = pd.DataFrame({\n",
    " 'company_code': ['c0001','c0002','c0003', 'c0003', 'c0004'],\n",
    " 'year': ['year 1800','year 1700','year 2300', 'year 1900', 'year 2200']\n",
    " })"
   ]
  },
  {
   "cell_type": "code",
   "execution_count": 391,
   "id": "642c348c",
   "metadata": {},
   "outputs": [
    {
     "data": {
      "text/html": [
       "<div>\n",
       "<style scoped>\n",
       "    .dataframe tbody tr th:only-of-type {\n",
       "        vertical-align: middle;\n",
       "    }\n",
       "\n",
       "    .dataframe tbody tr th {\n",
       "        vertical-align: top;\n",
       "    }\n",
       "\n",
       "    .dataframe thead th {\n",
       "        text-align: right;\n",
       "    }\n",
       "</style>\n",
       "<table border=\"1\" class=\"dataframe\">\n",
       "  <thead>\n",
       "    <tr style=\"text-align: right;\">\n",
       "      <th></th>\n",
       "      <th>ID</th>\n",
       "      <th>Value</th>\n",
       "    </tr>\n",
       "  </thead>\n",
       "  <tbody>\n",
       "    <tr>\n",
       "      <th>0</th>\n",
       "      <td>1</td>\n",
       "      <td>10</td>\n",
       "    </tr>\n",
       "    <tr>\n",
       "      <th>1</th>\n",
       "      <td>2</td>\n",
       "      <td>20</td>\n",
       "    </tr>\n",
       "    <tr>\n",
       "      <th>2</th>\n",
       "      <td>3</td>\n",
       "      <td>30</td>\n",
       "    </tr>\n",
       "    <tr>\n",
       "      <th>3</th>\n",
       "      <td>1</td>\n",
       "      <td>100</td>\n",
       "    </tr>\n",
       "    <tr>\n",
       "      <th>4</th>\n",
       "      <td>2</td>\n",
       "      <td>200</td>\n",
       "    </tr>\n",
       "    <tr>\n",
       "      <th>5</th>\n",
       "      <td>3</td>\n",
       "      <td>300</td>\n",
       "    </tr>\n",
       "  </tbody>\n",
       "</table>\n",
       "</div>"
      ],
      "text/plain": [
       "   ID  Value\n",
       "0   1     10\n",
       "1   2     20\n",
       "2   3     30\n",
       "3   1    100\n",
       "4   2    200\n",
       "5   3    300"
      ]
     },
     "execution_count": 391,
     "metadata": {},
     "output_type": "execute_result"
    }
   ],
   "source": [
    "# Write a Pandas program to join the two given dataframes along rows\n",
    "df_combined = pd.concat([df1, df2], axis=0, ignore_index=True)\n",
    "df_combined"
   ]
  },
  {
   "cell_type": "code",
   "execution_count": 424,
   "metadata": {},
   "outputs": [
    {
     "name": "stdout",
     "output_type": "stream",
     "text": [
      "2.5\n"
     ]
    }
   ],
   "source": [
    "# \n",
    "l1 = '1,2,3,4'\n",
    "l2 = list(l1)\n",
    "l3 = []\n",
    "for i in range(len(l2)):\n",
    "    if i % 2 == 0:\n",
    "        #print(l2[i])\n",
    "        l3.append(l2[i])\n",
    "l4 = []\n",
    "for i in l3:\n",
    "    if type(i) == str:\n",
    "        l4.append(int(i))\n",
    "\n",
    "Average = sum(l4) / len(l4)\n",
    "print(Average)"
   ]
  },
  {
   "cell_type": "code",
   "execution_count": 432,
   "metadata": {},
   "outputs": [
    {
     "data": {
      "text/html": [
       "<div>\n",
       "<style scoped>\n",
       "    .dataframe tbody tr th:only-of-type {\n",
       "        vertical-align: middle;\n",
       "    }\n",
       "\n",
       "    .dataframe tbody tr th {\n",
       "        vertical-align: top;\n",
       "    }\n",
       "\n",
       "    .dataframe thead th {\n",
       "        text-align: right;\n",
       "    }\n",
       "</style>\n",
       "<table border=\"1\" class=\"dataframe\">\n",
       "  <thead>\n",
       "    <tr style=\"text-align: right;\">\n",
       "      <th></th>\n",
       "      <th>company_code</th>\n",
       "      <th>year</th>\n",
       "      <th>path</th>\n",
       "    </tr>\n",
       "  </thead>\n",
       "  <tbody>\n",
       "    <tr>\n",
       "      <th>0</th>\n",
       "      <td>c0001</td>\n",
       "      <td>year 1800</td>\n",
       "      <td>0</td>\n",
       "    </tr>\n",
       "    <tr>\n",
       "      <th>1</th>\n",
       "      <td>c0002</td>\n",
       "      <td>year 1700</td>\n",
       "      <td>0</td>\n",
       "    </tr>\n",
       "    <tr>\n",
       "      <th>2</th>\n",
       "      <td>c0003</td>\n",
       "      <td>year 2300</td>\n",
       "      <td>0</td>\n",
       "    </tr>\n",
       "    <tr>\n",
       "      <th>3</th>\n",
       "      <td>c0003</td>\n",
       "      <td>year 1900</td>\n",
       "      <td>0</td>\n",
       "    </tr>\n",
       "    <tr>\n",
       "      <th>4</th>\n",
       "      <td>c0004</td>\n",
       "      <td>year 2200</td>\n",
       "      <td>0</td>\n",
       "    </tr>\n",
       "  </tbody>\n",
       "</table>\n",
       "</div>"
      ],
      "text/plain": [
       "  company_code       year  path\n",
       "0        c0001  year 1800     0\n",
       "1        c0002  year 1700     0\n",
       "2        c0003  year 2300     0\n",
       "3        c0003  year 1900     0\n",
       "4        c0004  year 2200     0"
      ]
     },
     "execution_count": 432,
     "metadata": {},
     "output_type": "execute_result"
    }
   ],
   "source": [
    "df['path'] = 0\n",
    "df"
   ]
  },
  {
   "cell_type": "code",
   "execution_count": 464,
   "metadata": {},
   "outputs": [
    {
     "name": "stdout",
     "output_type": "stream",
     "text": [
      "1\n",
      "2\n",
      "6\n",
      "24\n",
      "120\n"
     ]
    }
   ],
   "source": [
    "# factorial \n",
    "n = 5\n",
    "factorial = 1\n",
    "for i in range(1, n+1):\n",
    "    factorial *= i\n",
    "    print(factorial)"
   ]
  },
  {
   "cell_type": "code",
   "execution_count": 468,
   "id": "e333cec0",
   "metadata": {},
   "outputs": [
    {
     "name": "stdout",
     "output_type": "stream",
     "text": [
      "1\n",
      "2\n",
      "4\n",
      "8\n",
      "16\n",
      "32\n",
      "64\n",
      "128\n",
      "256\n",
      "512\n",
      "1024\n"
     ]
    }
   ],
   "source": [
    "# fibonachhi \n",
    "n = 10\n",
    "a, b = 0, 1\n",
    "for i in range(n+1):\n",
    "    a = b \n",
    "    b = a + b \n",
    "    print(a)"
   ]
  },
  {
   "cell_type": "code",
   "execution_count": 5,
   "id": "68c68db0",
   "metadata": {},
   "outputs": [],
   "source": [
    "from sklearn import datasets\n",
    "\n",
    "data = datasets.load_iris()\n",
    "\n",
    "X = data.data\n",
    "y = data.target"
   ]
  },
  {
   "cell_type": "code",
   "execution_count": 16,
   "id": "fda89d99",
   "metadata": {},
   "outputs": [],
   "source": [
    "from sklearn.model_selection import train_test_split\n",
    "X_train, X_test, y_train, y_test = train_test_split(X, y, test_size=0.2 ,random_state=42)"
   ]
  },
  {
   "cell_type": "code",
   "execution_count": 21,
   "id": "c8537290",
   "metadata": {},
   "outputs": [
    {
     "data": {
      "text/html": [
       "<style>#sk-container-id-2 {\n",
       "  /* Definition of color scheme common for light and dark mode */\n",
       "  --sklearn-color-text: #000;\n",
       "  --sklearn-color-text-muted: #666;\n",
       "  --sklearn-color-line: gray;\n",
       "  /* Definition of color scheme for unfitted estimators */\n",
       "  --sklearn-color-unfitted-level-0: #fff5e6;\n",
       "  --sklearn-color-unfitted-level-1: #f6e4d2;\n",
       "  --sklearn-color-unfitted-level-2: #ffe0b3;\n",
       "  --sklearn-color-unfitted-level-3: chocolate;\n",
       "  /* Definition of color scheme for fitted estimators */\n",
       "  --sklearn-color-fitted-level-0: #f0f8ff;\n",
       "  --sklearn-color-fitted-level-1: #d4ebff;\n",
       "  --sklearn-color-fitted-level-2: #b3dbfd;\n",
       "  --sklearn-color-fitted-level-3: cornflowerblue;\n",
       "\n",
       "  /* Specific color for light theme */\n",
       "  --sklearn-color-text-on-default-background: var(--sg-text-color, var(--theme-code-foreground, var(--jp-content-font-color1, black)));\n",
       "  --sklearn-color-background: var(--sg-background-color, var(--theme-background, var(--jp-layout-color0, white)));\n",
       "  --sklearn-color-border-box: var(--sg-text-color, var(--theme-code-foreground, var(--jp-content-font-color1, black)));\n",
       "  --sklearn-color-icon: #696969;\n",
       "\n",
       "  @media (prefers-color-scheme: dark) {\n",
       "    /* Redefinition of color scheme for dark theme */\n",
       "    --sklearn-color-text-on-default-background: var(--sg-text-color, var(--theme-code-foreground, var(--jp-content-font-color1, white)));\n",
       "    --sklearn-color-background: var(--sg-background-color, var(--theme-background, var(--jp-layout-color0, #111)));\n",
       "    --sklearn-color-border-box: var(--sg-text-color, var(--theme-code-foreground, var(--jp-content-font-color1, white)));\n",
       "    --sklearn-color-icon: #878787;\n",
       "  }\n",
       "}\n",
       "\n",
       "#sk-container-id-2 {\n",
       "  color: var(--sklearn-color-text);\n",
       "}\n",
       "\n",
       "#sk-container-id-2 pre {\n",
       "  padding: 0;\n",
       "}\n",
       "\n",
       "#sk-container-id-2 input.sk-hidden--visually {\n",
       "  border: 0;\n",
       "  clip: rect(1px 1px 1px 1px);\n",
       "  clip: rect(1px, 1px, 1px, 1px);\n",
       "  height: 1px;\n",
       "  margin: -1px;\n",
       "  overflow: hidden;\n",
       "  padding: 0;\n",
       "  position: absolute;\n",
       "  width: 1px;\n",
       "}\n",
       "\n",
       "#sk-container-id-2 div.sk-dashed-wrapped {\n",
       "  border: 1px dashed var(--sklearn-color-line);\n",
       "  margin: 0 0.4em 0.5em 0.4em;\n",
       "  box-sizing: border-box;\n",
       "  padding-bottom: 0.4em;\n",
       "  background-color: var(--sklearn-color-background);\n",
       "}\n",
       "\n",
       "#sk-container-id-2 div.sk-container {\n",
       "  /* jupyter's `normalize.less` sets `[hidden] { display: none; }`\n",
       "     but bootstrap.min.css set `[hidden] { display: none !important; }`\n",
       "     so we also need the `!important` here to be able to override the\n",
       "     default hidden behavior on the sphinx rendered scikit-learn.org.\n",
       "     See: https://github.com/scikit-learn/scikit-learn/issues/21755 */\n",
       "  display: inline-block !important;\n",
       "  position: relative;\n",
       "}\n",
       "\n",
       "#sk-container-id-2 div.sk-text-repr-fallback {\n",
       "  display: none;\n",
       "}\n",
       "\n",
       "div.sk-parallel-item,\n",
       "div.sk-serial,\n",
       "div.sk-item {\n",
       "  /* draw centered vertical line to link estimators */\n",
       "  background-image: linear-gradient(var(--sklearn-color-text-on-default-background), var(--sklearn-color-text-on-default-background));\n",
       "  background-size: 2px 100%;\n",
       "  background-repeat: no-repeat;\n",
       "  background-position: center center;\n",
       "}\n",
       "\n",
       "/* Parallel-specific style estimator block */\n",
       "\n",
       "#sk-container-id-2 div.sk-parallel-item::after {\n",
       "  content: \"\";\n",
       "  width: 100%;\n",
       "  border-bottom: 2px solid var(--sklearn-color-text-on-default-background);\n",
       "  flex-grow: 1;\n",
       "}\n",
       "\n",
       "#sk-container-id-2 div.sk-parallel {\n",
       "  display: flex;\n",
       "  align-items: stretch;\n",
       "  justify-content: center;\n",
       "  background-color: var(--sklearn-color-background);\n",
       "  position: relative;\n",
       "}\n",
       "\n",
       "#sk-container-id-2 div.sk-parallel-item {\n",
       "  display: flex;\n",
       "  flex-direction: column;\n",
       "}\n",
       "\n",
       "#sk-container-id-2 div.sk-parallel-item:first-child::after {\n",
       "  align-self: flex-end;\n",
       "  width: 50%;\n",
       "}\n",
       "\n",
       "#sk-container-id-2 div.sk-parallel-item:last-child::after {\n",
       "  align-self: flex-start;\n",
       "  width: 50%;\n",
       "}\n",
       "\n",
       "#sk-container-id-2 div.sk-parallel-item:only-child::after {\n",
       "  width: 0;\n",
       "}\n",
       "\n",
       "/* Serial-specific style estimator block */\n",
       "\n",
       "#sk-container-id-2 div.sk-serial {\n",
       "  display: flex;\n",
       "  flex-direction: column;\n",
       "  align-items: center;\n",
       "  background-color: var(--sklearn-color-background);\n",
       "  padding-right: 1em;\n",
       "  padding-left: 1em;\n",
       "}\n",
       "\n",
       "\n",
       "/* Toggleable style: style used for estimator/Pipeline/ColumnTransformer box that is\n",
       "clickable and can be expanded/collapsed.\n",
       "- Pipeline and ColumnTransformer use this feature and define the default style\n",
       "- Estimators will overwrite some part of the style using the `sk-estimator` class\n",
       "*/\n",
       "\n",
       "/* Pipeline and ColumnTransformer style (default) */\n",
       "\n",
       "#sk-container-id-2 div.sk-toggleable {\n",
       "  /* Default theme specific background. It is overwritten whether we have a\n",
       "  specific estimator or a Pipeline/ColumnTransformer */\n",
       "  background-color: var(--sklearn-color-background);\n",
       "}\n",
       "\n",
       "/* Toggleable label */\n",
       "#sk-container-id-2 label.sk-toggleable__label {\n",
       "  cursor: pointer;\n",
       "  display: flex;\n",
       "  width: 100%;\n",
       "  margin-bottom: 0;\n",
       "  padding: 0.5em;\n",
       "  box-sizing: border-box;\n",
       "  text-align: center;\n",
       "  align-items: start;\n",
       "  justify-content: space-between;\n",
       "  gap: 0.5em;\n",
       "}\n",
       "\n",
       "#sk-container-id-2 label.sk-toggleable__label .caption {\n",
       "  font-size: 0.6rem;\n",
       "  font-weight: lighter;\n",
       "  color: var(--sklearn-color-text-muted);\n",
       "}\n",
       "\n",
       "#sk-container-id-2 label.sk-toggleable__label-arrow:before {\n",
       "  /* Arrow on the left of the label */\n",
       "  content: \"▸\";\n",
       "  float: left;\n",
       "  margin-right: 0.25em;\n",
       "  color: var(--sklearn-color-icon);\n",
       "}\n",
       "\n",
       "#sk-container-id-2 label.sk-toggleable__label-arrow:hover:before {\n",
       "  color: var(--sklearn-color-text);\n",
       "}\n",
       "\n",
       "/* Toggleable content - dropdown */\n",
       "\n",
       "#sk-container-id-2 div.sk-toggleable__content {\n",
       "  max-height: 0;\n",
       "  max-width: 0;\n",
       "  overflow: hidden;\n",
       "  text-align: left;\n",
       "  /* unfitted */\n",
       "  background-color: var(--sklearn-color-unfitted-level-0);\n",
       "}\n",
       "\n",
       "#sk-container-id-2 div.sk-toggleable__content.fitted {\n",
       "  /* fitted */\n",
       "  background-color: var(--sklearn-color-fitted-level-0);\n",
       "}\n",
       "\n",
       "#sk-container-id-2 div.sk-toggleable__content pre {\n",
       "  margin: 0.2em;\n",
       "  border-radius: 0.25em;\n",
       "  color: var(--sklearn-color-text);\n",
       "  /* unfitted */\n",
       "  background-color: var(--sklearn-color-unfitted-level-0);\n",
       "}\n",
       "\n",
       "#sk-container-id-2 div.sk-toggleable__content.fitted pre {\n",
       "  /* unfitted */\n",
       "  background-color: var(--sklearn-color-fitted-level-0);\n",
       "}\n",
       "\n",
       "#sk-container-id-2 input.sk-toggleable__control:checked~div.sk-toggleable__content {\n",
       "  /* Expand drop-down */\n",
       "  max-height: 200px;\n",
       "  max-width: 100%;\n",
       "  overflow: auto;\n",
       "}\n",
       "\n",
       "#sk-container-id-2 input.sk-toggleable__control:checked~label.sk-toggleable__label-arrow:before {\n",
       "  content: \"▾\";\n",
       "}\n",
       "\n",
       "/* Pipeline/ColumnTransformer-specific style */\n",
       "\n",
       "#sk-container-id-2 div.sk-label input.sk-toggleable__control:checked~label.sk-toggleable__label {\n",
       "  color: var(--sklearn-color-text);\n",
       "  background-color: var(--sklearn-color-unfitted-level-2);\n",
       "}\n",
       "\n",
       "#sk-container-id-2 div.sk-label.fitted input.sk-toggleable__control:checked~label.sk-toggleable__label {\n",
       "  background-color: var(--sklearn-color-fitted-level-2);\n",
       "}\n",
       "\n",
       "/* Estimator-specific style */\n",
       "\n",
       "/* Colorize estimator box */\n",
       "#sk-container-id-2 div.sk-estimator input.sk-toggleable__control:checked~label.sk-toggleable__label {\n",
       "  /* unfitted */\n",
       "  background-color: var(--sklearn-color-unfitted-level-2);\n",
       "}\n",
       "\n",
       "#sk-container-id-2 div.sk-estimator.fitted input.sk-toggleable__control:checked~label.sk-toggleable__label {\n",
       "  /* fitted */\n",
       "  background-color: var(--sklearn-color-fitted-level-2);\n",
       "}\n",
       "\n",
       "#sk-container-id-2 div.sk-label label.sk-toggleable__label,\n",
       "#sk-container-id-2 div.sk-label label {\n",
       "  /* The background is the default theme color */\n",
       "  color: var(--sklearn-color-text-on-default-background);\n",
       "}\n",
       "\n",
       "/* On hover, darken the color of the background */\n",
       "#sk-container-id-2 div.sk-label:hover label.sk-toggleable__label {\n",
       "  color: var(--sklearn-color-text);\n",
       "  background-color: var(--sklearn-color-unfitted-level-2);\n",
       "}\n",
       "\n",
       "/* Label box, darken color on hover, fitted */\n",
       "#sk-container-id-2 div.sk-label.fitted:hover label.sk-toggleable__label.fitted {\n",
       "  color: var(--sklearn-color-text);\n",
       "  background-color: var(--sklearn-color-fitted-level-2);\n",
       "}\n",
       "\n",
       "/* Estimator label */\n",
       "\n",
       "#sk-container-id-2 div.sk-label label {\n",
       "  font-family: monospace;\n",
       "  font-weight: bold;\n",
       "  display: inline-block;\n",
       "  line-height: 1.2em;\n",
       "}\n",
       "\n",
       "#sk-container-id-2 div.sk-label-container {\n",
       "  text-align: center;\n",
       "}\n",
       "\n",
       "/* Estimator-specific */\n",
       "#sk-container-id-2 div.sk-estimator {\n",
       "  font-family: monospace;\n",
       "  border: 1px dotted var(--sklearn-color-border-box);\n",
       "  border-radius: 0.25em;\n",
       "  box-sizing: border-box;\n",
       "  margin-bottom: 0.5em;\n",
       "  /* unfitted */\n",
       "  background-color: var(--sklearn-color-unfitted-level-0);\n",
       "}\n",
       "\n",
       "#sk-container-id-2 div.sk-estimator.fitted {\n",
       "  /* fitted */\n",
       "  background-color: var(--sklearn-color-fitted-level-0);\n",
       "}\n",
       "\n",
       "/* on hover */\n",
       "#sk-container-id-2 div.sk-estimator:hover {\n",
       "  /* unfitted */\n",
       "  background-color: var(--sklearn-color-unfitted-level-2);\n",
       "}\n",
       "\n",
       "#sk-container-id-2 div.sk-estimator.fitted:hover {\n",
       "  /* fitted */\n",
       "  background-color: var(--sklearn-color-fitted-level-2);\n",
       "}\n",
       "\n",
       "/* Specification for estimator info (e.g. \"i\" and \"?\") */\n",
       "\n",
       "/* Common style for \"i\" and \"?\" */\n",
       "\n",
       ".sk-estimator-doc-link,\n",
       "a:link.sk-estimator-doc-link,\n",
       "a:visited.sk-estimator-doc-link {\n",
       "  float: right;\n",
       "  font-size: smaller;\n",
       "  line-height: 1em;\n",
       "  font-family: monospace;\n",
       "  background-color: var(--sklearn-color-background);\n",
       "  border-radius: 1em;\n",
       "  height: 1em;\n",
       "  width: 1em;\n",
       "  text-decoration: none !important;\n",
       "  margin-left: 0.5em;\n",
       "  text-align: center;\n",
       "  /* unfitted */\n",
       "  border: var(--sklearn-color-unfitted-level-1) 1pt solid;\n",
       "  color: var(--sklearn-color-unfitted-level-1);\n",
       "}\n",
       "\n",
       ".sk-estimator-doc-link.fitted,\n",
       "a:link.sk-estimator-doc-link.fitted,\n",
       "a:visited.sk-estimator-doc-link.fitted {\n",
       "  /* fitted */\n",
       "  border: var(--sklearn-color-fitted-level-1) 1pt solid;\n",
       "  color: var(--sklearn-color-fitted-level-1);\n",
       "}\n",
       "\n",
       "/* On hover */\n",
       "div.sk-estimator:hover .sk-estimator-doc-link:hover,\n",
       ".sk-estimator-doc-link:hover,\n",
       "div.sk-label-container:hover .sk-estimator-doc-link:hover,\n",
       ".sk-estimator-doc-link:hover {\n",
       "  /* unfitted */\n",
       "  background-color: var(--sklearn-color-unfitted-level-3);\n",
       "  color: var(--sklearn-color-background);\n",
       "  text-decoration: none;\n",
       "}\n",
       "\n",
       "div.sk-estimator.fitted:hover .sk-estimator-doc-link.fitted:hover,\n",
       ".sk-estimator-doc-link.fitted:hover,\n",
       "div.sk-label-container:hover .sk-estimator-doc-link.fitted:hover,\n",
       ".sk-estimator-doc-link.fitted:hover {\n",
       "  /* fitted */\n",
       "  background-color: var(--sklearn-color-fitted-level-3);\n",
       "  color: var(--sklearn-color-background);\n",
       "  text-decoration: none;\n",
       "}\n",
       "\n",
       "/* Span, style for the box shown on hovering the info icon */\n",
       ".sk-estimator-doc-link span {\n",
       "  display: none;\n",
       "  z-index: 9999;\n",
       "  position: relative;\n",
       "  font-weight: normal;\n",
       "  right: .2ex;\n",
       "  padding: .5ex;\n",
       "  margin: .5ex;\n",
       "  width: min-content;\n",
       "  min-width: 20ex;\n",
       "  max-width: 50ex;\n",
       "  color: var(--sklearn-color-text);\n",
       "  box-shadow: 2pt 2pt 4pt #999;\n",
       "  /* unfitted */\n",
       "  background: var(--sklearn-color-unfitted-level-0);\n",
       "  border: .5pt solid var(--sklearn-color-unfitted-level-3);\n",
       "}\n",
       "\n",
       ".sk-estimator-doc-link.fitted span {\n",
       "  /* fitted */\n",
       "  background: var(--sklearn-color-fitted-level-0);\n",
       "  border: var(--sklearn-color-fitted-level-3);\n",
       "}\n",
       "\n",
       ".sk-estimator-doc-link:hover span {\n",
       "  display: block;\n",
       "}\n",
       "\n",
       "/* \"?\"-specific style due to the `<a>` HTML tag */\n",
       "\n",
       "#sk-container-id-2 a.estimator_doc_link {\n",
       "  float: right;\n",
       "  font-size: 1rem;\n",
       "  line-height: 1em;\n",
       "  font-family: monospace;\n",
       "  background-color: var(--sklearn-color-background);\n",
       "  border-radius: 1rem;\n",
       "  height: 1rem;\n",
       "  width: 1rem;\n",
       "  text-decoration: none;\n",
       "  /* unfitted */\n",
       "  color: var(--sklearn-color-unfitted-level-1);\n",
       "  border: var(--sklearn-color-unfitted-level-1) 1pt solid;\n",
       "}\n",
       "\n",
       "#sk-container-id-2 a.estimator_doc_link.fitted {\n",
       "  /* fitted */\n",
       "  border: var(--sklearn-color-fitted-level-1) 1pt solid;\n",
       "  color: var(--sklearn-color-fitted-level-1);\n",
       "}\n",
       "\n",
       "/* On hover */\n",
       "#sk-container-id-2 a.estimator_doc_link:hover {\n",
       "  /* unfitted */\n",
       "  background-color: var(--sklearn-color-unfitted-level-3);\n",
       "  color: var(--sklearn-color-background);\n",
       "  text-decoration: none;\n",
       "}\n",
       "\n",
       "#sk-container-id-2 a.estimator_doc_link.fitted:hover {\n",
       "  /* fitted */\n",
       "  background-color: var(--sklearn-color-fitted-level-3);\n",
       "}\n",
       "</style><div id=\"sk-container-id-2\" class=\"sk-top-container\"><div class=\"sk-text-repr-fallback\"><pre>LogisticRegression()</pre><b>In a Jupyter environment, please rerun this cell to show the HTML representation or trust the notebook. <br />On GitHub, the HTML representation is unable to render, please try loading this page with nbviewer.org.</b></div><div class=\"sk-container\" hidden><div class=\"sk-item\"><div class=\"sk-estimator fitted sk-toggleable\"><input class=\"sk-toggleable__control sk-hidden--visually\" id=\"sk-estimator-id-2\" type=\"checkbox\" checked><label for=\"sk-estimator-id-2\" class=\"sk-toggleable__label fitted sk-toggleable__label-arrow\"><div><div>LogisticRegression</div></div><div><a class=\"sk-estimator-doc-link fitted\" rel=\"noreferrer\" target=\"_blank\" href=\"https://scikit-learn.org/1.6/modules/generated/sklearn.linear_model.LogisticRegression.html\">?<span>Documentation for LogisticRegression</span></a><span class=\"sk-estimator-doc-link fitted\">i<span>Fitted</span></span></div></label><div class=\"sk-toggleable__content fitted\"><pre>LogisticRegression()</pre></div> </div></div></div></div>"
      ],
      "text/plain": [
       "LogisticRegression()"
      ]
     },
     "execution_count": 21,
     "metadata": {},
     "output_type": "execute_result"
    }
   ],
   "source": [
    "from sklearn.linear_model import LogisticRegression\n",
    "model = LogisticRegression()\n",
    "model.fit(X_train, y_train)"
   ]
  },
  {
   "cell_type": "code",
   "execution_count": 25,
   "id": "29397a0b",
   "metadata": {},
   "outputs": [
    {
     "data": {
      "text/plain": [
       "1.0"
      ]
     },
     "execution_count": 25,
     "metadata": {},
     "output_type": "execute_result"
    }
   ],
   "source": [
    "y_pred = model.predict(X_test)\n",
    "from sklearn.metrics import accuracy_score\n",
    "accuracy_score(y_pred, y_test)"
   ]
  },
  {
   "cell_type": "code",
   "execution_count": null,
   "id": "e77413ef",
   "metadata": {},
   "outputs": [],
   "source": []
  },
  {
   "cell_type": "code",
   "execution_count": null,
   "id": "4dd879d7",
   "metadata": {},
   "outputs": [],
   "source": []
  },
  {
   "cell_type": "code",
   "execution_count": null,
   "id": "bd3d2a17",
   "metadata": {},
   "outputs": [],
   "source": []
  },
  {
   "cell_type": "code",
   "execution_count": null,
   "id": "5acedfd4",
   "metadata": {},
   "outputs": [],
   "source": []
  }
 ],
 "metadata": {
  "kernelspec": {
   "display_name": "Python 3",
   "language": "python",
   "name": "python3"
  },
  "language_info": {
   "codemirror_mode": {
    "name": "ipython",
    "version": 3
   },
   "file_extension": ".py",
   "mimetype": "text/x-python",
   "name": "python",
   "nbconvert_exporter": "python",
   "pygments_lexer": "ipython3",
   "version": "3.12.0"
  }
 },
 "nbformat": 4,
 "nbformat_minor": 5
}
